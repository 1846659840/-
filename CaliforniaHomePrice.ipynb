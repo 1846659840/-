{
 "cells": [
  {
   "cell_type": "markdown",
   "id": "8f75ea19",
   "metadata": {},
   "source": [
    "California房价预测数据集"
   ]
  },
  {
   "cell_type": "code",
   "execution_count": 1,
   "id": "73fb3a58",
   "metadata": {},
   "outputs": [],
   "source": [
    "import numpy as np\n",
    "import matplotlib.pyplot as plt\n",
    "import pandas as pd \n",
    "import seaborn as sns\n",
    "from sklearn.datasets import fetch_california_housing"
   ]
  },
  {
   "cell_type": "code",
   "execution_count": 2,
   "id": "057bdfc1",
   "metadata": {},
   "outputs": [],
   "source": [
    "california_dataset=fetch_california_housing()"
   ]
  },
  {
   "cell_type": "code",
   "execution_count": 3,
   "id": "7c92bd2e",
   "metadata": {},
   "outputs": [
    {
     "name": "stdout",
     "output_type": "stream",
     "text": [
      "dict_keys(['data', 'target', 'frame', 'target_names', 'feature_names', 'DESCR'])\n"
     ]
    }
   ],
   "source": [
    "print(california_dataset.keys())"
   ]
  },
  {
   "cell_type": "code",
   "execution_count": 4,
   "id": "4e7c6d53",
   "metadata": {},
   "outputs": [
    {
     "name": "stdout",
     "output_type": "stream",
     "text": [
      ".. _california_housing_dataset:\n",
      "\n",
      "California Housing dataset\n",
      "--------------------------\n",
      "\n",
      "**Data Set Characteristics:**\n",
      "\n",
      "    :Number of Instances: 20640\n",
      "\n",
      "    :Number of Attributes: 8 numeric, predictive attributes and the target\n",
      "\n",
      "    :Attribute Information:\n",
      "        - MedInc        median income in block group\n",
      "        - HouseAge      median house age in block group\n",
      "        - AveRooms      average number of rooms per household\n",
      "        - AveBedrms     average number of bedrooms per household\n",
      "        - Population    block group population\n",
      "        - AveOccup      average number of household members\n",
      "        - Latitude      block group latitude\n",
      "        - Longitude     block group longitude\n",
      "\n",
      "    :Missing Attribute Values: None\n",
      "\n",
      "This dataset was obtained from the StatLib repository.\n",
      "https://www.dcc.fc.up.pt/~ltorgo/Regression/cal_housing.html\n",
      "\n",
      "The target variable is the median house value for California districts,\n",
      "expressed in hundreds of thousands of dollars ($100,000).\n",
      "\n",
      "This dataset was derived from the 1990 U.S. census, using one row per census\n",
      "block group. A block group is the smallest geographical unit for which the U.S.\n",
      "Census Bureau publishes sample data (a block group typically has a population\n",
      "of 600 to 3,000 people).\n",
      "\n",
      "An household is a group of people residing within a home. Since the average\n",
      "number of rooms and bedrooms in this dataset are provided per household, these\n",
      "columns may take surpinsingly large values for block groups with few households\n",
      "and many empty houses, such as vacation resorts.\n",
      "\n",
      "It can be downloaded/loaded using the\n",
      ":func:`sklearn.datasets.fetch_california_housing` function.\n",
      "\n",
      ".. topic:: References\n",
      "\n",
      "    - Pace, R. Kelley and Ronald Barry, Sparse Spatial Autoregressions,\n",
      "      Statistics and Probability Letters, 33 (1997) 291-297\n",
      "\n"
     ]
    }
   ],
   "source": [
    "print(california_dataset.DESCR)"
   ]
  },
  {
   "cell_type": "code",
   "execution_count": 5,
   "id": "0b02f516",
   "metadata": {},
   "outputs": [
    {
     "data": {
      "text/html": [
       "<div>\n",
       "<style scoped>\n",
       "    .dataframe tbody tr th:only-of-type {\n",
       "        vertical-align: middle;\n",
       "    }\n",
       "\n",
       "    .dataframe tbody tr th {\n",
       "        vertical-align: top;\n",
       "    }\n",
       "\n",
       "    .dataframe thead th {\n",
       "        text-align: right;\n",
       "    }\n",
       "</style>\n",
       "<table border=\"1\" class=\"dataframe\">\n",
       "  <thead>\n",
       "    <tr style=\"text-align: right;\">\n",
       "      <th></th>\n",
       "      <th>MedInc</th>\n",
       "      <th>HouseAge</th>\n",
       "      <th>AveRooms</th>\n",
       "      <th>AveBedrms</th>\n",
       "      <th>Population</th>\n",
       "      <th>AveOccup</th>\n",
       "      <th>Latitude</th>\n",
       "      <th>Longitude</th>\n",
       "    </tr>\n",
       "  </thead>\n",
       "  <tbody>\n",
       "    <tr>\n",
       "      <th>0</th>\n",
       "      <td>8.3252</td>\n",
       "      <td>41.0</td>\n",
       "      <td>6.984127</td>\n",
       "      <td>1.023810</td>\n",
       "      <td>322.0</td>\n",
       "      <td>2.555556</td>\n",
       "      <td>37.88</td>\n",
       "      <td>-122.23</td>\n",
       "    </tr>\n",
       "    <tr>\n",
       "      <th>1</th>\n",
       "      <td>8.3014</td>\n",
       "      <td>21.0</td>\n",
       "      <td>6.238137</td>\n",
       "      <td>0.971880</td>\n",
       "      <td>2401.0</td>\n",
       "      <td>2.109842</td>\n",
       "      <td>37.86</td>\n",
       "      <td>-122.22</td>\n",
       "    </tr>\n",
       "    <tr>\n",
       "      <th>2</th>\n",
       "      <td>7.2574</td>\n",
       "      <td>52.0</td>\n",
       "      <td>8.288136</td>\n",
       "      <td>1.073446</td>\n",
       "      <td>496.0</td>\n",
       "      <td>2.802260</td>\n",
       "      <td>37.85</td>\n",
       "      <td>-122.24</td>\n",
       "    </tr>\n",
       "    <tr>\n",
       "      <th>3</th>\n",
       "      <td>5.6431</td>\n",
       "      <td>52.0</td>\n",
       "      <td>5.817352</td>\n",
       "      <td>1.073059</td>\n",
       "      <td>558.0</td>\n",
       "      <td>2.547945</td>\n",
       "      <td>37.85</td>\n",
       "      <td>-122.25</td>\n",
       "    </tr>\n",
       "    <tr>\n",
       "      <th>4</th>\n",
       "      <td>3.8462</td>\n",
       "      <td>52.0</td>\n",
       "      <td>6.281853</td>\n",
       "      <td>1.081081</td>\n",
       "      <td>565.0</td>\n",
       "      <td>2.181467</td>\n",
       "      <td>37.85</td>\n",
       "      <td>-122.25</td>\n",
       "    </tr>\n",
       "  </tbody>\n",
       "</table>\n",
       "</div>"
      ],
      "text/plain": [
       "   MedInc  HouseAge  AveRooms  AveBedrms  Population  AveOccup  Latitude  \\\n",
       "0  8.3252      41.0  6.984127   1.023810       322.0  2.555556     37.88   \n",
       "1  8.3014      21.0  6.238137   0.971880      2401.0  2.109842     37.86   \n",
       "2  7.2574      52.0  8.288136   1.073446       496.0  2.802260     37.85   \n",
       "3  5.6431      52.0  5.817352   1.073059       558.0  2.547945     37.85   \n",
       "4  3.8462      52.0  6.281853   1.081081       565.0  2.181467     37.85   \n",
       "\n",
       "   Longitude  \n",
       "0    -122.23  \n",
       "1    -122.22  \n",
       "2    -122.24  \n",
       "3    -122.25  \n",
       "4    -122.25  "
      ]
     },
     "execution_count": 5,
     "metadata": {},
     "output_type": "execute_result"
    }
   ],
   "source": [
    "california = pd.DataFrame(california_dataset.data, columns=california_dataset.feature_names)\n",
    "california.head()"
   ]
  },
  {
   "cell_type": "code",
   "execution_count": 6,
   "id": "b65e3e74",
   "metadata": {},
   "outputs": [],
   "source": [
    "california['HomePrice']=california_dataset.target"
   ]
  },
  {
   "cell_type": "code",
   "execution_count": 7,
   "id": "671b2edc",
   "metadata": {},
   "outputs": [
    {
     "data": {
      "text/html": [
       "<div>\n",
       "<style scoped>\n",
       "    .dataframe tbody tr th:only-of-type {\n",
       "        vertical-align: middle;\n",
       "    }\n",
       "\n",
       "    .dataframe tbody tr th {\n",
       "        vertical-align: top;\n",
       "    }\n",
       "\n",
       "    .dataframe thead th {\n",
       "        text-align: right;\n",
       "    }\n",
       "</style>\n",
       "<table border=\"1\" class=\"dataframe\">\n",
       "  <thead>\n",
       "    <tr style=\"text-align: right;\">\n",
       "      <th></th>\n",
       "      <th>MedInc</th>\n",
       "      <th>HouseAge</th>\n",
       "      <th>AveRooms</th>\n",
       "      <th>AveBedrms</th>\n",
       "      <th>Population</th>\n",
       "      <th>AveOccup</th>\n",
       "      <th>Latitude</th>\n",
       "      <th>Longitude</th>\n",
       "      <th>HomePrice</th>\n",
       "    </tr>\n",
       "  </thead>\n",
       "  <tbody>\n",
       "    <tr>\n",
       "      <th>0</th>\n",
       "      <td>8.3252</td>\n",
       "      <td>41.0</td>\n",
       "      <td>6.984127</td>\n",
       "      <td>1.023810</td>\n",
       "      <td>322.0</td>\n",
       "      <td>2.555556</td>\n",
       "      <td>37.88</td>\n",
       "      <td>-122.23</td>\n",
       "      <td>4.526</td>\n",
       "    </tr>\n",
       "    <tr>\n",
       "      <th>1</th>\n",
       "      <td>8.3014</td>\n",
       "      <td>21.0</td>\n",
       "      <td>6.238137</td>\n",
       "      <td>0.971880</td>\n",
       "      <td>2401.0</td>\n",
       "      <td>2.109842</td>\n",
       "      <td>37.86</td>\n",
       "      <td>-122.22</td>\n",
       "      <td>3.585</td>\n",
       "    </tr>\n",
       "    <tr>\n",
       "      <th>2</th>\n",
       "      <td>7.2574</td>\n",
       "      <td>52.0</td>\n",
       "      <td>8.288136</td>\n",
       "      <td>1.073446</td>\n",
       "      <td>496.0</td>\n",
       "      <td>2.802260</td>\n",
       "      <td>37.85</td>\n",
       "      <td>-122.24</td>\n",
       "      <td>3.521</td>\n",
       "    </tr>\n",
       "    <tr>\n",
       "      <th>3</th>\n",
       "      <td>5.6431</td>\n",
       "      <td>52.0</td>\n",
       "      <td>5.817352</td>\n",
       "      <td>1.073059</td>\n",
       "      <td>558.0</td>\n",
       "      <td>2.547945</td>\n",
       "      <td>37.85</td>\n",
       "      <td>-122.25</td>\n",
       "      <td>3.413</td>\n",
       "    </tr>\n",
       "    <tr>\n",
       "      <th>4</th>\n",
       "      <td>3.8462</td>\n",
       "      <td>52.0</td>\n",
       "      <td>6.281853</td>\n",
       "      <td>1.081081</td>\n",
       "      <td>565.0</td>\n",
       "      <td>2.181467</td>\n",
       "      <td>37.85</td>\n",
       "      <td>-122.25</td>\n",
       "      <td>3.422</td>\n",
       "    </tr>\n",
       "    <tr>\n",
       "      <th>...</th>\n",
       "      <td>...</td>\n",
       "      <td>...</td>\n",
       "      <td>...</td>\n",
       "      <td>...</td>\n",
       "      <td>...</td>\n",
       "      <td>...</td>\n",
       "      <td>...</td>\n",
       "      <td>...</td>\n",
       "      <td>...</td>\n",
       "    </tr>\n",
       "    <tr>\n",
       "      <th>20635</th>\n",
       "      <td>1.5603</td>\n",
       "      <td>25.0</td>\n",
       "      <td>5.045455</td>\n",
       "      <td>1.133333</td>\n",
       "      <td>845.0</td>\n",
       "      <td>2.560606</td>\n",
       "      <td>39.48</td>\n",
       "      <td>-121.09</td>\n",
       "      <td>0.781</td>\n",
       "    </tr>\n",
       "    <tr>\n",
       "      <th>20636</th>\n",
       "      <td>2.5568</td>\n",
       "      <td>18.0</td>\n",
       "      <td>6.114035</td>\n",
       "      <td>1.315789</td>\n",
       "      <td>356.0</td>\n",
       "      <td>3.122807</td>\n",
       "      <td>39.49</td>\n",
       "      <td>-121.21</td>\n",
       "      <td>0.771</td>\n",
       "    </tr>\n",
       "    <tr>\n",
       "      <th>20637</th>\n",
       "      <td>1.7000</td>\n",
       "      <td>17.0</td>\n",
       "      <td>5.205543</td>\n",
       "      <td>1.120092</td>\n",
       "      <td>1007.0</td>\n",
       "      <td>2.325635</td>\n",
       "      <td>39.43</td>\n",
       "      <td>-121.22</td>\n",
       "      <td>0.923</td>\n",
       "    </tr>\n",
       "    <tr>\n",
       "      <th>20638</th>\n",
       "      <td>1.8672</td>\n",
       "      <td>18.0</td>\n",
       "      <td>5.329513</td>\n",
       "      <td>1.171920</td>\n",
       "      <td>741.0</td>\n",
       "      <td>2.123209</td>\n",
       "      <td>39.43</td>\n",
       "      <td>-121.32</td>\n",
       "      <td>0.847</td>\n",
       "    </tr>\n",
       "    <tr>\n",
       "      <th>20639</th>\n",
       "      <td>2.3886</td>\n",
       "      <td>16.0</td>\n",
       "      <td>5.254717</td>\n",
       "      <td>1.162264</td>\n",
       "      <td>1387.0</td>\n",
       "      <td>2.616981</td>\n",
       "      <td>39.37</td>\n",
       "      <td>-121.24</td>\n",
       "      <td>0.894</td>\n",
       "    </tr>\n",
       "  </tbody>\n",
       "</table>\n",
       "<p>20640 rows × 9 columns</p>\n",
       "</div>"
      ],
      "text/plain": [
       "       MedInc  HouseAge  AveRooms  AveBedrms  Population  AveOccup  Latitude  \\\n",
       "0      8.3252      41.0  6.984127   1.023810       322.0  2.555556     37.88   \n",
       "1      8.3014      21.0  6.238137   0.971880      2401.0  2.109842     37.86   \n",
       "2      7.2574      52.0  8.288136   1.073446       496.0  2.802260     37.85   \n",
       "3      5.6431      52.0  5.817352   1.073059       558.0  2.547945     37.85   \n",
       "4      3.8462      52.0  6.281853   1.081081       565.0  2.181467     37.85   \n",
       "...       ...       ...       ...        ...         ...       ...       ...   \n",
       "20635  1.5603      25.0  5.045455   1.133333       845.0  2.560606     39.48   \n",
       "20636  2.5568      18.0  6.114035   1.315789       356.0  3.122807     39.49   \n",
       "20637  1.7000      17.0  5.205543   1.120092      1007.0  2.325635     39.43   \n",
       "20638  1.8672      18.0  5.329513   1.171920       741.0  2.123209     39.43   \n",
       "20639  2.3886      16.0  5.254717   1.162264      1387.0  2.616981     39.37   \n",
       "\n",
       "       Longitude  HomePrice  \n",
       "0        -122.23      4.526  \n",
       "1        -122.22      3.585  \n",
       "2        -122.24      3.521  \n",
       "3        -122.25      3.413  \n",
       "4        -122.25      3.422  \n",
       "...          ...        ...  \n",
       "20635    -121.09      0.781  \n",
       "20636    -121.21      0.771  \n",
       "20637    -121.22      0.923  \n",
       "20638    -121.32      0.847  \n",
       "20639    -121.24      0.894  \n",
       "\n",
       "[20640 rows x 9 columns]"
      ]
     },
     "execution_count": 7,
     "metadata": {},
     "output_type": "execute_result"
    }
   ],
   "source": [
    "california"
   ]
  },
  {
   "cell_type": "code",
   "execution_count": 8,
   "id": "c76752eb",
   "metadata": {},
   "outputs": [
    {
     "data": {
      "text/plain": [
       "MedInc        0\n",
       "HouseAge      0\n",
       "AveRooms      0\n",
       "AveBedrms     0\n",
       "Population    0\n",
       "AveOccup      0\n",
       "Latitude      0\n",
       "Longitude     0\n",
       "HomePrice     0\n",
       "dtype: int64"
      ]
     },
     "execution_count": 8,
     "metadata": {},
     "output_type": "execute_result"
    }
   ],
   "source": [
    "california.isnull().sum()"
   ]
  },
  {
   "cell_type": "code",
   "execution_count": 9,
   "id": "73a6d15a",
   "metadata": {},
   "outputs": [
    {
     "name": "stderr",
     "output_type": "stream",
     "text": [
      "C:\\Users\\User\\anaconda3\\lib\\site-packages\\seaborn\\distributions.py:2619: FutureWarning: `distplot` is a deprecated function and will be removed in a future version. Please adapt your code to use either `displot` (a figure-level function with similar flexibility) or `histplot` (an axes-level function for histograms).\n",
      "  warnings.warn(msg, FutureWarning)\n"
     ]
    },
    {
     "data": {
      "image/png": "[encoded data removed]",
      "text/plain": [
       "<Figure size 1000x1000 with 1 Axes>"
      ]
     },
     "metadata": {},
     "output_type": "display_data"
    }
   ],
   "source": [
    "sns.set(rc={'figure.figsize':(10,10)})\n",
    "sns.distplot(california['HomePrice'])\n",
    "plt.show()"
   ]
  },
  {
   "cell_type": "code",
   "execution_count": 10,
   "id": "02f3b462",
   "metadata": {},
   "outputs": [
    {
     "data": {
      "text/html": [
       "<div>\n",
       "<style scoped>\n",
       "    .dataframe tbody tr th:only-of-type {\n",
       "        vertical-align: middle;\n",
       "    }\n",
       "\n",
       "    .dataframe tbody tr th {\n",
       "        vertical-align: top;\n",
       "    }\n",
       "\n",
       "    .dataframe thead th {\n",
       "        text-align: right;\n",
       "    }\n",
       "</style>\n",
       "<table border=\"1\" class=\"dataframe\">\n",
       "  <thead>\n",
       "    <tr style=\"text-align: right;\">\n",
       "      <th></th>\n",
       "      <th>MedInc</th>\n",
       "      <th>HouseAge</th>\n",
       "      <th>AveRooms</th>\n",
       "      <th>AveBedrms</th>\n",
       "      <th>Population</th>\n",
       "      <th>AveOccup</th>\n",
       "      <th>Latitude</th>\n",
       "      <th>Longitude</th>\n",
       "      <th>HomePrice</th>\n",
       "    </tr>\n",
       "  </thead>\n",
       "  <tbody>\n",
       "    <tr>\n",
       "      <th>count</th>\n",
       "      <td>20640.000000</td>\n",
       "      <td>20640.000000</td>\n",
       "      <td>20640.000000</td>\n",
       "      <td>20640.000000</td>\n",
       "      <td>20640.000000</td>\n",
       "      <td>20640.000000</td>\n",
       "      <td>20640.000000</td>\n",
       "      <td>20640.000000</td>\n",
       "      <td>20640.000000</td>\n",
       "    </tr>\n",
       "    <tr>\n",
       "      <th>mean</th>\n",
       "      <td>3.870671</td>\n",
       "      <td>28.639486</td>\n",
       "      <td>5.429000</td>\n",
       "      <td>1.096675</td>\n",
       "      <td>1425.476744</td>\n",
       "      <td>3.070655</td>\n",
       "      <td>35.631861</td>\n",
       "      <td>-119.569704</td>\n",
       "      <td>2.068558</td>\n",
       "    </tr>\n",
       "    <tr>\n",
       "      <th>std</th>\n",
       "      <td>1.899822</td>\n",
       "      <td>12.585558</td>\n",
       "      <td>2.474173</td>\n",
       "      <td>0.473911</td>\n",
       "      <td>1132.462122</td>\n",
       "      <td>10.386050</td>\n",
       "      <td>2.135952</td>\n",
       "      <td>2.003532</td>\n",
       "      <td>1.153956</td>\n",
       "    </tr>\n",
       "    <tr>\n",
       "      <th>min</th>\n",
       "      <td>0.499900</td>\n",
       "      <td>1.000000</td>\n",
       "      <td>0.846154</td>\n",
       "      <td>0.333333</td>\n",
       "      <td>3.000000</td>\n",
       "      <td>0.692308</td>\n",
       "      <td>32.540000</td>\n",
       "      <td>-124.350000</td>\n",
       "      <td>0.149990</td>\n",
       "    </tr>\n",
       "    <tr>\n",
       "      <th>25%</th>\n",
       "      <td>2.563400</td>\n",
       "      <td>18.000000</td>\n",
       "      <td>4.440716</td>\n",
       "      <td>1.006079</td>\n",
       "      <td>787.000000</td>\n",
       "      <td>2.429741</td>\n",
       "      <td>33.930000</td>\n",
       "      <td>-121.800000</td>\n",
       "      <td>1.196000</td>\n",
       "    </tr>\n",
       "    <tr>\n",
       "      <th>50%</th>\n",
       "      <td>3.534800</td>\n",
       "      <td>29.000000</td>\n",
       "      <td>5.229129</td>\n",
       "      <td>1.048780</td>\n",
       "      <td>1166.000000</td>\n",
       "      <td>2.818116</td>\n",
       "      <td>34.260000</td>\n",
       "      <td>-118.490000</td>\n",
       "      <td>1.797000</td>\n",
       "    </tr>\n",
       "    <tr>\n",
       "      <th>75%</th>\n",
       "      <td>4.743250</td>\n",
       "      <td>37.000000</td>\n",
       "      <td>6.052381</td>\n",
       "      <td>1.099526</td>\n",
       "      <td>1725.000000</td>\n",
       "      <td>3.282261</td>\n",
       "      <td>37.710000</td>\n",
       "      <td>-118.010000</td>\n",
       "      <td>2.647250</td>\n",
       "    </tr>\n",
       "    <tr>\n",
       "      <th>max</th>\n",
       "      <td>15.000100</td>\n",
       "      <td>52.000000</td>\n",
       "      <td>141.909091</td>\n",
       "      <td>34.066667</td>\n",
       "      <td>35682.000000</td>\n",
       "      <td>1243.333333</td>\n",
       "      <td>41.950000</td>\n",
       "      <td>-114.310000</td>\n",
       "      <td>5.000010</td>\n",
       "    </tr>\n",
       "  </tbody>\n",
       "</table>\n",
       "</div>"
      ],
      "text/plain": [
       "             MedInc      HouseAge      AveRooms     AveBedrms    Population  \\\n",
       "count  20640.000000  20640.000000  20640.000000  20640.000000  20640.000000   \n",
       "mean       3.870671     28.639486      5.429000      1.096675   1425.476744   \n",
       "std        1.899822     12.585558      2.474173      0.473911   1132.462122   \n",
       "min        0.499900      1.000000      0.846154      0.333333      3.000000   \n",
       "25%        2.563400     18.000000      4.440716      1.006079    787.000000   \n",
       "50%        3.534800     29.000000      5.229129      1.048780   1166.000000   \n",
       "75%        4.743250     37.000000      6.052381      1.099526   1725.000000   \n",
       "max       15.000100     52.000000    141.909091     34.066667  35682.000000   \n",
       "\n",
       "           AveOccup      Latitude     Longitude     HomePrice  \n",
       "count  20640.000000  20640.000000  20640.000000  20640.000000  \n",
       "mean       3.070655     35.631861   -119.569704      2.068558  \n",
       "std       10.386050      2.135952      2.003532      1.153956  \n",
       "min        0.692308     32.540000   -124.350000      0.149990  \n",
       "25%        2.429741     33.930000   -121.800000      1.196000  \n",
       "50%        2.818116     34.260000   -118.490000      1.797000  \n",
       "75%        3.282261     37.710000   -118.010000      2.647250  \n",
       "max     1243.333333     41.950000   -114.310000      5.000010  "
      ]
     },
     "execution_count": 10,
     "metadata": {},
     "output_type": "execute_result"
    }
   ],
   "source": [
    "california.describe()"
   ]
  },
  {
   "cell_type": "code",
   "execution_count": null,
   "id": "0160b311",
   "metadata": {},
   "outputs": [],
   "source": []
  },
  {
   "cell_type": "code",
   "execution_count": 11,
   "id": "d00996c0",
   "metadata": {},
   "outputs": [],
   "source": [
    "X1=california[[\t'MedInc','HouseAge','AveRooms','AveBedrms','Population','AveOccup','Latitude','Longitude']].values\n",
    "y =california['HomePrice'].values\n",
    "X1 = (X1 - np.mean(X1,axis=0)) / np.std(X1,axis=0)"
   ]
  },
  {
   "cell_type": "code",
   "execution_count": null,
   "id": "3d7065bc",
   "metadata": {},
   "outputs": [],
   "source": []
  },
  {
   "cell_type": "code",
   "execution_count": 12,
   "id": "2af49a46",
   "metadata": {},
   "outputs": [],
   "source": [
    "from sklearn import model_selection"
   ]
  },
  {
   "cell_type": "code",
   "execution_count": 13,
   "id": "f02d1e1a",
   "metadata": {},
   "outputs": [
    {
     "data": {
      "text/html": [
       "<div>\n",
       "<style scoped>\n",
       "    .dataframe tbody tr th:only-of-type {\n",
       "        vertical-align: middle;\n",
       "    }\n",
       "\n",
       "    .dataframe tbody tr th {\n",
       "        vertical-align: top;\n",
       "    }\n",
       "\n",
       "    .dataframe thead th {\n",
       "        text-align: right;\n",
       "    }\n",
       "</style>\n",
       "<table border=\"1\" class=\"dataframe\">\n",
       "  <thead>\n",
       "    <tr style=\"text-align: right;\">\n",
       "      <th></th>\n",
       "      <th>MedInc</th>\n",
       "      <th>HouseAge</th>\n",
       "      <th>AveRooms</th>\n",
       "      <th>AveBedrms</th>\n",
       "      <th>Population</th>\n",
       "      <th>AveOccup</th>\n",
       "      <th>Latitude</th>\n",
       "      <th>Longitude</th>\n",
       "      <th>y</th>\n",
       "    </tr>\n",
       "  </thead>\n",
       "  <tbody>\n",
       "    <tr>\n",
       "      <th>0</th>\n",
       "      <td>2.344766</td>\n",
       "      <td>0.982143</td>\n",
       "      <td>0.628559</td>\n",
       "      <td>-0.153758</td>\n",
       "      <td>-0.974429</td>\n",
       "      <td>-0.049597</td>\n",
       "      <td>1.052548</td>\n",
       "      <td>-1.327835</td>\n",
       "      <td>4.526</td>\n",
       "    </tr>\n",
       "    <tr>\n",
       "      <th>1</th>\n",
       "      <td>2.332238</td>\n",
       "      <td>-0.607019</td>\n",
       "      <td>0.327041</td>\n",
       "      <td>-0.263336</td>\n",
       "      <td>0.861439</td>\n",
       "      <td>-0.092512</td>\n",
       "      <td>1.043185</td>\n",
       "      <td>-1.322844</td>\n",
       "      <td>3.585</td>\n",
       "    </tr>\n",
       "    <tr>\n",
       "      <th>2</th>\n",
       "      <td>1.782699</td>\n",
       "      <td>1.856182</td>\n",
       "      <td>1.155620</td>\n",
       "      <td>-0.049016</td>\n",
       "      <td>-0.820777</td>\n",
       "      <td>-0.025843</td>\n",
       "      <td>1.038503</td>\n",
       "      <td>-1.332827</td>\n",
       "      <td>3.521</td>\n",
       "    </tr>\n",
       "    <tr>\n",
       "      <th>3</th>\n",
       "      <td>0.932968</td>\n",
       "      <td>1.856182</td>\n",
       "      <td>0.156966</td>\n",
       "      <td>-0.049833</td>\n",
       "      <td>-0.766028</td>\n",
       "      <td>-0.050329</td>\n",
       "      <td>1.038503</td>\n",
       "      <td>-1.337818</td>\n",
       "      <td>3.413</td>\n",
       "    </tr>\n",
       "    <tr>\n",
       "      <th>4</th>\n",
       "      <td>-0.012881</td>\n",
       "      <td>1.856182</td>\n",
       "      <td>0.344711</td>\n",
       "      <td>-0.032906</td>\n",
       "      <td>-0.759847</td>\n",
       "      <td>-0.085616</td>\n",
       "      <td>1.038503</td>\n",
       "      <td>-1.337818</td>\n",
       "      <td>3.422</td>\n",
       "    </tr>\n",
       "    <tr>\n",
       "      <th>...</th>\n",
       "      <td>...</td>\n",
       "      <td>...</td>\n",
       "      <td>...</td>\n",
       "      <td>...</td>\n",
       "      <td>...</td>\n",
       "      <td>...</td>\n",
       "      <td>...</td>\n",
       "      <td>...</td>\n",
       "      <td>...</td>\n",
       "    </tr>\n",
       "    <tr>\n",
       "      <th>20635</th>\n",
       "      <td>-1.216128</td>\n",
       "      <td>-0.289187</td>\n",
       "      <td>-0.155023</td>\n",
       "      <td>0.077354</td>\n",
       "      <td>-0.512592</td>\n",
       "      <td>-0.049110</td>\n",
       "      <td>1.801647</td>\n",
       "      <td>-0.758826</td>\n",
       "      <td>0.781</td>\n",
       "    </tr>\n",
       "    <tr>\n",
       "      <th>20636</th>\n",
       "      <td>-0.691593</td>\n",
       "      <td>-0.845393</td>\n",
       "      <td>0.276881</td>\n",
       "      <td>0.462365</td>\n",
       "      <td>-0.944405</td>\n",
       "      <td>0.005021</td>\n",
       "      <td>1.806329</td>\n",
       "      <td>-0.818722</td>\n",
       "      <td>0.771</td>\n",
       "    </tr>\n",
       "    <tr>\n",
       "      <th>20637</th>\n",
       "      <td>-1.142593</td>\n",
       "      <td>-0.924851</td>\n",
       "      <td>-0.090318</td>\n",
       "      <td>0.049414</td>\n",
       "      <td>-0.369537</td>\n",
       "      <td>-0.071735</td>\n",
       "      <td>1.778237</td>\n",
       "      <td>-0.823713</td>\n",
       "      <td>0.923</td>\n",
       "    </tr>\n",
       "    <tr>\n",
       "      <th>20638</th>\n",
       "      <td>-1.054583</td>\n",
       "      <td>-0.845393</td>\n",
       "      <td>-0.040211</td>\n",
       "      <td>0.158778</td>\n",
       "      <td>-0.604429</td>\n",
       "      <td>-0.091225</td>\n",
       "      <td>1.778237</td>\n",
       "      <td>-0.873626</td>\n",
       "      <td>0.847</td>\n",
       "    </tr>\n",
       "    <tr>\n",
       "      <th>20639</th>\n",
       "      <td>-0.780129</td>\n",
       "      <td>-1.004309</td>\n",
       "      <td>-0.070443</td>\n",
       "      <td>0.138403</td>\n",
       "      <td>-0.033977</td>\n",
       "      <td>-0.043682</td>\n",
       "      <td>1.750146</td>\n",
       "      <td>-0.833696</td>\n",
       "      <td>0.894</td>\n",
       "    </tr>\n",
       "  </tbody>\n",
       "</table>\n",
       "<p>20640 rows × 9 columns</p>\n",
       "</div>"
      ],
      "text/plain": [
       "         MedInc  HouseAge  AveRooms  AveBedrms  Population  AveOccup  \\\n",
       "0      2.344766  0.982143  0.628559  -0.153758   -0.974429 -0.049597   \n",
       "1      2.332238 -0.607019  0.327041  -0.263336    0.861439 -0.092512   \n",
       "2      1.782699  1.856182  1.155620  -0.049016   -0.820777 -0.025843   \n",
       "3      0.932968  1.856182  0.156966  -0.049833   -0.766028 -0.050329   \n",
       "4     -0.012881  1.856182  0.344711  -0.032906   -0.759847 -0.085616   \n",
       "...         ...       ...       ...        ...         ...       ...   \n",
       "20635 -1.216128 -0.289187 -0.155023   0.077354   -0.512592 -0.049110   \n",
       "20636 -0.691593 -0.845393  0.276881   0.462365   -0.944405  0.005021   \n",
       "20637 -1.142593 -0.924851 -0.090318   0.049414   -0.369537 -0.071735   \n",
       "20638 -1.054583 -0.845393 -0.040211   0.158778   -0.604429 -0.091225   \n",
       "20639 -0.780129 -1.004309 -0.070443   0.138403   -0.033977 -0.043682   \n",
       "\n",
       "       Latitude  Longitude      y  \n",
       "0      1.052548  -1.327835  4.526  \n",
       "1      1.043185  -1.322844  3.585  \n",
       "2      1.038503  -1.332827  3.521  \n",
       "3      1.038503  -1.337818  3.413  \n",
       "4      1.038503  -1.337818  3.422  \n",
       "...         ...        ...    ...  \n",
       "20635  1.801647  -0.758826  0.781  \n",
       "20636  1.806329  -0.818722  0.771  \n",
       "20637  1.778237  -0.823713  0.923  \n",
       "20638  1.778237  -0.873626  0.847  \n",
       "20639  1.750146  -0.833696  0.894  \n",
       "\n",
       "[20640 rows x 9 columns]"
      ]
     },
     "execution_count": 13,
     "metadata": {},
     "output_type": "execute_result"
    }
   ],
   "source": [
    "df2=pd.DataFrame(X1,columns=['MedInc','HouseAge','AveRooms','AveBedrms','Population','AveOccup','Latitude','Longitude'])\n",
    "df2['y']=y\n",
    "df2"
   ]
  },
  {
   "cell_type": "code",
   "execution_count": 14,
   "id": "c07f6720",
   "metadata": {},
   "outputs": [],
   "source": [
    "from sklearn import model_selection"
   ]
  },
  {
   "cell_type": "code",
   "execution_count": 15,
   "id": "ab085fa5",
   "metadata": {},
   "outputs": [],
   "source": [
    "X = df2[['MedInc','HouseAge','AveRooms','AveBedrms','Population','AveOccup','Latitude','Longitude']]\n",
    "y = df2['y']"
   ]
  },
  {
   "cell_type": "code",
   "execution_count": 16,
   "id": "b1b90271",
   "metadata": {},
   "outputs": [],
   "source": [
    "X_train, X_test, y_train, y_test = model_selection.train_test_split(X, y, test_size = 0.2, random_state = 1000)"
   ]
  },
  {
   "cell_type": "code",
   "execution_count": 17,
   "id": "691bfb02",
   "metadata": {},
   "outputs": [
    {
     "data": {
      "text/html": [
       "<div>\n",
       "<style scoped>\n",
       "    .dataframe tbody tr th:only-of-type {\n",
       "        vertical-align: middle;\n",
       "    }\n",
       "\n",
       "    .dataframe tbody tr th {\n",
       "        vertical-align: top;\n",
       "    }\n",
       "\n",
       "    .dataframe thead th {\n",
       "        text-align: right;\n",
       "    }\n",
       "</style>\n",
       "<table border=\"1\" class=\"dataframe\">\n",
       "  <thead>\n",
       "    <tr style=\"text-align: right;\">\n",
       "      <th></th>\n",
       "      <th>MedInc</th>\n",
       "      <th>HouseAge</th>\n",
       "      <th>AveRooms</th>\n",
       "      <th>AveBedrms</th>\n",
       "      <th>Population</th>\n",
       "      <th>AveOccup</th>\n",
       "      <th>Latitude</th>\n",
       "      <th>Longitude</th>\n",
       "    </tr>\n",
       "  </thead>\n",
       "  <tbody>\n",
       "    <tr>\n",
       "      <th>11115</th>\n",
       "      <td>0.331265</td>\n",
       "      <td>-0.448103</td>\n",
       "      <td>-0.239789</td>\n",
       "      <td>-0.070214</td>\n",
       "      <td>-0.453427</td>\n",
       "      <td>-0.042598</td>\n",
       "      <td>-0.838925</td>\n",
       "      <td>0.848375</td>\n",
       "    </tr>\n",
       "    <tr>\n",
       "      <th>17110</th>\n",
       "      <td>5.858286</td>\n",
       "      <td>0.902685</td>\n",
       "      <td>1.275423</td>\n",
       "      <td>-0.203999</td>\n",
       "      <td>-0.749250</td>\n",
       "      <td>-0.027270</td>\n",
       "      <td>0.855910</td>\n",
       "      <td>-1.317853</td>\n",
       "    </tr>\n",
       "    <tr>\n",
       "      <th>14847</th>\n",
       "      <td>-0.494201</td>\n",
       "      <td>-0.209729</td>\n",
       "      <td>-0.009017</td>\n",
       "      <td>-0.029392</td>\n",
       "      <td>0.645091</td>\n",
       "      <td>0.069818</td>\n",
       "      <td>-1.382022</td>\n",
       "      <td>1.242688</td>\n",
       "    </tr>\n",
       "    <tr>\n",
       "      <th>7263</th>\n",
       "      <td>-0.884036</td>\n",
       "      <td>0.664310</td>\n",
       "      <td>-1.214950</td>\n",
       "      <td>0.066533</td>\n",
       "      <td>-0.628272</td>\n",
       "      <td>0.145032</td>\n",
       "      <td>-0.768697</td>\n",
       "      <td>0.668688</td>\n",
       "    </tr>\n",
       "    <tr>\n",
       "      <th>19411</th>\n",
       "      <td>0.987974</td>\n",
       "      <td>-0.765935</td>\n",
       "      <td>1.057493</td>\n",
       "      <td>0.160606</td>\n",
       "      <td>-0.011901</td>\n",
       "      <td>-0.002020</td>\n",
       "      <td>0.982320</td>\n",
       "      <td>-0.698931</td>\n",
       "    </tr>\n",
       "    <tr>\n",
       "      <th>...</th>\n",
       "      <td>...</td>\n",
       "      <td>...</td>\n",
       "      <td>...</td>\n",
       "      <td>...</td>\n",
       "      <td>...</td>\n",
       "      <td>...</td>\n",
       "      <td>...</td>\n",
       "      <td>...</td>\n",
       "    </tr>\n",
       "    <tr>\n",
       "      <th>9476</th>\n",
       "      <td>-0.899144</td>\n",
       "      <td>-0.845393</td>\n",
       "      <td>0.023902</td>\n",
       "      <td>0.160807</td>\n",
       "      <td>-0.460492</td>\n",
       "      <td>-0.000602</td>\n",
       "      <td>1.773556</td>\n",
       "      <td>-1.886862</td>\n",
       "    </tr>\n",
       "    <tr>\n",
       "      <th>16140</th>\n",
       "      <td>-0.332182</td>\n",
       "      <td>1.856182</td>\n",
       "      <td>-0.568863</td>\n",
       "      <td>-0.030222</td>\n",
       "      <td>-0.022497</td>\n",
       "      <td>-0.031346</td>\n",
       "      <td>1.005730</td>\n",
       "      <td>-1.442635</td>\n",
       "    </tr>\n",
       "    <tr>\n",
       "      <th>1187</th>\n",
       "      <td>-0.665116</td>\n",
       "      <td>-0.209729</td>\n",
       "      <td>0.071822</td>\n",
       "      <td>-0.062734</td>\n",
       "      <td>-0.674191</td>\n",
       "      <td>-0.028961</td>\n",
       "      <td>1.782919</td>\n",
       "      <td>-0.978444</td>\n",
       "    </tr>\n",
       "    <tr>\n",
       "      <th>17543</th>\n",
       "      <td>-0.554787</td>\n",
       "      <td>1.856182</td>\n",
       "      <td>-0.518575</td>\n",
       "      <td>-0.168060</td>\n",
       "      <td>-0.079013</td>\n",
       "      <td>0.017327</td>\n",
       "      <td>0.804409</td>\n",
       "      <td>-1.153139</td>\n",
       "    </tr>\n",
       "    <tr>\n",
       "      <th>11441</th>\n",
       "      <td>-0.212010</td>\n",
       "      <td>-0.845393</td>\n",
       "      <td>-0.638858</td>\n",
       "      <td>-0.076882</td>\n",
       "      <td>0.676881</td>\n",
       "      <td>-0.083754</td>\n",
       "      <td>-0.890426</td>\n",
       "      <td>0.793470</td>\n",
       "    </tr>\n",
       "  </tbody>\n",
       "</table>\n",
       "<p>4128 rows × 8 columns</p>\n",
       "</div>"
      ],
      "text/plain": [
       "         MedInc  HouseAge  AveRooms  AveBedrms  Population  AveOccup  \\\n",
       "11115  0.331265 -0.448103 -0.239789  -0.070214   -0.453427 -0.042598   \n",
       "17110  5.858286  0.902685  1.275423  -0.203999   -0.749250 -0.027270   \n",
       "14847 -0.494201 -0.209729 -0.009017  -0.029392    0.645091  0.069818   \n",
       "7263  -0.884036  0.664310 -1.214950   0.066533   -0.628272  0.145032   \n",
       "19411  0.987974 -0.765935  1.057493   0.160606   -0.011901 -0.002020   \n",
       "...         ...       ...       ...        ...         ...       ...   \n",
       "9476  -0.899144 -0.845393  0.023902   0.160807   -0.460492 -0.000602   \n",
       "16140 -0.332182  1.856182 -0.568863  -0.030222   -0.022497 -0.031346   \n",
       "1187  -0.665116 -0.209729  0.071822  -0.062734   -0.674191 -0.028961   \n",
       "17543 -0.554787  1.856182 -0.518575  -0.168060   -0.079013  0.017327   \n",
       "11441 -0.212010 -0.845393 -0.638858  -0.076882    0.676881 -0.083754   \n",
       "\n",
       "       Latitude  Longitude  \n",
       "11115 -0.838925   0.848375  \n",
       "17110  0.855910  -1.317853  \n",
       "14847 -1.382022   1.242688  \n",
       "7263  -0.768697   0.668688  \n",
       "19411  0.982320  -0.698931  \n",
       "...         ...        ...  \n",
       "9476   1.773556  -1.886862  \n",
       "16140  1.005730  -1.442635  \n",
       "1187   1.782919  -0.978444  \n",
       "17543  0.804409  -1.153139  \n",
       "11441 -0.890426   0.793470  \n",
       "\n",
       "[4128 rows x 8 columns]"
      ]
     },
     "execution_count": 17,
     "metadata": {},
     "output_type": "execute_result"
    }
   ],
   "source": [
    "X_test"
   ]
  },
  {
   "cell_type": "code",
   "execution_count": 18,
   "id": "14914ee0",
   "metadata": {},
   "outputs": [],
   "source": [
    "from sklearn.svm import SVR"
   ]
  },
  {
   "cell_type": "code",
   "execution_count": 19,
   "id": "6cccc4ea",
   "metadata": {},
   "outputs": [],
   "source": [
    "linear_svr = SVR(kernel='linear')\n",
    "linear_svr.fit(X_train, y_train)\n",
    "linear_svr_y_predict = linear_svr.predict(X_test)"
   ]
  },
  {
   "cell_type": "code",
   "execution_count": 20,
   "id": "047897a3",
   "metadata": {},
   "outputs": [
    {
     "name": "stdout",
     "output_type": "stream",
     "text": [
      "0.5780924474492461\n"
     ]
    }
   ],
   "source": [
    "from sklearn.metrics import r2_score, mean_absolute_error, mean_squared_error\n",
    "print (linear_svr.score(X_test, y_test))"
   ]
  },
  {
   "cell_type": "code",
   "execution_count": 21,
   "id": "1d6fb2b2",
   "metadata": {},
   "outputs": [],
   "source": [
    "Adjusted_R2=1 - (1-linear_svr.score(X_test, y_test))*(len(y_test)-1)/(len(y_test)-X_test.shape[1]-1)"
   ]
  },
  {
   "cell_type": "code",
   "execution_count": 22,
   "id": "28cf666f",
   "metadata": {},
   "outputs": [
    {
     "data": {
      "text/plain": [
       "0.5772730105906868"
      ]
     },
     "execution_count": 22,
     "metadata": {},
     "output_type": "execute_result"
    }
   ],
   "source": [
    "Adjusted_R2"
   ]
  },
  {
   "cell_type": "markdown",
   "id": "0344ffae",
   "metadata": {},
   "source": [
    "DO Lime"
   ]
  },
  {
   "cell_type": "code",
   "execution_count": 23,
   "id": "6a4ba3b5",
   "metadata": {},
   "outputs": [],
   "source": [
    "num_perturb = 20640\n",
    "X_limePart1 = np.random.normal(0,1,size=(num_perturb,X1.shape[1]))"
   ]
  },
  {
   "cell_type": "code",
   "execution_count": 24,
   "id": "03084b7b",
   "metadata": {},
   "outputs": [
    {
     "data": {
      "text/plain": [
       "array([[-0.51650712, -0.80079637,  0.60476185, ..., -0.42141561,\n",
       "         0.5848958 ,  1.45916968],\n",
       "       [-1.75747386,  0.49387389,  0.17506107, ..., -2.35333192,\n",
       "        -0.69566237, -0.84818443],\n",
       "       [-1.07725245,  3.94610037, -0.37240462, ...,  0.81898045,\n",
       "        -0.34784935, -0.68100971],\n",
       "       ...,\n",
       "       [-0.24837704, -1.41087779,  0.45698846, ..., -1.83480379,\n",
       "         0.25485552,  1.19045985],\n",
       "       [-0.06479602, -0.10978882,  0.92740087, ...,  0.37584635,\n",
       "        -0.54605555,  0.03427008],\n",
       "       [ 0.35653677,  1.78632551, -1.52297069, ...,  0.8931213 ,\n",
       "         0.6390937 , -0.11263751]])"
      ]
     },
     "execution_count": 24,
     "metadata": {},
     "output_type": "execute_result"
    }
   ],
   "source": [
    "X_limePart1"
   ]
  },
  {
   "cell_type": "code",
   "execution_count": 25,
   "id": "95e0ae70",
   "metadata": {},
   "outputs": [],
   "source": [
    "X_limePart2=(X_limePart1)*np.std(X1,axis=0)+X"
   ]
  },
  {
   "cell_type": "code",
   "execution_count": 26,
   "id": "7892201f",
   "metadata": {},
   "outputs": [],
   "source": [
    "dfX_limePart1=pd.DataFrame(X_limePart1,columns=['MedInc','HouseAge','AveRooms','AveBedrms','Population','AveOccup','Latitude','Longitude'])"
   ]
  },
  {
   "cell_type": "code",
   "execution_count": 27,
   "id": "8dbd82ae",
   "metadata": {},
   "outputs": [
    {
     "data": {
      "text/html": [
       "<div>\n",
       "<style scoped>\n",
       "    .dataframe tbody tr th:only-of-type {\n",
       "        vertical-align: middle;\n",
       "    }\n",
       "\n",
       "    .dataframe tbody tr th {\n",
       "        vertical-align: top;\n",
       "    }\n",
       "\n",
       "    .dataframe thead th {\n",
       "        text-align: right;\n",
       "    }\n",
       "</style>\n",
       "<table border=\"1\" class=\"dataframe\">\n",
       "  <thead>\n",
       "    <tr style=\"text-align: right;\">\n",
       "      <th></th>\n",
       "      <th>MedInc</th>\n",
       "      <th>HouseAge</th>\n",
       "      <th>AveRooms</th>\n",
       "      <th>AveBedrms</th>\n",
       "      <th>Population</th>\n",
       "      <th>AveOccup</th>\n",
       "      <th>Latitude</th>\n",
       "      <th>Longitude</th>\n",
       "    </tr>\n",
       "  </thead>\n",
       "  <tbody>\n",
       "    <tr>\n",
       "      <th>0</th>\n",
       "      <td>-0.516507</td>\n",
       "      <td>-0.800796</td>\n",
       "      <td>0.604762</td>\n",
       "      <td>-1.186993</td>\n",
       "      <td>-0.440632</td>\n",
       "      <td>-0.421416</td>\n",
       "      <td>0.584896</td>\n",
       "      <td>1.459170</td>\n",
       "    </tr>\n",
       "    <tr>\n",
       "      <th>1</th>\n",
       "      <td>-1.757474</td>\n",
       "      <td>0.493874</td>\n",
       "      <td>0.175061</td>\n",
       "      <td>-1.693553</td>\n",
       "      <td>-1.321991</td>\n",
       "      <td>-2.353332</td>\n",
       "      <td>-0.695662</td>\n",
       "      <td>-0.848184</td>\n",
       "    </tr>\n",
       "    <tr>\n",
       "      <th>2</th>\n",
       "      <td>-1.077252</td>\n",
       "      <td>3.946100</td>\n",
       "      <td>-0.372405</td>\n",
       "      <td>-0.832832</td>\n",
       "      <td>-0.079730</td>\n",
       "      <td>0.818980</td>\n",
       "      <td>-0.347849</td>\n",
       "      <td>-0.681010</td>\n",
       "    </tr>\n",
       "    <tr>\n",
       "      <th>3</th>\n",
       "      <td>0.460171</td>\n",
       "      <td>0.064627</td>\n",
       "      <td>0.198663</td>\n",
       "      <td>-1.038245</td>\n",
       "      <td>0.051290</td>\n",
       "      <td>-0.315941</td>\n",
       "      <td>0.673229</td>\n",
       "      <td>-1.851435</td>\n",
       "    </tr>\n",
       "    <tr>\n",
       "      <th>4</th>\n",
       "      <td>-0.138278</td>\n",
       "      <td>2.217073</td>\n",
       "      <td>1.150060</td>\n",
       "      <td>-0.200818</td>\n",
       "      <td>-0.846057</td>\n",
       "      <td>-0.260063</td>\n",
       "      <td>-0.686149</td>\n",
       "      <td>1.018974</td>\n",
       "    </tr>\n",
       "    <tr>\n",
       "      <th>...</th>\n",
       "      <td>...</td>\n",
       "      <td>...</td>\n",
       "      <td>...</td>\n",
       "      <td>...</td>\n",
       "      <td>...</td>\n",
       "      <td>...</td>\n",
       "      <td>...</td>\n",
       "      <td>...</td>\n",
       "    </tr>\n",
       "    <tr>\n",
       "      <th>20635</th>\n",
       "      <td>0.263500</td>\n",
       "      <td>0.727112</td>\n",
       "      <td>-0.226633</td>\n",
       "      <td>-1.568691</td>\n",
       "      <td>-0.846325</td>\n",
       "      <td>-1.324322</td>\n",
       "      <td>1.413422</td>\n",
       "      <td>1.925334</td>\n",
       "    </tr>\n",
       "    <tr>\n",
       "      <th>20636</th>\n",
       "      <td>-0.651042</td>\n",
       "      <td>-1.094797</td>\n",
       "      <td>-0.939280</td>\n",
       "      <td>-0.900795</td>\n",
       "      <td>-1.286988</td>\n",
       "      <td>1.329850</td>\n",
       "      <td>0.711191</td>\n",
       "      <td>-0.800845</td>\n",
       "    </tr>\n",
       "    <tr>\n",
       "      <th>20637</th>\n",
       "      <td>-0.248377</td>\n",
       "      <td>-1.410878</td>\n",
       "      <td>0.456988</td>\n",
       "      <td>-0.291246</td>\n",
       "      <td>0.698991</td>\n",
       "      <td>-1.834804</td>\n",
       "      <td>0.254856</td>\n",
       "      <td>1.190460</td>\n",
       "    </tr>\n",
       "    <tr>\n",
       "      <th>20638</th>\n",
       "      <td>-0.064796</td>\n",
       "      <td>-0.109789</td>\n",
       "      <td>0.927401</td>\n",
       "      <td>0.566130</td>\n",
       "      <td>-0.876935</td>\n",
       "      <td>0.375846</td>\n",
       "      <td>-0.546056</td>\n",
       "      <td>0.034270</td>\n",
       "    </tr>\n",
       "    <tr>\n",
       "      <th>20639</th>\n",
       "      <td>0.356537</td>\n",
       "      <td>1.786326</td>\n",
       "      <td>-1.522971</td>\n",
       "      <td>-0.417485</td>\n",
       "      <td>-0.051061</td>\n",
       "      <td>0.893121</td>\n",
       "      <td>0.639094</td>\n",
       "      <td>-0.112638</td>\n",
       "    </tr>\n",
       "  </tbody>\n",
       "</table>\n",
       "<p>20640 rows × 8 columns</p>\n",
       "</div>"
      ],
      "text/plain": [
       "         MedInc  HouseAge  AveRooms  AveBedrms  Population  AveOccup  \\\n",
       "0     -0.516507 -0.800796  0.604762  -1.186993   -0.440632 -0.421416   \n",
       "1     -1.757474  0.493874  0.175061  -1.693553   -1.321991 -2.353332   \n",
       "2     -1.077252  3.946100 -0.372405  -0.832832   -0.079730  0.818980   \n",
       "3      0.460171  0.064627  0.198663  -1.038245    0.051290 -0.315941   \n",
       "4     -0.138278  2.217073  1.150060  -0.200818   -0.846057 -0.260063   \n",
       "...         ...       ...       ...        ...         ...       ...   \n",
       "20635  0.263500  0.727112 -0.226633  -1.568691   -0.846325 -1.324322   \n",
       "20636 -0.651042 -1.094797 -0.939280  -0.900795   -1.286988  1.329850   \n",
       "20637 -0.248377 -1.410878  0.456988  -0.291246    0.698991 -1.834804   \n",
       "20638 -0.064796 -0.109789  0.927401   0.566130   -0.876935  0.375846   \n",
       "20639  0.356537  1.786326 -1.522971  -0.417485   -0.051061  0.893121   \n",
       "\n",
       "       Latitude  Longitude  \n",
       "0      0.584896   1.459170  \n",
       "1     -0.695662  -0.848184  \n",
       "2     -0.347849  -0.681010  \n",
       "3      0.673229  -1.851435  \n",
       "4     -0.686149   1.018974  \n",
       "...         ...        ...  \n",
       "20635  1.413422   1.925334  \n",
       "20636  0.711191  -0.800845  \n",
       "20637  0.254856   1.190460  \n",
       "20638 -0.546056   0.034270  \n",
       "20639  0.639094  -0.112638  \n",
       "\n",
       "[20640 rows x 8 columns]"
      ]
     },
     "execution_count": 27,
     "metadata": {},
     "output_type": "execute_result"
    }
   ],
   "source": [
    "dfX_limePart1"
   ]
  },
  {
   "cell_type": "code",
   "execution_count": 28,
   "id": "a19208a4",
   "metadata": {},
   "outputs": [],
   "source": [
    "result=dfX_limePart1"
   ]
  },
  {
   "cell_type": "code",
   "execution_count": 29,
   "id": "df390401",
   "metadata": {},
   "outputs": [
    {
     "data": {
      "text/html": [
       "<div>\n",
       "<style scoped>\n",
       "    .dataframe tbody tr th:only-of-type {\n",
       "        vertical-align: middle;\n",
       "    }\n",
       "\n",
       "    .dataframe tbody tr th {\n",
       "        vertical-align: top;\n",
       "    }\n",
       "\n",
       "    .dataframe thead th {\n",
       "        text-align: right;\n",
       "    }\n",
       "</style>\n",
       "<table border=\"1\" class=\"dataframe\">\n",
       "  <thead>\n",
       "    <tr style=\"text-align: right;\">\n",
       "      <th></th>\n",
       "      <th>MedInc</th>\n",
       "      <th>HouseAge</th>\n",
       "      <th>AveRooms</th>\n",
       "      <th>AveBedrms</th>\n",
       "      <th>Population</th>\n",
       "      <th>AveOccup</th>\n",
       "      <th>Latitude</th>\n",
       "      <th>Longitude</th>\n",
       "    </tr>\n",
       "  </thead>\n",
       "  <tbody>\n",
       "    <tr>\n",
       "      <th>0</th>\n",
       "      <td>-0.516507</td>\n",
       "      <td>-0.800796</td>\n",
       "      <td>0.604762</td>\n",
       "      <td>-1.186993</td>\n",
       "      <td>-0.440632</td>\n",
       "      <td>-0.421416</td>\n",
       "      <td>0.584896</td>\n",
       "      <td>1.459170</td>\n",
       "    </tr>\n",
       "    <tr>\n",
       "      <th>1</th>\n",
       "      <td>-1.757474</td>\n",
       "      <td>0.493874</td>\n",
       "      <td>0.175061</td>\n",
       "      <td>-1.693553</td>\n",
       "      <td>-1.321991</td>\n",
       "      <td>-2.353332</td>\n",
       "      <td>-0.695662</td>\n",
       "      <td>-0.848184</td>\n",
       "    </tr>\n",
       "    <tr>\n",
       "      <th>2</th>\n",
       "      <td>-1.077252</td>\n",
       "      <td>3.946100</td>\n",
       "      <td>-0.372405</td>\n",
       "      <td>-0.832832</td>\n",
       "      <td>-0.079730</td>\n",
       "      <td>0.818980</td>\n",
       "      <td>-0.347849</td>\n",
       "      <td>-0.681010</td>\n",
       "    </tr>\n",
       "    <tr>\n",
       "      <th>3</th>\n",
       "      <td>0.460171</td>\n",
       "      <td>0.064627</td>\n",
       "      <td>0.198663</td>\n",
       "      <td>-1.038245</td>\n",
       "      <td>0.051290</td>\n",
       "      <td>-0.315941</td>\n",
       "      <td>0.673229</td>\n",
       "      <td>-1.851435</td>\n",
       "    </tr>\n",
       "    <tr>\n",
       "      <th>4</th>\n",
       "      <td>-0.138278</td>\n",
       "      <td>2.217073</td>\n",
       "      <td>1.150060</td>\n",
       "      <td>-0.200818</td>\n",
       "      <td>-0.846057</td>\n",
       "      <td>-0.260063</td>\n",
       "      <td>-0.686149</td>\n",
       "      <td>1.018974</td>\n",
       "    </tr>\n",
       "    <tr>\n",
       "      <th>...</th>\n",
       "      <td>...</td>\n",
       "      <td>...</td>\n",
       "      <td>...</td>\n",
       "      <td>...</td>\n",
       "      <td>...</td>\n",
       "      <td>...</td>\n",
       "      <td>...</td>\n",
       "      <td>...</td>\n",
       "    </tr>\n",
       "    <tr>\n",
       "      <th>20635</th>\n",
       "      <td>0.263500</td>\n",
       "      <td>0.727112</td>\n",
       "      <td>-0.226633</td>\n",
       "      <td>-1.568691</td>\n",
       "      <td>-0.846325</td>\n",
       "      <td>-1.324322</td>\n",
       "      <td>1.413422</td>\n",
       "      <td>1.925334</td>\n",
       "    </tr>\n",
       "    <tr>\n",
       "      <th>20636</th>\n",
       "      <td>-0.651042</td>\n",
       "      <td>-1.094797</td>\n",
       "      <td>-0.939280</td>\n",
       "      <td>-0.900795</td>\n",
       "      <td>-1.286988</td>\n",
       "      <td>1.329850</td>\n",
       "      <td>0.711191</td>\n",
       "      <td>-0.800845</td>\n",
       "    </tr>\n",
       "    <tr>\n",
       "      <th>20637</th>\n",
       "      <td>-0.248377</td>\n",
       "      <td>-1.410878</td>\n",
       "      <td>0.456988</td>\n",
       "      <td>-0.291246</td>\n",
       "      <td>0.698991</td>\n",
       "      <td>-1.834804</td>\n",
       "      <td>0.254856</td>\n",
       "      <td>1.190460</td>\n",
       "    </tr>\n",
       "    <tr>\n",
       "      <th>20638</th>\n",
       "      <td>-0.064796</td>\n",
       "      <td>-0.109789</td>\n",
       "      <td>0.927401</td>\n",
       "      <td>0.566130</td>\n",
       "      <td>-0.876935</td>\n",
       "      <td>0.375846</td>\n",
       "      <td>-0.546056</td>\n",
       "      <td>0.034270</td>\n",
       "    </tr>\n",
       "    <tr>\n",
       "      <th>20639</th>\n",
       "      <td>0.356537</td>\n",
       "      <td>1.786326</td>\n",
       "      <td>-1.522971</td>\n",
       "      <td>-0.417485</td>\n",
       "      <td>-0.051061</td>\n",
       "      <td>0.893121</td>\n",
       "      <td>0.639094</td>\n",
       "      <td>-0.112638</td>\n",
       "    </tr>\n",
       "  </tbody>\n",
       "</table>\n",
       "<p>20640 rows × 8 columns</p>\n",
       "</div>"
      ],
      "text/plain": [
       "         MedInc  HouseAge  AveRooms  AveBedrms  Population  AveOccup  \\\n",
       "0     -0.516507 -0.800796  0.604762  -1.186993   -0.440632 -0.421416   \n",
       "1     -1.757474  0.493874  0.175061  -1.693553   -1.321991 -2.353332   \n",
       "2     -1.077252  3.946100 -0.372405  -0.832832   -0.079730  0.818980   \n",
       "3      0.460171  0.064627  0.198663  -1.038245    0.051290 -0.315941   \n",
       "4     -0.138278  2.217073  1.150060  -0.200818   -0.846057 -0.260063   \n",
       "...         ...       ...       ...        ...         ...       ...   \n",
       "20635  0.263500  0.727112 -0.226633  -1.568691   -0.846325 -1.324322   \n",
       "20636 -0.651042 -1.094797 -0.939280  -0.900795   -1.286988  1.329850   \n",
       "20637 -0.248377 -1.410878  0.456988  -0.291246    0.698991 -1.834804   \n",
       "20638 -0.064796 -0.109789  0.927401   0.566130   -0.876935  0.375846   \n",
       "20639  0.356537  1.786326 -1.522971  -0.417485   -0.051061  0.893121   \n",
       "\n",
       "       Latitude  Longitude  \n",
       "0      0.584896   1.459170  \n",
       "1     -0.695662  -0.848184  \n",
       "2     -0.347849  -0.681010  \n",
       "3      0.673229  -1.851435  \n",
       "4     -0.686149   1.018974  \n",
       "...         ...        ...  \n",
       "20635  1.413422   1.925334  \n",
       "20636  0.711191  -0.800845  \n",
       "20637  0.254856   1.190460  \n",
       "20638 -0.546056   0.034270  \n",
       "20639  0.639094  -0.112638  \n",
       "\n",
       "[20640 rows x 8 columns]"
      ]
     },
     "execution_count": 29,
     "metadata": {},
     "output_type": "execute_result"
    }
   ],
   "source": [
    "result"
   ]
  },
  {
   "cell_type": "markdown",
   "id": "a5fdaedd",
   "metadata": {},
   "source": [
    "# repass SVM Model"
   ]
  },
  {
   "cell_type": "code",
   "execution_count": 30,
   "id": "e989f10f",
   "metadata": {},
   "outputs": [],
   "source": [
    "linear_svr_y_predict2 = linear_svr.predict(result)"
   ]
  },
  {
   "cell_type": "code",
   "execution_count": 31,
   "id": "f31d21be",
   "metadata": {},
   "outputs": [],
   "source": [
    "original_data=np.array(X_test.iloc[0])"
   ]
  },
  {
   "cell_type": "code",
   "execution_count": 32,
   "id": "f8c81937",
   "metadata": {},
   "outputs": [
    {
     "data": {
      "text/plain": [
       "array([ 0.3312649 , -0.44810276, -0.2397889 , -0.07021443, -0.45342725,\n",
       "       -0.04259789, -0.83892546,  0.8483747 ])"
      ]
     },
     "execution_count": 32,
     "metadata": {},
     "output_type": "execute_result"
    }
   ],
   "source": [
    "original_data"
   ]
  },
  {
   "cell_type": "code",
   "execution_count": 33,
   "id": "c545a999",
   "metadata": {},
   "outputs": [
    {
     "data": {
      "text/plain": [
       "array([[ 0.3312649 , -0.44810276, -0.2397889 , -0.07021443, -0.45342725,\n",
       "        -0.04259789, -0.83892546,  0.8483747 ]])"
      ]
     },
     "execution_count": 33,
     "metadata": {},
     "output_type": "execute_result"
    }
   ],
   "source": [
    "original_data.reshape(1,8)"
   ]
  },
  {
   "cell_type": "code",
   "execution_count": 34,
   "id": "2471ae87",
   "metadata": {},
   "outputs": [],
   "source": [
    "import sklearn\n",
    "import sklearn.metrics"
   ]
  },
  {
   "cell_type": "code",
   "execution_count": 35,
   "id": "d75a0fee",
   "metadata": {},
   "outputs": [],
   "source": [
    "distances = sklearn.metrics.pairwise_distances(result.values,original_data.reshape(1,8), metric='cosine').ravel()"
   ]
  },
  {
   "cell_type": "code",
   "execution_count": 36,
   "id": "e9427eb0",
   "metadata": {},
   "outputs": [
    {
     "name": "stdout",
     "output_type": "stream",
     "text": [
      "[0.67212369 1.02998509 1.36827481 ... 0.74051384 0.71111223 1.24890831]\n"
     ]
    }
   ],
   "source": [
    "print(distances)"
   ]
  },
  {
   "cell_type": "code",
   "execution_count": 37,
   "id": "8cb733b2",
   "metadata": {},
   "outputs": [
    {
     "data": {
      "text/plain": [
       "(20640,)"
      ]
     },
     "execution_count": 37,
     "metadata": {},
     "output_type": "execute_result"
    }
   ],
   "source": [
    "distances.shape"
   ]
  },
  {
   "cell_type": "code",
   "execution_count": 38,
   "id": "4425b006",
   "metadata": {},
   "outputs": [
    {
     "name": "stdout",
     "output_type": "stream",
     "text": [
      "[2.69438014e-02 2.06140165e-04 3.12892007e-07 ... 1.24394056e-02\n",
      " 1.75019184e-02 3.80887891e-06]\n"
     ]
    }
   ],
   "source": [
    "kernel_width = 0.25\n",
    "weights = np.sqrt(np.exp(-(distances**2)/kernel_width**2)) #Kernel function\n",
    "print(weights)"
   ]
  },
  {
   "cell_type": "code",
   "execution_count": 39,
   "id": "f8ff898d",
   "metadata": {},
   "outputs": [
    {
     "data": {
      "text/plain": [
       "(20640,)"
      ]
     },
     "execution_count": 39,
     "metadata": {},
     "output_type": "execute_result"
    }
   ],
   "source": [
    "weights.shape"
   ]
  },
  {
   "cell_type": "markdown",
   "id": "002b6743",
   "metadata": {},
   "source": [
    "train lime model"
   ]
  },
  {
   "cell_type": "code",
   "execution_count": 40,
   "id": "73068096",
   "metadata": {},
   "outputs": [],
   "source": [
    "from sklearn.linear_model import LinearRegression"
   ]
  },
  {
   "cell_type": "code",
   "execution_count": 41,
   "id": "c3220876",
   "metadata": {},
   "outputs": [
    {
     "data": {
      "text/plain": [
       "LinearRegression()"
      ]
     },
     "execution_count": 41,
     "metadata": {},
     "output_type": "execute_result"
    }
   ],
   "source": [
    "simpler_model = LinearRegression()\n",
    "simpler_model.fit(X=result, y=linear_svr_y_predict2, sample_weight=weights)"
   ]
  },
  {
   "cell_type": "code",
   "execution_count": 42,
   "id": "4fc17e9b",
   "metadata": {},
   "outputs": [
    {
     "data": {
      "text/plain": [
       "array([ 0.90635542,  0.08367114, -0.37109505,  0.44955231,  0.00938772,\n",
       "       -0.49628283, -0.7592533 , -0.75685233])"
      ]
     },
     "execution_count": 42,
     "metadata": {},
     "output_type": "execute_result"
    }
   ],
   "source": [
    "simpler_model.coef_"
   ]
  },
  {
   "cell_type": "code",
   "execution_count": 43,
   "id": "cee9788c",
   "metadata": {},
   "outputs": [],
   "source": [
    "simpler_model.coef_2=abs(simpler_model.coef_)"
   ]
  },
  {
   "cell_type": "code",
   "execution_count": 44,
   "id": "555bf79c",
   "metadata": {},
   "outputs": [],
   "source": [
    "feature_nameintxt=['MedInc','HouseAge','AveRooms','AveBedrms','Population','AveOccup','Latitude','Longitude']\n",
    "featurecoef=zip(feature_nameintxt,simpler_model.coef_2)\n",
    "featurecoef1=dict(featurecoef)"
   ]
  },
  {
   "cell_type": "code",
   "execution_count": 45,
   "id": "cd0ec3d1",
   "metadata": {},
   "outputs": [
    {
     "name": "stdout",
     "output_type": "stream",
     "text": [
      "['AveBedrms', 'AveOccup', 'AveRooms', 'HouseAge', 'Latitude', 'Longitude', 'MedInc', 'Population']\n"
     ]
    }
   ],
   "source": [
    "print(sorted(featurecoef1.keys()))"
   ]
  },
  {
   "cell_type": "code",
   "execution_count": null,
   "id": "cc192c80",
   "metadata": {},
   "outputs": [],
   "source": []
  },
  {
   "cell_type": "markdown",
   "id": "2a3961a6",
   "metadata": {},
   "source": [
    "# Train LimeTree"
   ]
  },
  {
   "cell_type": "code",
   "execution_count": 46,
   "id": "c0001c01",
   "metadata": {},
   "outputs": [],
   "source": [
    "from sklearn import tree"
   ]
  },
  {
   "cell_type": "code",
   "execution_count": 47,
   "id": "6e720952",
   "metadata": {},
   "outputs": [
    {
     "data": {
      "text/plain": [
       "DecisionTreeRegressor(max_depth=5)"
      ]
     },
     "execution_count": 47,
     "metadata": {},
     "output_type": "execute_result"
    }
   ],
   "source": [
    "treemodel=tree.DecisionTreeRegressor(max_depth=5)\n",
    "treemodel.fit(result,linear_svr_y_predict2,sample_weight=weights)"
   ]
  },
  {
   "cell_type": "code",
   "execution_count": 48,
   "id": "b021ea54",
   "metadata": {},
   "outputs": [],
   "source": [
    "importances = treemodel.feature_importances_"
   ]
  },
  {
   "cell_type": "code",
   "execution_count": 49,
   "id": "04ca6e80",
   "metadata": {},
   "outputs": [
    {
     "data": {
      "text/plain": [
       "array([0.37514309, 0.        , 0.00564901, 0.03189   , 0.        ,\n",
       "       0.0576875 , 0.18915324, 0.34047716])"
      ]
     },
     "execution_count": 49,
     "metadata": {},
     "output_type": "execute_result"
    }
   ],
   "source": [
    "importances"
   ]
  },
  {
   "cell_type": "code",
   "execution_count": 50,
   "id": "73da1679",
   "metadata": {},
   "outputs": [],
   "source": [
    "feature_nameintxt1=['MedInc','HouseAge','AveRooms','AveBedrms','Population','AveOccup','Latitude','Longitude']\n",
    "featureimportances=zip(feature_nameintxt1,importances)\n",
    "featureimportances1=dict(featureimportances)"
   ]
  },
  {
   "cell_type": "code",
   "execution_count": 51,
   "id": "46bfc256",
   "metadata": {},
   "outputs": [
    {
     "name": "stdout",
     "output_type": "stream",
     "text": [
      "['AveBedrms', 'AveOccup', 'AveRooms', 'HouseAge', 'Latitude', 'Longitude', 'MedInc', 'Population']\n"
     ]
    }
   ],
   "source": [
    "print(sorted(featureimportances1.keys()))"
   ]
  },
  {
   "cell_type": "code",
   "execution_count": 52,
   "id": "db234722",
   "metadata": {},
   "outputs": [
    {
     "data": {
      "text/plain": [
       "[('HouseAge', 0.0),\n",
       " ('Population', 0.0),\n",
       " ('AveRooms', 0.005649008450306013),\n",
       " ('AveBedrms', 0.0318899985102286),\n",
       " ('AveOccup', 0.057687497628174156),\n",
       " ('Latitude', 0.18915324399638944),\n",
       " ('Longitude', 0.3404771577159962),\n",
       " ('MedInc', 0.37514309369890564)]"
      ]
     },
     "execution_count": 52,
     "metadata": {},
     "output_type": "execute_result"
    }
   ],
   "source": [
    "sorted(featureimportances1.items(),key=lambda kv:(kv[1], kv[0]))"
   ]
  },
  {
   "cell_type": "markdown",
   "id": "a10a1262",
   "metadata": {},
   "source": [
    "# Train LimeRandomforest"
   ]
  },
  {
   "cell_type": "code",
   "execution_count": 53,
   "id": "9eb7779a",
   "metadata": {},
   "outputs": [],
   "source": [
    "from sklearn.ensemble import RandomForestRegressor"
   ]
  },
  {
   "cell_type": "code",
   "execution_count": 54,
   "id": "080e8c49",
   "metadata": {},
   "outputs": [
    {
     "data": {
      "text/plain": [
       "RandomForestRegressor(max_depth=5)"
      ]
     },
     "execution_count": 54,
     "metadata": {},
     "output_type": "execute_result"
    }
   ],
   "source": [
    "regr_rf=RandomForestRegressor(max_depth=5)\n",
    "regr_rf.fit(X=result, y=linear_svr_y_predict2,sample_weight=weights)"
   ]
  },
  {
   "cell_type": "code",
   "execution_count": 55,
   "id": "6d5a5aa1",
   "metadata": {},
   "outputs": [],
   "source": [
    "importances2 = regr_rf.feature_importances_"
   ]
  },
  {
   "cell_type": "code",
   "execution_count": 56,
   "id": "659db15d",
   "metadata": {},
   "outputs": [
    {
     "data": {
      "text/plain": [
       "array([3.61545171e-01, 4.03082102e-04, 5.41891606e-03, 3.81794842e-02,\n",
       "       1.53784707e-04, 5.72483022e-02, 1.85598926e-01, 3.51452334e-01])"
      ]
     },
     "execution_count": 56,
     "metadata": {},
     "output_type": "execute_result"
    }
   ],
   "source": [
    "importances2 "
   ]
  },
  {
   "cell_type": "code",
   "execution_count": 57,
   "id": "77d6212a",
   "metadata": {},
   "outputs": [],
   "source": [
    "feature_nameintxt2=['MedInc','HouseAge','AveRooms','AveBedrms','Population','AveOccup','Latitude','Longitude']\n",
    "featureimportances2=zip(feature_nameintxt2,importances2)\n",
    "featureimportances3=dict(featureimportances2)"
   ]
  },
  {
   "cell_type": "code",
   "execution_count": 58,
   "id": "4008d7ea",
   "metadata": {},
   "outputs": [
    {
     "name": "stdout",
     "output_type": "stream",
     "text": [
      "['AveBedrms', 'AveOccup', 'AveRooms', 'HouseAge', 'Latitude', 'Longitude', 'MedInc', 'Population']\n"
     ]
    }
   ],
   "source": [
    "print(sorted(featureimportances3.keys()))"
   ]
  },
  {
   "cell_type": "code",
   "execution_count": 59,
   "id": "90f5d814",
   "metadata": {},
   "outputs": [
    {
     "data": {
      "text/plain": [
       "[('Population', 0.00015378470704630574),\n",
       " ('HouseAge', 0.00040308210188385934),\n",
       " ('AveRooms', 0.005418916056929603),\n",
       " ('AveBedrms', 0.038179484189179776),\n",
       " ('AveOccup', 0.05724830224668004),\n",
       " ('Latitude', 0.18559892572530373),\n",
       " ('Longitude', 0.35145233351161614),\n",
       " ('MedInc', 0.36154517146136056)]"
      ]
     },
     "execution_count": 59,
     "metadata": {},
     "output_type": "execute_result"
    }
   ],
   "source": [
    "sorted(featureimportances3.items(),key=lambda kv:(kv[1], kv[0]))"
   ]
  },
  {
   "cell_type": "markdown",
   "id": "e1f507be",
   "metadata": {},
   "source": [
    "# Train XGB Model"
   ]
  },
  {
   "cell_type": "code",
   "execution_count": 60,
   "id": "cee5a6c3",
   "metadata": {},
   "outputs": [
    {
     "data": {
      "text/plain": [
       "XGBRegressor(base_score=None, booster=None, callbacks=None,\n",
       "             colsample_bylevel=None, colsample_bynode=None,\n",
       "             colsample_bytree=None, early_stopping_rounds=None,\n",
       "             enable_categorical=False, eval_metric=None, feature_types=None,\n",
       "             gamma=None, gpu_id=None, grow_policy=None, importance_type=None,\n",
       "             interaction_constraints=None, learning_rate=None, max_bin=None,\n",
       "             max_cat_threshold=None, max_cat_to_onehot=None,\n",
       "             max_delta_step=None, max_depth=None, max_leaves=None,\n",
       "             min_child_weight=None, missing=nan, monotone_constraints=None,\n",
       "             n_estimators=100, n_jobs=None, num_parallel_tree=None,\n",
       "             predictor=None, random_state=None, ...)"
      ]
     },
     "execution_count": 60,
     "metadata": {},
     "output_type": "execute_result"
    }
   ],
   "source": [
    "import xgboost as xgb\n",
    "\n",
    "xgbrModel=xgb.XGBRegressor()\n",
    "xgbrModel.fit(result,linear_svr_y_predict2,sample_weight=weights)"
   ]
  },
  {
   "cell_type": "code",
   "execution_count": 61,
   "id": "5bc94481",
   "metadata": {},
   "outputs": [
    {
     "data": {
      "text/plain": [
       "array([0.2863642 , 0.00670835, 0.05531075, 0.07665939, 0.00255428,\n",
       "       0.08437266, 0.18660367, 0.30142674], dtype=float32)"
      ]
     },
     "execution_count": 61,
     "metadata": {},
     "output_type": "execute_result"
    }
   ],
   "source": [
    "importances3=xgbrModel.feature_importances_\n",
    "importances3"
   ]
  },
  {
   "cell_type": "code",
   "execution_count": 62,
   "id": "b31f0712",
   "metadata": {},
   "outputs": [],
   "source": [
    "feature_nameintxt3=['MedInc','HouseAge','AveRooms','AveBedrms','Population','AveOccup','Latitude','Longitude']\n",
    "featureimportances3=zip(feature_nameintxt3,importances3)\n",
    "featureimportances4=dict(featureimportances3)"
   ]
  },
  {
   "cell_type": "code",
   "execution_count": 63,
   "id": "3e375681",
   "metadata": {},
   "outputs": [
    {
     "name": "stdout",
     "output_type": "stream",
     "text": [
      "['AveBedrms', 'AveOccup', 'AveRooms', 'HouseAge', 'Latitude', 'Longitude', 'MedInc', 'Population']\n"
     ]
    }
   ],
   "source": [
    "print(sorted(featureimportances4.keys()))"
   ]
  },
  {
   "cell_type": "code",
   "execution_count": 64,
   "id": "85c663ed",
   "metadata": {},
   "outputs": [
    {
     "data": {
      "text/plain": [
       "[('Population', 0.0025542835),\n",
       " ('HouseAge', 0.0067083472),\n",
       " ('AveRooms', 0.055310752),\n",
       " ('AveBedrms', 0.07665939),\n",
       " ('AveOccup', 0.08437266),\n",
       " ('Latitude', 0.18660367),\n",
       " ('MedInc', 0.2863642),\n",
       " ('Longitude', 0.30142674)]"
      ]
     },
     "execution_count": 64,
     "metadata": {},
     "output_type": "execute_result"
    }
   ],
   "source": [
    "sorted(featureimportances4.items(),key=lambda kv:(kv[1], kv[0]))"
   ]
  },
  {
   "cell_type": "markdown",
   "id": "a8eeaf8f",
   "metadata": {},
   "source": [
    "# When numpurb=1000 svm model  Choose future=3"
   ]
  },
  {
   "cell_type": "code",
   "execution_count": 65,
   "id": "266ab65d",
   "metadata": {},
   "outputs": [],
   "source": [
    "X5 = df2[['MedInc','Longitude','Latitude']]\n",
    "y5= df2['y']"
   ]
  },
  {
   "cell_type": "code",
   "execution_count": 66,
   "id": "e9cb20c8",
   "metadata": {},
   "outputs": [],
   "source": [
    "X5_train, X5_test, y5_train, y5_test = model_selection.train_test_split(X5, y5, test_size = 0.2, random_state = 124)"
   ]
  },
  {
   "cell_type": "code",
   "execution_count": 67,
   "id": "d91befca",
   "metadata": {},
   "outputs": [],
   "source": [
    "linear_svr=SVR(kernel='linear')\n",
    "linear_svr.fit(X5_train,y5_train)\n",
    "linear_svr_y_predict=linear_svr.predict(X5_test)"
   ]
  },
  {
   "cell_type": "code",
   "execution_count": 68,
   "id": "d6baa3fe",
   "metadata": {},
   "outputs": [
    {
     "name": "stdout",
     "output_type": "stream",
     "text": [
      "0.5594123906814097\n"
     ]
    }
   ],
   "source": [
    "print(linear_svr.score(X5_test,y5_test))"
   ]
  },
  {
   "cell_type": "code",
   "execution_count": null,
   "id": "bf92ab93",
   "metadata": {},
   "outputs": [],
   "source": []
  }
 ],
 "metadata": {
  "kernelspec": {
   "display_name": "Python 3 (ipykernel)",
   "language": "python",
   "name": "python3"
  },
  "language_info": {
   "codemirror_mode": {
    "name": "ipython",
    "version": 3
   },
   "file_extension": ".py",
   "mimetype": "text/x-python",
   "name": "python",
   "nbconvert_exporter": "python",
   "pygments_lexer": "ipython3",
   "version": "3.9.13"
  }
 },
 "nbformat": 4,
 "nbformat_minor": 5
}
