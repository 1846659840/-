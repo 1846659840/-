{
 "cells": [
  {
   "cell_type": "code",
   "execution_count": 1,
   "id": "4aa12272",
   "metadata": {},
   "outputs": [],
   "source": [
    "import numpy as np\n",
    "import matplotlib.pyplot as plt\n",
    "import pandas as pd \n",
    "import seaborn as sns"
   ]
  },
  {
   "cell_type": "code",
   "execution_count": 2,
   "id": "11c16cd8",
   "metadata": {
    "scrolled": true
   },
   "outputs": [],
   "source": [
    "cancer_data=pd.read_csv(\"C://Users//User//Downloads//Cancer.csv\")"
   ]
  },
  {
   "cell_type": "code",
   "execution_count": 3,
   "id": "fb41e62d",
   "metadata": {},
   "outputs": [
    {
     "data": {
      "text/html": [
       "<div>\n",
       "<style scoped>\n",
       "    .dataframe tbody tr th:only-of-type {\n",
       "        vertical-align: middle;\n",
       "    }\n",
       "\n",
       "    .dataframe tbody tr th {\n",
       "        vertical-align: top;\n",
       "    }\n",
       "\n",
       "    .dataframe thead th {\n",
       "        text-align: right;\n",
       "    }\n",
       "</style>\n",
       "<table border=\"1\" class=\"dataframe\">\n",
       "  <thead>\n",
       "    <tr style=\"text-align: right;\">\n",
       "      <th></th>\n",
       "      <th>id</th>\n",
       "      <th>diagnosis</th>\n",
       "      <th>radius_mean</th>\n",
       "      <th>texture_mean</th>\n",
       "      <th>perimeter_mean</th>\n",
       "      <th>area_mean</th>\n",
       "      <th>smoothness_mean</th>\n",
       "      <th>compactness_mean</th>\n",
       "      <th>concavity_mean</th>\n",
       "      <th>concave_points_mean</th>\n",
       "      <th>...</th>\n",
       "      <th>radius_worst</th>\n",
       "      <th>texture_worst</th>\n",
       "      <th>perimeter_worst</th>\n",
       "      <th>area_worst</th>\n",
       "      <th>smoothness_worst</th>\n",
       "      <th>compactness_worst</th>\n",
       "      <th>concavity_worst</th>\n",
       "      <th>concave_points_worst</th>\n",
       "      <th>symmetry_worst</th>\n",
       "      <th>fractal_dimension_worst</th>\n",
       "    </tr>\n",
       "  </thead>\n",
       "  <tbody>\n",
       "    <tr>\n",
       "      <th>0</th>\n",
       "      <td>842302</td>\n",
       "      <td>M</td>\n",
       "      <td>17.99</td>\n",
       "      <td>10.38</td>\n",
       "      <td>122.80</td>\n",
       "      <td>1001.0</td>\n",
       "      <td>0.11840</td>\n",
       "      <td>0.27760</td>\n",
       "      <td>0.30010</td>\n",
       "      <td>0.14710</td>\n",
       "      <td>...</td>\n",
       "      <td>25.380</td>\n",
       "      <td>17.33</td>\n",
       "      <td>184.60</td>\n",
       "      <td>2019.0</td>\n",
       "      <td>0.16220</td>\n",
       "      <td>0.66560</td>\n",
       "      <td>0.7119</td>\n",
       "      <td>0.2654</td>\n",
       "      <td>0.4601</td>\n",
       "      <td>0.11890</td>\n",
       "    </tr>\n",
       "    <tr>\n",
       "      <th>1</th>\n",
       "      <td>842517</td>\n",
       "      <td>M</td>\n",
       "      <td>20.57</td>\n",
       "      <td>17.77</td>\n",
       "      <td>132.90</td>\n",
       "      <td>1326.0</td>\n",
       "      <td>0.08474</td>\n",
       "      <td>0.07864</td>\n",
       "      <td>0.08690</td>\n",
       "      <td>0.07017</td>\n",
       "      <td>...</td>\n",
       "      <td>24.990</td>\n",
       "      <td>23.41</td>\n",
       "      <td>158.80</td>\n",
       "      <td>1956.0</td>\n",
       "      <td>0.12380</td>\n",
       "      <td>0.18660</td>\n",
       "      <td>0.2416</td>\n",
       "      <td>0.1860</td>\n",
       "      <td>0.2750</td>\n",
       "      <td>0.08902</td>\n",
       "    </tr>\n",
       "    <tr>\n",
       "      <th>2</th>\n",
       "      <td>84300903</td>\n",
       "      <td>M</td>\n",
       "      <td>19.69</td>\n",
       "      <td>21.25</td>\n",
       "      <td>130.00</td>\n",
       "      <td>1203.0</td>\n",
       "      <td>0.10960</td>\n",
       "      <td>0.15990</td>\n",
       "      <td>0.19740</td>\n",
       "      <td>0.12790</td>\n",
       "      <td>...</td>\n",
       "      <td>23.570</td>\n",
       "      <td>25.53</td>\n",
       "      <td>152.50</td>\n",
       "      <td>1709.0</td>\n",
       "      <td>0.14440</td>\n",
       "      <td>0.42450</td>\n",
       "      <td>0.4504</td>\n",
       "      <td>0.2430</td>\n",
       "      <td>0.3613</td>\n",
       "      <td>0.08758</td>\n",
       "    </tr>\n",
       "    <tr>\n",
       "      <th>3</th>\n",
       "      <td>84348301</td>\n",
       "      <td>M</td>\n",
       "      <td>11.42</td>\n",
       "      <td>20.38</td>\n",
       "      <td>77.58</td>\n",
       "      <td>386.1</td>\n",
       "      <td>0.14250</td>\n",
       "      <td>0.28390</td>\n",
       "      <td>0.24140</td>\n",
       "      <td>0.10520</td>\n",
       "      <td>...</td>\n",
       "      <td>14.910</td>\n",
       "      <td>26.50</td>\n",
       "      <td>98.87</td>\n",
       "      <td>567.7</td>\n",
       "      <td>0.20980</td>\n",
       "      <td>0.86630</td>\n",
       "      <td>0.6869</td>\n",
       "      <td>0.2575</td>\n",
       "      <td>0.6638</td>\n",
       "      <td>0.17300</td>\n",
       "    </tr>\n",
       "    <tr>\n",
       "      <th>4</th>\n",
       "      <td>84358402</td>\n",
       "      <td>M</td>\n",
       "      <td>20.29</td>\n",
       "      <td>14.34</td>\n",
       "      <td>135.10</td>\n",
       "      <td>1297.0</td>\n",
       "      <td>0.10030</td>\n",
       "      <td>0.13280</td>\n",
       "      <td>0.19800</td>\n",
       "      <td>0.10430</td>\n",
       "      <td>...</td>\n",
       "      <td>22.540</td>\n",
       "      <td>16.67</td>\n",
       "      <td>152.20</td>\n",
       "      <td>1575.0</td>\n",
       "      <td>0.13740</td>\n",
       "      <td>0.20500</td>\n",
       "      <td>0.4000</td>\n",
       "      <td>0.1625</td>\n",
       "      <td>0.2364</td>\n",
       "      <td>0.07678</td>\n",
       "    </tr>\n",
       "    <tr>\n",
       "      <th>...</th>\n",
       "      <td>...</td>\n",
       "      <td>...</td>\n",
       "      <td>...</td>\n",
       "      <td>...</td>\n",
       "      <td>...</td>\n",
       "      <td>...</td>\n",
       "      <td>...</td>\n",
       "      <td>...</td>\n",
       "      <td>...</td>\n",
       "      <td>...</td>\n",
       "      <td>...</td>\n",
       "      <td>...</td>\n",
       "      <td>...</td>\n",
       "      <td>...</td>\n",
       "      <td>...</td>\n",
       "      <td>...</td>\n",
       "      <td>...</td>\n",
       "      <td>...</td>\n",
       "      <td>...</td>\n",
       "      <td>...</td>\n",
       "      <td>...</td>\n",
       "    </tr>\n",
       "    <tr>\n",
       "      <th>564</th>\n",
       "      <td>926424</td>\n",
       "      <td>M</td>\n",
       "      <td>21.56</td>\n",
       "      <td>22.39</td>\n",
       "      <td>142.00</td>\n",
       "      <td>1479.0</td>\n",
       "      <td>0.11100</td>\n",
       "      <td>0.11590</td>\n",
       "      <td>0.24390</td>\n",
       "      <td>0.13890</td>\n",
       "      <td>...</td>\n",
       "      <td>25.450</td>\n",
       "      <td>26.40</td>\n",
       "      <td>166.10</td>\n",
       "      <td>2027.0</td>\n",
       "      <td>0.14100</td>\n",
       "      <td>0.21130</td>\n",
       "      <td>0.4107</td>\n",
       "      <td>0.2216</td>\n",
       "      <td>0.2060</td>\n",
       "      <td>0.07115</td>\n",
       "    </tr>\n",
       "    <tr>\n",
       "      <th>565</th>\n",
       "      <td>926682</td>\n",
       "      <td>M</td>\n",
       "      <td>20.13</td>\n",
       "      <td>28.25</td>\n",
       "      <td>131.20</td>\n",
       "      <td>1261.0</td>\n",
       "      <td>0.09780</td>\n",
       "      <td>0.10340</td>\n",
       "      <td>0.14400</td>\n",
       "      <td>0.09791</td>\n",
       "      <td>...</td>\n",
       "      <td>23.690</td>\n",
       "      <td>38.25</td>\n",
       "      <td>155.00</td>\n",
       "      <td>1731.0</td>\n",
       "      <td>0.11660</td>\n",
       "      <td>0.19220</td>\n",
       "      <td>0.3215</td>\n",
       "      <td>0.1628</td>\n",
       "      <td>0.2572</td>\n",
       "      <td>0.06637</td>\n",
       "    </tr>\n",
       "    <tr>\n",
       "      <th>566</th>\n",
       "      <td>926954</td>\n",
       "      <td>M</td>\n",
       "      <td>16.60</td>\n",
       "      <td>28.08</td>\n",
       "      <td>108.30</td>\n",
       "      <td>858.1</td>\n",
       "      <td>0.08455</td>\n",
       "      <td>0.10230</td>\n",
       "      <td>0.09251</td>\n",
       "      <td>0.05302</td>\n",
       "      <td>...</td>\n",
       "      <td>18.980</td>\n",
       "      <td>34.12</td>\n",
       "      <td>126.70</td>\n",
       "      <td>1124.0</td>\n",
       "      <td>0.11390</td>\n",
       "      <td>0.30940</td>\n",
       "      <td>0.3403</td>\n",
       "      <td>0.1418</td>\n",
       "      <td>0.2218</td>\n",
       "      <td>0.07820</td>\n",
       "    </tr>\n",
       "    <tr>\n",
       "      <th>567</th>\n",
       "      <td>927241</td>\n",
       "      <td>M</td>\n",
       "      <td>20.60</td>\n",
       "      <td>29.33</td>\n",
       "      <td>140.10</td>\n",
       "      <td>1265.0</td>\n",
       "      <td>0.11780</td>\n",
       "      <td>0.27700</td>\n",
       "      <td>0.35140</td>\n",
       "      <td>0.15200</td>\n",
       "      <td>...</td>\n",
       "      <td>25.740</td>\n",
       "      <td>39.42</td>\n",
       "      <td>184.60</td>\n",
       "      <td>1821.0</td>\n",
       "      <td>0.16500</td>\n",
       "      <td>0.86810</td>\n",
       "      <td>0.9387</td>\n",
       "      <td>0.2650</td>\n",
       "      <td>0.4087</td>\n",
       "      <td>0.12400</td>\n",
       "    </tr>\n",
       "    <tr>\n",
       "      <th>568</th>\n",
       "      <td>92751</td>\n",
       "      <td>B</td>\n",
       "      <td>7.76</td>\n",
       "      <td>24.54</td>\n",
       "      <td>47.92</td>\n",
       "      <td>181.0</td>\n",
       "      <td>0.05263</td>\n",
       "      <td>0.04362</td>\n",
       "      <td>0.00000</td>\n",
       "      <td>0.00000</td>\n",
       "      <td>...</td>\n",
       "      <td>9.456</td>\n",
       "      <td>30.37</td>\n",
       "      <td>59.16</td>\n",
       "      <td>268.6</td>\n",
       "      <td>0.08996</td>\n",
       "      <td>0.06444</td>\n",
       "      <td>0.0000</td>\n",
       "      <td>0.0000</td>\n",
       "      <td>0.2871</td>\n",
       "      <td>0.07039</td>\n",
       "    </tr>\n",
       "  </tbody>\n",
       "</table>\n",
       "<p>569 rows × 32 columns</p>\n",
       "</div>"
      ],
      "text/plain": [
       "           id diagnosis  radius_mean  texture_mean  perimeter_mean  area_mean  \\\n",
       "0      842302         M        17.99         10.38          122.80     1001.0   \n",
       "1      842517         M        20.57         17.77          132.90     1326.0   \n",
       "2    84300903         M        19.69         21.25          130.00     1203.0   \n",
       "3    84348301         M        11.42         20.38           77.58      386.1   \n",
       "4    84358402         M        20.29         14.34          135.10     1297.0   \n",
       "..        ...       ...          ...           ...             ...        ...   \n",
       "564    926424         M        21.56         22.39          142.00     1479.0   \n",
       "565    926682         M        20.13         28.25          131.20     1261.0   \n",
       "566    926954         M        16.60         28.08          108.30      858.1   \n",
       "567    927241         M        20.60         29.33          140.10     1265.0   \n",
       "568     92751         B         7.76         24.54           47.92      181.0   \n",
       "\n",
       "     smoothness_mean  compactness_mean  concavity_mean  concave_points_mean  \\\n",
       "0            0.11840           0.27760         0.30010              0.14710   \n",
       "1            0.08474           0.07864         0.08690              0.07017   \n",
       "2            0.10960           0.15990         0.19740              0.12790   \n",
       "3            0.14250           0.28390         0.24140              0.10520   \n",
       "4            0.10030           0.13280         0.19800              0.10430   \n",
       "..               ...               ...             ...                  ...   \n",
       "564          0.11100           0.11590         0.24390              0.13890   \n",
       "565          0.09780           0.10340         0.14400              0.09791   \n",
       "566          0.08455           0.10230         0.09251              0.05302   \n",
       "567          0.11780           0.27700         0.35140              0.15200   \n",
       "568          0.05263           0.04362         0.00000              0.00000   \n",
       "\n",
       "     ...  radius_worst  texture_worst  perimeter_worst  area_worst  \\\n",
       "0    ...        25.380          17.33           184.60      2019.0   \n",
       "1    ...        24.990          23.41           158.80      1956.0   \n",
       "2    ...        23.570          25.53           152.50      1709.0   \n",
       "3    ...        14.910          26.50            98.87       567.7   \n",
       "4    ...        22.540          16.67           152.20      1575.0   \n",
       "..   ...           ...            ...              ...         ...   \n",
       "564  ...        25.450          26.40           166.10      2027.0   \n",
       "565  ...        23.690          38.25           155.00      1731.0   \n",
       "566  ...        18.980          34.12           126.70      1124.0   \n",
       "567  ...        25.740          39.42           184.60      1821.0   \n",
       "568  ...         9.456          30.37            59.16       268.6   \n",
       "\n",
       "     smoothness_worst  compactness_worst  concavity_worst  \\\n",
       "0             0.16220            0.66560           0.7119   \n",
       "1             0.12380            0.18660           0.2416   \n",
       "2             0.14440            0.42450           0.4504   \n",
       "3             0.20980            0.86630           0.6869   \n",
       "4             0.13740            0.20500           0.4000   \n",
       "..                ...                ...              ...   \n",
       "564           0.14100            0.21130           0.4107   \n",
       "565           0.11660            0.19220           0.3215   \n",
       "566           0.11390            0.30940           0.3403   \n",
       "567           0.16500            0.86810           0.9387   \n",
       "568           0.08996            0.06444           0.0000   \n",
       "\n",
       "     concave_points_worst  symmetry_worst  fractal_dimension_worst  \n",
       "0                  0.2654          0.4601                  0.11890  \n",
       "1                  0.1860          0.2750                  0.08902  \n",
       "2                  0.2430          0.3613                  0.08758  \n",
       "3                  0.2575          0.6638                  0.17300  \n",
       "4                  0.1625          0.2364                  0.07678  \n",
       "..                    ...             ...                      ...  \n",
       "564                0.2216          0.2060                  0.07115  \n",
       "565                0.1628          0.2572                  0.06637  \n",
       "566                0.1418          0.2218                  0.07820  \n",
       "567                0.2650          0.4087                  0.12400  \n",
       "568                0.0000          0.2871                  0.07039  \n",
       "\n",
       "[569 rows x 32 columns]"
      ]
     },
     "execution_count": 3,
     "metadata": {},
     "output_type": "execute_result"
    }
   ],
   "source": [
    "cancer_data"
   ]
  },
  {
   "cell_type": "code",
   "execution_count": 4,
   "id": "8b76da94",
   "metadata": {
    "scrolled": false
   },
   "outputs": [
    {
     "name": "stdout",
     "output_type": "stream",
     "text": [
      "Index(['id', 'diagnosis', 'radius_mean', 'texture_mean', 'perimeter_mean',\n",
      "       'area_mean', 'smoothness_mean', 'compactness_mean', 'concavity_mean',\n",
      "       'concave_points_mean', 'symmetry_mean', 'fractal_dimension_mean',\n",
      "       'radius_se', 'texture_se', 'perimeter_se', 'area_se', 'smoothness_se',\n",
      "       'compactness_se', 'concavity_se', 'concave_points_se', 'symmetry_se',\n",
      "       'fractal_dimension_se', 'radius_worst', 'texture_worst',\n",
      "       'perimeter_worst', 'area_worst', 'smoothness_worst',\n",
      "       'compactness_worst', 'concavity_worst', 'concave_points_worst',\n",
      "       'symmetry_worst', 'fractal_dimension_worst'],\n",
      "      dtype='object')\n"
     ]
    }
   ],
   "source": [
    "print(cancer_data.keys())"
   ]
  },
  {
   "cell_type": "code",
   "execution_count": 5,
   "id": "1f2fae93",
   "metadata": {},
   "outputs": [],
   "source": [
    "Creat1=cancer_data.drop('id',axis=1)"
   ]
  },
  {
   "cell_type": "code",
   "execution_count": 6,
   "id": "3773b3e9",
   "metadata": {},
   "outputs": [
    {
     "data": {
      "text/html": [
       "<div>\n",
       "<style scoped>\n",
       "    .dataframe tbody tr th:only-of-type {\n",
       "        vertical-align: middle;\n",
       "    }\n",
       "\n",
       "    .dataframe tbody tr th {\n",
       "        vertical-align: top;\n",
       "    }\n",
       "\n",
       "    .dataframe thead th {\n",
       "        text-align: right;\n",
       "    }\n",
       "</style>\n",
       "<table border=\"1\" class=\"dataframe\">\n",
       "  <thead>\n",
       "    <tr style=\"text-align: right;\">\n",
       "      <th></th>\n",
       "      <th>diagnosis</th>\n",
       "      <th>radius_mean</th>\n",
       "      <th>texture_mean</th>\n",
       "      <th>perimeter_mean</th>\n",
       "      <th>area_mean</th>\n",
       "      <th>smoothness_mean</th>\n",
       "      <th>compactness_mean</th>\n",
       "      <th>concavity_mean</th>\n",
       "      <th>concave_points_mean</th>\n",
       "      <th>symmetry_mean</th>\n",
       "      <th>...</th>\n",
       "      <th>radius_worst</th>\n",
       "      <th>texture_worst</th>\n",
       "      <th>perimeter_worst</th>\n",
       "      <th>area_worst</th>\n",
       "      <th>smoothness_worst</th>\n",
       "      <th>compactness_worst</th>\n",
       "      <th>concavity_worst</th>\n",
       "      <th>concave_points_worst</th>\n",
       "      <th>symmetry_worst</th>\n",
       "      <th>fractal_dimension_worst</th>\n",
       "    </tr>\n",
       "  </thead>\n",
       "  <tbody>\n",
       "    <tr>\n",
       "      <th>0</th>\n",
       "      <td>M</td>\n",
       "      <td>17.99</td>\n",
       "      <td>10.38</td>\n",
       "      <td>122.80</td>\n",
       "      <td>1001.0</td>\n",
       "      <td>0.11840</td>\n",
       "      <td>0.27760</td>\n",
       "      <td>0.30010</td>\n",
       "      <td>0.14710</td>\n",
       "      <td>0.2419</td>\n",
       "      <td>...</td>\n",
       "      <td>25.380</td>\n",
       "      <td>17.33</td>\n",
       "      <td>184.60</td>\n",
       "      <td>2019.0</td>\n",
       "      <td>0.16220</td>\n",
       "      <td>0.66560</td>\n",
       "      <td>0.7119</td>\n",
       "      <td>0.2654</td>\n",
       "      <td>0.4601</td>\n",
       "      <td>0.11890</td>\n",
       "    </tr>\n",
       "    <tr>\n",
       "      <th>1</th>\n",
       "      <td>M</td>\n",
       "      <td>20.57</td>\n",
       "      <td>17.77</td>\n",
       "      <td>132.90</td>\n",
       "      <td>1326.0</td>\n",
       "      <td>0.08474</td>\n",
       "      <td>0.07864</td>\n",
       "      <td>0.08690</td>\n",
       "      <td>0.07017</td>\n",
       "      <td>0.1812</td>\n",
       "      <td>...</td>\n",
       "      <td>24.990</td>\n",
       "      <td>23.41</td>\n",
       "      <td>158.80</td>\n",
       "      <td>1956.0</td>\n",
       "      <td>0.12380</td>\n",
       "      <td>0.18660</td>\n",
       "      <td>0.2416</td>\n",
       "      <td>0.1860</td>\n",
       "      <td>0.2750</td>\n",
       "      <td>0.08902</td>\n",
       "    </tr>\n",
       "    <tr>\n",
       "      <th>2</th>\n",
       "      <td>M</td>\n",
       "      <td>19.69</td>\n",
       "      <td>21.25</td>\n",
       "      <td>130.00</td>\n",
       "      <td>1203.0</td>\n",
       "      <td>0.10960</td>\n",
       "      <td>0.15990</td>\n",
       "      <td>0.19740</td>\n",
       "      <td>0.12790</td>\n",
       "      <td>0.2069</td>\n",
       "      <td>...</td>\n",
       "      <td>23.570</td>\n",
       "      <td>25.53</td>\n",
       "      <td>152.50</td>\n",
       "      <td>1709.0</td>\n",
       "      <td>0.14440</td>\n",
       "      <td>0.42450</td>\n",
       "      <td>0.4504</td>\n",
       "      <td>0.2430</td>\n",
       "      <td>0.3613</td>\n",
       "      <td>0.08758</td>\n",
       "    </tr>\n",
       "    <tr>\n",
       "      <th>3</th>\n",
       "      <td>M</td>\n",
       "      <td>11.42</td>\n",
       "      <td>20.38</td>\n",
       "      <td>77.58</td>\n",
       "      <td>386.1</td>\n",
       "      <td>0.14250</td>\n",
       "      <td>0.28390</td>\n",
       "      <td>0.24140</td>\n",
       "      <td>0.10520</td>\n",
       "      <td>0.2597</td>\n",
       "      <td>...</td>\n",
       "      <td>14.910</td>\n",
       "      <td>26.50</td>\n",
       "      <td>98.87</td>\n",
       "      <td>567.7</td>\n",
       "      <td>0.20980</td>\n",
       "      <td>0.86630</td>\n",
       "      <td>0.6869</td>\n",
       "      <td>0.2575</td>\n",
       "      <td>0.6638</td>\n",
       "      <td>0.17300</td>\n",
       "    </tr>\n",
       "    <tr>\n",
       "      <th>4</th>\n",
       "      <td>M</td>\n",
       "      <td>20.29</td>\n",
       "      <td>14.34</td>\n",
       "      <td>135.10</td>\n",
       "      <td>1297.0</td>\n",
       "      <td>0.10030</td>\n",
       "      <td>0.13280</td>\n",
       "      <td>0.19800</td>\n",
       "      <td>0.10430</td>\n",
       "      <td>0.1809</td>\n",
       "      <td>...</td>\n",
       "      <td>22.540</td>\n",
       "      <td>16.67</td>\n",
       "      <td>152.20</td>\n",
       "      <td>1575.0</td>\n",
       "      <td>0.13740</td>\n",
       "      <td>0.20500</td>\n",
       "      <td>0.4000</td>\n",
       "      <td>0.1625</td>\n",
       "      <td>0.2364</td>\n",
       "      <td>0.07678</td>\n",
       "    </tr>\n",
       "    <tr>\n",
       "      <th>...</th>\n",
       "      <td>...</td>\n",
       "      <td>...</td>\n",
       "      <td>...</td>\n",
       "      <td>...</td>\n",
       "      <td>...</td>\n",
       "      <td>...</td>\n",
       "      <td>...</td>\n",
       "      <td>...</td>\n",
       "      <td>...</td>\n",
       "      <td>...</td>\n",
       "      <td>...</td>\n",
       "      <td>...</td>\n",
       "      <td>...</td>\n",
       "      <td>...</td>\n",
       "      <td>...</td>\n",
       "      <td>...</td>\n",
       "      <td>...</td>\n",
       "      <td>...</td>\n",
       "      <td>...</td>\n",
       "      <td>...</td>\n",
       "      <td>...</td>\n",
       "    </tr>\n",
       "    <tr>\n",
       "      <th>564</th>\n",
       "      <td>M</td>\n",
       "      <td>21.56</td>\n",
       "      <td>22.39</td>\n",
       "      <td>142.00</td>\n",
       "      <td>1479.0</td>\n",
       "      <td>0.11100</td>\n",
       "      <td>0.11590</td>\n",
       "      <td>0.24390</td>\n",
       "      <td>0.13890</td>\n",
       "      <td>0.1726</td>\n",
       "      <td>...</td>\n",
       "      <td>25.450</td>\n",
       "      <td>26.40</td>\n",
       "      <td>166.10</td>\n",
       "      <td>2027.0</td>\n",
       "      <td>0.14100</td>\n",
       "      <td>0.21130</td>\n",
       "      <td>0.4107</td>\n",
       "      <td>0.2216</td>\n",
       "      <td>0.2060</td>\n",
       "      <td>0.07115</td>\n",
       "    </tr>\n",
       "    <tr>\n",
       "      <th>565</th>\n",
       "      <td>M</td>\n",
       "      <td>20.13</td>\n",
       "      <td>28.25</td>\n",
       "      <td>131.20</td>\n",
       "      <td>1261.0</td>\n",
       "      <td>0.09780</td>\n",
       "      <td>0.10340</td>\n",
       "      <td>0.14400</td>\n",
       "      <td>0.09791</td>\n",
       "      <td>0.1752</td>\n",
       "      <td>...</td>\n",
       "      <td>23.690</td>\n",
       "      <td>38.25</td>\n",
       "      <td>155.00</td>\n",
       "      <td>1731.0</td>\n",
       "      <td>0.11660</td>\n",
       "      <td>0.19220</td>\n",
       "      <td>0.3215</td>\n",
       "      <td>0.1628</td>\n",
       "      <td>0.2572</td>\n",
       "      <td>0.06637</td>\n",
       "    </tr>\n",
       "    <tr>\n",
       "      <th>566</th>\n",
       "      <td>M</td>\n",
       "      <td>16.60</td>\n",
       "      <td>28.08</td>\n",
       "      <td>108.30</td>\n",
       "      <td>858.1</td>\n",
       "      <td>0.08455</td>\n",
       "      <td>0.10230</td>\n",
       "      <td>0.09251</td>\n",
       "      <td>0.05302</td>\n",
       "      <td>0.1590</td>\n",
       "      <td>...</td>\n",
       "      <td>18.980</td>\n",
       "      <td>34.12</td>\n",
       "      <td>126.70</td>\n",
       "      <td>1124.0</td>\n",
       "      <td>0.11390</td>\n",
       "      <td>0.30940</td>\n",
       "      <td>0.3403</td>\n",
       "      <td>0.1418</td>\n",
       "      <td>0.2218</td>\n",
       "      <td>0.07820</td>\n",
       "    </tr>\n",
       "    <tr>\n",
       "      <th>567</th>\n",
       "      <td>M</td>\n",
       "      <td>20.60</td>\n",
       "      <td>29.33</td>\n",
       "      <td>140.10</td>\n",
       "      <td>1265.0</td>\n",
       "      <td>0.11780</td>\n",
       "      <td>0.27700</td>\n",
       "      <td>0.35140</td>\n",
       "      <td>0.15200</td>\n",
       "      <td>0.2397</td>\n",
       "      <td>...</td>\n",
       "      <td>25.740</td>\n",
       "      <td>39.42</td>\n",
       "      <td>184.60</td>\n",
       "      <td>1821.0</td>\n",
       "      <td>0.16500</td>\n",
       "      <td>0.86810</td>\n",
       "      <td>0.9387</td>\n",
       "      <td>0.2650</td>\n",
       "      <td>0.4087</td>\n",
       "      <td>0.12400</td>\n",
       "    </tr>\n",
       "    <tr>\n",
       "      <th>568</th>\n",
       "      <td>B</td>\n",
       "      <td>7.76</td>\n",
       "      <td>24.54</td>\n",
       "      <td>47.92</td>\n",
       "      <td>181.0</td>\n",
       "      <td>0.05263</td>\n",
       "      <td>0.04362</td>\n",
       "      <td>0.00000</td>\n",
       "      <td>0.00000</td>\n",
       "      <td>0.1587</td>\n",
       "      <td>...</td>\n",
       "      <td>9.456</td>\n",
       "      <td>30.37</td>\n",
       "      <td>59.16</td>\n",
       "      <td>268.6</td>\n",
       "      <td>0.08996</td>\n",
       "      <td>0.06444</td>\n",
       "      <td>0.0000</td>\n",
       "      <td>0.0000</td>\n",
       "      <td>0.2871</td>\n",
       "      <td>0.07039</td>\n",
       "    </tr>\n",
       "  </tbody>\n",
       "</table>\n",
       "<p>569 rows × 31 columns</p>\n",
       "</div>"
      ],
      "text/plain": [
       "    diagnosis  radius_mean  texture_mean  perimeter_mean  area_mean  \\\n",
       "0           M        17.99         10.38          122.80     1001.0   \n",
       "1           M        20.57         17.77          132.90     1326.0   \n",
       "2           M        19.69         21.25          130.00     1203.0   \n",
       "3           M        11.42         20.38           77.58      386.1   \n",
       "4           M        20.29         14.34          135.10     1297.0   \n",
       "..        ...          ...           ...             ...        ...   \n",
       "564         M        21.56         22.39          142.00     1479.0   \n",
       "565         M        20.13         28.25          131.20     1261.0   \n",
       "566         M        16.60         28.08          108.30      858.1   \n",
       "567         M        20.60         29.33          140.10     1265.0   \n",
       "568         B         7.76         24.54           47.92      181.0   \n",
       "\n",
       "     smoothness_mean  compactness_mean  concavity_mean  concave_points_mean  \\\n",
       "0            0.11840           0.27760         0.30010              0.14710   \n",
       "1            0.08474           0.07864         0.08690              0.07017   \n",
       "2            0.10960           0.15990         0.19740              0.12790   \n",
       "3            0.14250           0.28390         0.24140              0.10520   \n",
       "4            0.10030           0.13280         0.19800              0.10430   \n",
       "..               ...               ...             ...                  ...   \n",
       "564          0.11100           0.11590         0.24390              0.13890   \n",
       "565          0.09780           0.10340         0.14400              0.09791   \n",
       "566          0.08455           0.10230         0.09251              0.05302   \n",
       "567          0.11780           0.27700         0.35140              0.15200   \n",
       "568          0.05263           0.04362         0.00000              0.00000   \n",
       "\n",
       "     symmetry_mean  ...  radius_worst  texture_worst  perimeter_worst  \\\n",
       "0           0.2419  ...        25.380          17.33           184.60   \n",
       "1           0.1812  ...        24.990          23.41           158.80   \n",
       "2           0.2069  ...        23.570          25.53           152.50   \n",
       "3           0.2597  ...        14.910          26.50            98.87   \n",
       "4           0.1809  ...        22.540          16.67           152.20   \n",
       "..             ...  ...           ...            ...              ...   \n",
       "564         0.1726  ...        25.450          26.40           166.10   \n",
       "565         0.1752  ...        23.690          38.25           155.00   \n",
       "566         0.1590  ...        18.980          34.12           126.70   \n",
       "567         0.2397  ...        25.740          39.42           184.60   \n",
       "568         0.1587  ...         9.456          30.37            59.16   \n",
       "\n",
       "     area_worst  smoothness_worst  compactness_worst  concavity_worst  \\\n",
       "0        2019.0           0.16220            0.66560           0.7119   \n",
       "1        1956.0           0.12380            0.18660           0.2416   \n",
       "2        1709.0           0.14440            0.42450           0.4504   \n",
       "3         567.7           0.20980            0.86630           0.6869   \n",
       "4        1575.0           0.13740            0.20500           0.4000   \n",
       "..          ...               ...                ...              ...   \n",
       "564      2027.0           0.14100            0.21130           0.4107   \n",
       "565      1731.0           0.11660            0.19220           0.3215   \n",
       "566      1124.0           0.11390            0.30940           0.3403   \n",
       "567      1821.0           0.16500            0.86810           0.9387   \n",
       "568       268.6           0.08996            0.06444           0.0000   \n",
       "\n",
       "     concave_points_worst  symmetry_worst  fractal_dimension_worst  \n",
       "0                  0.2654          0.4601                  0.11890  \n",
       "1                  0.1860          0.2750                  0.08902  \n",
       "2                  0.2430          0.3613                  0.08758  \n",
       "3                  0.2575          0.6638                  0.17300  \n",
       "4                  0.1625          0.2364                  0.07678  \n",
       "..                    ...             ...                      ...  \n",
       "564                0.2216          0.2060                  0.07115  \n",
       "565                0.1628          0.2572                  0.06637  \n",
       "566                0.1418          0.2218                  0.07820  \n",
       "567                0.2650          0.4087                  0.12400  \n",
       "568                0.0000          0.2871                  0.07039  \n",
       "\n",
       "[569 rows x 31 columns]"
      ]
     },
     "execution_count": 6,
     "metadata": {},
     "output_type": "execute_result"
    }
   ],
   "source": [
    "Creat1"
   ]
  },
  {
   "cell_type": "code",
   "execution_count": 7,
   "id": "10a3e946",
   "metadata": {},
   "outputs": [],
   "source": [
    "X=Creat1[['radius_mean','texture_mean', 'perimeter_mean','area_mean', 'smoothness_mean', 'compactness_mean', 'concavity_mean','concave_points_mean', 'symmetry_mean', 'fractal_dimension_mean',\n",
    "       'radius_se', 'texture_se', 'perimeter_se', 'area_se', 'smoothness_se',\n",
    "       'compactness_se', 'concavity_se', 'concave_points_se', 'symmetry_se',\n",
    "       'fractal_dimension_se', 'radius_worst', 'texture_worst',\n",
    "       'perimeter_worst', 'area_worst', 'smoothness_worst',\n",
    "       'compactness_worst', 'concavity_worst', 'concave_points_worst',\n",
    "       'symmetry_worst', 'fractal_dimension_worst']]\n",
    "y=Creat1['diagnosis']"
   ]
  },
  {
   "cell_type": "code",
   "execution_count": 8,
   "id": "e68bd9c1",
   "metadata": {},
   "outputs": [],
   "source": [
    "X1=X.values\n",
    "X1 = (X1 - np.mean(X1,axis=0)) / np.std(X1,axis=0)"
   ]
  },
  {
   "cell_type": "code",
   "execution_count": 9,
   "id": "ecebbd1d",
   "metadata": {},
   "outputs": [
    {
     "data": {
      "text/plain": [
       "array([[ 1.09706398, -2.07333501,  1.26993369, ...,  2.29607613,\n",
       "         2.75062224,  1.93701461],\n",
       "       [ 1.82982061, -0.35363241,  1.68595471, ...,  1.0870843 ,\n",
       "        -0.24388967,  0.28118999],\n",
       "       [ 1.57988811,  0.45618695,  1.56650313, ...,  1.95500035,\n",
       "         1.152255  ,  0.20139121],\n",
       "       ...,\n",
       "       [ 0.70228425,  2.0455738 ,  0.67267578, ...,  0.41406869,\n",
       "        -1.10454895, -0.31840916],\n",
       "       [ 1.83834103,  2.33645719,  1.98252415, ...,  2.28998549,\n",
       "         1.91908301,  2.21963528],\n",
       "       [-1.80840125,  1.22179204, -1.81438851, ..., -1.74506282,\n",
       "        -0.04813821, -0.75120669]])"
      ]
     },
     "execution_count": 9,
     "metadata": {},
     "output_type": "execute_result"
    }
   ],
   "source": [
    "X1"
   ]
  },
  {
   "cell_type": "code",
   "execution_count": 10,
   "id": "7d437934",
   "metadata": {},
   "outputs": [],
   "source": [
    "from sklearn import model_selection"
   ]
  },
  {
   "cell_type": "code",
   "execution_count": 11,
   "id": "e367148e",
   "metadata": {},
   "outputs": [],
   "source": [
    "X_train, X_test, y_train, y_test = model_selection.train_test_split(X1, y, test_size = 0.2, random_state = 1000)"
   ]
  },
  {
   "cell_type": "code",
   "execution_count": 12,
   "id": "fc532378",
   "metadata": {},
   "outputs": [],
   "source": [
    "from sklearn import svm"
   ]
  },
  {
   "cell_type": "code",
   "execution_count": 13,
   "id": "3e60a7ff",
   "metadata": {},
   "outputs": [],
   "source": [
    "svcModel=svm.SVC(kernel='linear', C=1,probability=True)"
   ]
  },
  {
   "cell_type": "code",
   "execution_count": 14,
   "id": "3fce617f",
   "metadata": {},
   "outputs": [
    {
     "data": {
      "text/plain": [
       "SVC(C=1, kernel='linear', probability=True)"
      ]
     },
     "execution_count": 14,
     "metadata": {},
     "output_type": "execute_result"
    }
   ],
   "source": [
    "svcModel.fit(X_train, y_train)"
   ]
  },
  {
   "cell_type": "code",
   "execution_count": 15,
   "id": "e4947fd7",
   "metadata": {},
   "outputs": [],
   "source": [
    "predicted=svcModel.predict(X_test)"
   ]
  },
  {
   "cell_type": "code",
   "execution_count": 16,
   "id": "47e96b7d",
   "metadata": {},
   "outputs": [
    {
     "data": {
      "text/plain": [
       "array(['M', 'M', 'M', 'M', 'M', 'B', 'B', 'M', 'M', 'M', 'M', 'B', 'B',\n",
       "       'B', 'B', 'M', 'B', 'B', 'B', 'B', 'B', 'B', 'M', 'B', 'B', 'M',\n",
       "       'B', 'B', 'B', 'B', 'B', 'B', 'B', 'B', 'M', 'B', 'B', 'M', 'B',\n",
       "       'M', 'B', 'B', 'B', 'B', 'B', 'B', 'M', 'B', 'B', 'M', 'B', 'M',\n",
       "       'B', 'M', 'M', 'B', 'M', 'B', 'B', 'B', 'B', 'M', 'B', 'B', 'B',\n",
       "       'B', 'B', 'M', 'M', 'B', 'M', 'M', 'B', 'M', 'M', 'M', 'B', 'B',\n",
       "       'M', 'M', 'B', 'B', 'B', 'B', 'M', 'M', 'B', 'M', 'B', 'M', 'B',\n",
       "       'M', 'B', 'M', 'B', 'M', 'B', 'M', 'B', 'M', 'M', 'B', 'M', 'B',\n",
       "       'B', 'M', 'M', 'B', 'B', 'B', 'B', 'B', 'B', 'B'], dtype=object)"
      ]
     },
     "execution_count": 16,
     "metadata": {},
     "output_type": "execute_result"
    }
   ],
   "source": [
    "predicted"
   ]
  },
  {
   "cell_type": "code",
   "execution_count": 17,
   "id": "210a024c",
   "metadata": {},
   "outputs": [],
   "source": [
    "accuracy = svcModel.score(X_train, y_train)"
   ]
  },
  {
   "cell_type": "code",
   "execution_count": 18,
   "id": "e9c9552c",
   "metadata": {},
   "outputs": [
    {
     "data": {
      "text/plain": [
       "0.9868131868131869"
      ]
     },
     "execution_count": 18,
     "metadata": {},
     "output_type": "execute_result"
    }
   ],
   "source": [
    "accuracy"
   ]
  },
  {
   "cell_type": "code",
   "execution_count": 19,
   "id": "e4217f46",
   "metadata": {},
   "outputs": [],
   "source": [
    "from sklearn.metrics import f1_score"
   ]
  },
  {
   "cell_type": "code",
   "execution_count": 20,
   "id": "aa87dbda",
   "metadata": {},
   "outputs": [
    {
     "name": "stdout",
     "output_type": "stream",
     "text": [
      "0.9649122807017544\n"
     ]
    }
   ],
   "source": [
    "print(f1_score(y_test, predicted,average='micro'))"
   ]
  },
  {
   "cell_type": "markdown",
   "id": "b4251b03",
   "metadata": {},
   "source": [
    "Do lime"
   ]
  },
  {
   "cell_type": "code",
   "execution_count": 21,
   "id": "582658d5",
   "metadata": {},
   "outputs": [],
   "source": [
    "num_perturb = 569\n",
    "X_limePart = np.random.normal(0,1,size=(num_perturb,X.shape[1]))"
   ]
  },
  {
   "cell_type": "code",
   "execution_count": 22,
   "id": "ded22c1b",
   "metadata": {},
   "outputs": [
    {
     "data": {
      "text/plain": [
       "array([[ 5.24530880e-01, -2.00984970e+00,  2.35211055e+00, ...,\n",
       "         1.95021533e-01, -4.56179367e-01,  1.15708057e+00],\n",
       "       [ 9.24973693e-02, -7.63207413e-01, -1.19269986e+00, ...,\n",
       "         1.33996032e-01, -7.77300085e-01, -1.17808511e+00],\n",
       "       [ 1.66212201e-01, -1.21734058e+00,  1.09047686e+00, ...,\n",
       "         5.60852367e-01, -1.83810482e-01,  4.83293907e-02],\n",
       "       ...,\n",
       "       [-1.39139723e+00,  1.02955004e+00,  9.60189742e-01, ...,\n",
       "         1.44955629e+00,  5.76278909e-01,  4.13877743e-01],\n",
       "       [-9.27049045e-01,  8.54043843e-01,  1.63899914e-01, ...,\n",
       "        -9.35723914e-01, -2.05006577e+00, -6.86252967e-04],\n",
       "       [ 1.79927059e-01,  5.68669869e-01,  3.15132302e-01, ...,\n",
       "        -9.66409195e-01,  1.09871451e-03, -2.30600585e-02]])"
      ]
     },
     "execution_count": 22,
     "metadata": {},
     "output_type": "execute_result"
    }
   ],
   "source": [
    "X_limePart"
   ]
  },
  {
   "cell_type": "code",
   "execution_count": 23,
   "id": "555fbb92",
   "metadata": {},
   "outputs": [],
   "source": [
    "X_limePart1=(X_limePart)*np.std(X1,axis=0)+X"
   ]
  },
  {
   "cell_type": "code",
   "execution_count": 24,
   "id": "d0eccf53",
   "metadata": {},
   "outputs": [],
   "source": [
    "dfX_limePart=pd.DataFrame(X_limePart1,columns=['radius_mean','texture_mean', 'perimeter_mean','area_mean', 'smoothness_mean', 'compactness_mean', 'concavity_mean','concave_points_mean', 'symmetry_mean', 'fractal_dimension_mean',\n",
    "       'radius_se', 'texture_se', 'perimeter_se', 'area_se', 'smoothness_se',\n",
    "       'compactness_se', 'concavity_se', 'concave_points_se', 'symmetry_se',\n",
    "       'fractal_dimension_se', 'radius_worst', 'texture_worst',\n",
    "       'perimeter_worst', 'area_worst', 'smoothness_worst',\n",
    "       'compactness_worst', 'concavity_worst', 'concave_points_worst',\n",
    "       'symmetry_worst', 'fractal_dimension_worst'])"
   ]
  },
  {
   "cell_type": "code",
   "execution_count": 25,
   "id": "fcb892b1",
   "metadata": {},
   "outputs": [],
   "source": [
    "result=dfX_limePart"
   ]
  },
  {
   "cell_type": "code",
   "execution_count": 26,
   "id": "241ca5bd",
   "metadata": {},
   "outputs": [
    {
     "name": "stderr",
     "output_type": "stream",
     "text": [
      "C:\\Users\\User\\anaconda3\\lib\\site-packages\\sklearn\\base.py:443: UserWarning: X has feature names, but SVC was fitted without feature names\n",
      "  warnings.warn(\n"
     ]
    }
   ],
   "source": [
    "y2 = svcModel.predict_proba(result)"
   ]
  },
  {
   "cell_type": "code",
   "execution_count": 27,
   "id": "dcbafd8c",
   "metadata": {},
   "outputs": [],
   "source": [
    "original_data=np.array(X_test[0])"
   ]
  },
  {
   "cell_type": "code",
   "execution_count": 28,
   "id": "49070a30",
   "metadata": {},
   "outputs": [
    {
     "data": {
      "text/plain": [
       "array([ 1.00901958,  0.33750653,  1.04750661,  0.87828988,  1.07742478,\n",
       "        1.17800531,  1.2140743 ,  1.45686615,  0.58189236, -0.16126803,\n",
       "        1.46580104,  0.33229087,  1.32368253,  1.17869585,  0.66536734,\n",
       "        1.34480634,  0.66865393,  1.07283249, -0.334455  ,  0.44372519,\n",
       "        0.8699144 , -0.09236878,  0.76367278,  0.74081408,  0.41343409,\n",
       "        0.6077358 ,  0.41312203,  0.56176669, -0.7081927 , -0.36385013])"
      ]
     },
     "execution_count": 28,
     "metadata": {},
     "output_type": "execute_result"
    }
   ],
   "source": [
    "original_data"
   ]
  },
  {
   "cell_type": "code",
   "execution_count": 29,
   "id": "631be540",
   "metadata": {},
   "outputs": [
    {
     "data": {
      "text/plain": [
       "array([[ 1.00901958,  0.33750653,  1.04750661,  0.87828988,  1.07742478,\n",
       "         1.17800531,  1.2140743 ,  1.45686615,  0.58189236, -0.16126803,\n",
       "         1.46580104,  0.33229087,  1.32368253,  1.17869585,  0.66536734,\n",
       "         1.34480634,  0.66865393,  1.07283249, -0.334455  ,  0.44372519,\n",
       "         0.8699144 , -0.09236878,  0.76367278,  0.74081408,  0.41343409,\n",
       "         0.6077358 ,  0.41312203,  0.56176669, -0.7081927 , -0.36385013]])"
      ]
     },
     "execution_count": 29,
     "metadata": {},
     "output_type": "execute_result"
    }
   ],
   "source": [
    "original_data.reshape(1,30)"
   ]
  },
  {
   "cell_type": "code",
   "execution_count": 30,
   "id": "5495dff3",
   "metadata": {},
   "outputs": [],
   "source": [
    "import sklearn\n",
    "import sklearn.metrics"
   ]
  },
  {
   "cell_type": "code",
   "execution_count": 31,
   "id": "49f6d494",
   "metadata": {},
   "outputs": [],
   "source": [
    "distances = sklearn.metrics.pairwise_distances(result.values,original_data.reshape(1,30), metric='cosine').ravel()"
   ]
  },
  {
   "cell_type": "code",
   "execution_count": 32,
   "id": "b8b8278c",
   "metadata": {},
   "outputs": [
    {
     "name": "stdout",
     "output_type": "stream",
     "text": [
      "[0.73253321 0.73303892 0.72535668 0.70535467 0.72063504 0.71684476\n",
      " 0.7317743  0.71730351 0.71474662 0.71614456 0.72469889 0.72907181\n",
      " 0.71034755 0.71314831 0.7100782  0.71987599 0.72773186 0.728498\n",
      " 0.7418714  0.71298316 0.71115377 0.68943606 0.71677805 0.74404073\n",
      " 0.75011642 0.7207435  0.71866185 0.71821503 0.73020058 0.71952278\n",
      " 0.72545104 0.72617721 0.7241002  0.73298197 0.72975507 0.72505505\n",
      " 0.71456486 0.70747826 0.69186885 0.71618725 0.7178488  0.71004654\n",
      " 0.72236492 0.72354039 0.71783048 0.72603657 0.69044834 0.717639\n",
      " 0.70697377 0.71367797 0.70179813 0.71382988 0.70986889 0.71845719\n",
      " 0.72429647 0.7031428  0.7390522  0.72108111 0.70772887 0.68984123\n",
      " 0.68997589 0.68254824 0.7144498  0.6839085  0.72434997 0.71871328\n",
      " 0.69397557 0.70365304 0.69271037 0.7090333  0.73126687 0.67430422\n",
      " 0.7361376  0.71909802 0.71511536 0.7205551  0.70418443 0.72115344\n",
      " 0.71657258 0.71174987 0.70621537 0.70755261 0.72992121 0.71826817\n",
      " 0.71265254 0.72751698 0.71357491 0.73054772 0.7062135  0.70990304\n",
      " 0.71361917 0.71436738 0.71937828 0.71281807 0.71871445 0.72672508\n",
      " 0.69991616 0.69769719 0.70620988 0.71610881 0.72031262 0.67382595\n",
      " 0.70834682 0.69340572 0.69275375 0.71912466 0.70508117 0.71387088\n",
      " 0.72690102 0.7069564  0.68913549 0.69959321 0.70771555 0.69101014\n",
      " 0.68930918 0.70775413 0.68012637 0.72531843 0.72702959 0.72330023\n",
      " 0.71000796 0.72432481 0.71354429 0.71539191 0.7123542  0.71383369\n",
      " 0.72083275 0.72389626 0.70842962 0.72701427 0.70696242 0.72513054\n",
      " 0.72285428 0.71723884 0.72872288 0.71381857 0.70231514 0.70738346\n",
      " 0.70661624 0.69713078 0.69549998 0.72126036 0.70048318 0.71208704\n",
      " 0.70127987 0.70086597 0.70996328 0.7105414  0.71559288 0.71461421\n",
      " 0.70473142 0.68414551 0.68070529 0.70111196 0.71243952 0.71083721\n",
      " 0.71693214 0.71652726 0.70888043 0.70462299 0.69826753 0.71744401\n",
      " 0.73905358 0.70401242 0.73411356 0.71798892 0.70193544 0.7224628\n",
      " 0.72613254 0.71409125 0.70714038 0.72550099 0.72310698 0.69585251\n",
      " 0.69727509 0.69071506 0.69428359 0.71865504 0.71328558 0.70854794\n",
      " 0.73615913 0.73365152 0.73225864 0.70188111 0.72335237 0.70145678\n",
      " 0.73030224 0.70988475 0.70412073 0.70792892 0.71233883 0.69558396\n",
      " 0.6818539  0.71870576 0.7112567  0.71142679 0.70891026 0.71733772\n",
      " 0.72991296 0.72918549 0.70985701 0.72379626 0.72626751 0.73069084\n",
      " 0.71289498 0.72175478 0.6963214  0.71906233 0.7107946  0.72326668\n",
      " 0.71921749 0.70982267 0.70131665 0.71238937 0.71353167 0.71266798\n",
      " 0.70378316 0.69628499 0.72978799 0.74493328 0.71601346 0.71191881\n",
      " 0.69456359 0.72356996 0.71381857 0.71397613 0.69920775 0.71615408\n",
      " 0.70948542 0.71484474 0.72490566 0.70722622 0.70492188 0.73112532\n",
      " 0.69308779 0.71315827 0.73881221 0.72569204 0.71220175 0.72785376\n",
      " 0.70950027 0.7102891  0.70073479 0.70722978 0.72221097 0.69545976\n",
      " 0.71101695 0.71089965 0.70355854 0.7063433  0.72585507 0.70102195\n",
      " 0.7327096  0.72586304 0.73735417 0.71549591 0.72954783 0.71107128\n",
      " 0.70898233 0.72421711 0.73188815 0.72313608 0.71873628 0.72281014\n",
      " 0.73100254 0.75232562 0.69313385 0.70712183 0.71085375 0.69378625\n",
      " 0.71433865 0.70543185 0.73010855 0.69414382 0.72390551 0.69024886\n",
      " 0.70303048 0.72278728 0.71726223 0.71056219 0.7301392  0.70156066\n",
      " 0.72916925 0.72155205 0.70601787 0.70594516 0.70300128 0.71171136\n",
      " 0.68985419 0.70479345 0.70132182 0.71652151 0.71083368 0.70744681\n",
      " 0.7091453  0.71348898 0.69928066 0.6990975  0.71957335 0.69366294\n",
      " 0.73094926 0.70559732 0.71914048 0.70081158 0.70127689 0.70117051\n",
      " 0.71401634 0.69553673 0.71447504 0.71070085 0.70506325 0.71897512\n",
      " 0.70849992 0.70433904 0.67415461 0.70929938 0.70894988 0.72936326\n",
      " 0.68121968 0.70030815 0.69370374 0.72649837 0.71117552 0.73232104\n",
      " 0.71124887 0.70780409 0.71742593 0.70914834 0.72202436 0.71263169\n",
      " 0.72194344 0.70713568 0.70071739 0.70625173 0.70948925 0.72053658\n",
      " 0.71085217 0.73390848 0.6972088  0.73616236 0.71766888 0.69653638\n",
      " 0.70296089 0.72311927 0.70441023 0.69375619 0.7100764  0.71757989\n",
      " 0.70739421 0.6973354  0.70616496 0.7103713  0.73768909 0.71709359\n",
      " 0.69583891 0.70163225 0.70952842 0.71329178 0.67372947 0.69883383\n",
      " 0.70652147 0.7091287  0.70806856 0.71956145 0.71497699 0.72861524\n",
      " 0.7215381  0.71438959 0.7419212  0.728979   0.7228319  0.7180381\n",
      " 0.72612937 0.73149248 0.71384491 0.71817712 0.69635548 0.71326238\n",
      " 0.71404163 0.70675936 0.70213869 0.70595583 0.7032904  0.71212823\n",
      " 0.71064021 0.71256531 0.70408851 0.71555251 0.70086785 0.71789986\n",
      " 0.70136043 0.68730795 0.73003167 0.73197114 0.70710901 0.71518162\n",
      " 0.7117996  0.70491416 0.70802483 0.70544004 0.72263183 0.71244632\n",
      " 0.70738041 0.71222639 0.70470156 0.69919186 0.7207774  0.70623691\n",
      " 0.72538737 0.71042745 0.70909041 0.70714229 0.69138379 0.71645003\n",
      " 0.71514137 0.70405996 0.68787012 0.72908499 0.7083207  0.70374507\n",
      " 0.70426307 0.70756875 0.70413528 0.71330018 0.68416605 0.69849414\n",
      " 0.700031   0.7051526  0.70518258 0.70741182 0.71295243 0.70264488\n",
      " 0.72431098 0.72399291 0.7154766  0.72200865 0.70855079 0.71165803\n",
      " 0.71340695 0.71303602 0.70254581 0.72382208 0.71241482 0.69633523\n",
      " 0.7273498  0.70377289 0.72878464 0.71786597 0.71715637 0.73210335\n",
      " 0.70322059 0.72291702 0.70566339 0.71289889 0.71494029 0.71233792\n",
      " 0.70447952 0.71119486 0.71133274 0.69898474 0.72862502 0.72698941\n",
      " 0.71236664 0.70687077 0.71526102 0.71371982 0.71164706 0.69746795\n",
      " 0.71965956 0.70054977 0.69768535 0.69767758 0.72112687 0.70136496\n",
      " 0.70564706 0.70985273 0.71339215 0.716671   0.70393018 0.71466488\n",
      " 0.70817781 0.71877047 0.71395356 0.71346315 0.71777343 0.70251503\n",
      " 0.72086566 0.73130471 0.7061888  0.72248717 0.71167654 0.72116675\n",
      " 0.72103132 0.70164665 0.70894586 0.71499625 0.71252506 0.71445492\n",
      " 0.72671284 0.72693372 0.71366961 0.71229157 0.7056646  0.73360873\n",
      " 0.68258439 0.69001299 0.70437445 0.6989408  0.71961883 0.71451718\n",
      " 0.70453917 0.71356109 0.71793832 0.71763845 0.721379   0.70592057\n",
      " 0.72659324 0.72743182 0.7085841  0.70556468 0.6876439  0.73055576\n",
      " 0.70430244 0.71036795 0.69192439 0.69166636 0.71572922 0.7094798\n",
      " 0.70147369 0.70784874 0.70352913 0.70744192 0.72064627 0.72168765\n",
      " 0.70013325 0.72722897 0.71379751 0.70144805 0.67834317 0.68311971\n",
      " 0.69909817 0.71617585 0.71569061 0.70951427 0.71198155 0.71194513\n",
      " 0.69792076 0.69849343 0.69957671 0.69805266 0.69675155 0.70030453\n",
      " 0.71022311 0.68845218 0.71265928 0.69284636 0.69260198 0.68398147\n",
      " 0.71259537 0.70140957 0.70980156 0.69687727 0.71693642 0.72158349\n",
      " 0.72303744 0.72478971 0.72133582 0.72557533 0.68247923]\n"
     ]
    }
   ],
   "source": [
    "print(distances)"
   ]
  },
  {
   "cell_type": "code",
   "execution_count": 33,
   "id": "6a262e5a",
   "metadata": {},
   "outputs": [
    {
     "data": {
      "text/plain": [
       "(569,)"
      ]
     },
     "execution_count": 33,
     "metadata": {},
     "output_type": "execute_result"
    }
   ],
   "source": [
    "distances.shape"
   ]
  },
  {
   "cell_type": "code",
   "execution_count": 34,
   "id": "3c1ac247",
   "metadata": {},
   "outputs": [
    {
     "name": "stdout",
     "output_type": "stream",
     "text": [
      "[0.01366607 0.01358528 0.01485916 0.01868187 0.01569334 0.0163925\n",
      " 0.0137881  0.01630645 0.01679118 0.01652461 0.01497298 0.01423053\n",
      " 0.01765477 0.01710056 0.01770889 0.01583122 0.0144545  0.01432607\n",
      " 0.01224074 0.01713281 0.01749365 0.0223132  0.01640505 0.01192912\n",
      " 0.01109349 0.01567373 0.01605397 0.01613664 0.01404424 0.01589574\n",
      " 0.0148429  0.01471826 0.01507724 0.01359436 0.01411751 0.01491126\n",
      " 0.01682611 0.0182388  0.02172134 0.01651653 0.01620468 0.01771526\n",
      " 0.01538306 0.01517531 0.01620809 0.01474232 0.02206525 0.01624377\n",
      " 0.01834322 0.01699748 0.01944501 0.01696802 0.01775105 0.01609179\n",
      " 0.01504299 0.01915334 0.01265649 0.01561281 0.01818713 0.02221367\n",
      " 0.02218067 0.02406548 0.01684826 0.02371028 0.01503367 0.01604448\n",
      " 0.02121988 0.01904366 0.02151981 0.01792022 0.01387024 0.02631834\n",
      " 0.0130994  0.01597364 0.0167205  0.01570781 0.01893003 0.01559978\n",
      " 0.01644374 0.01737535 0.01850117 0.01822346 0.01409014 0.01612679\n",
      " 0.01719754 0.01449071 0.0170175  0.01398738 0.01850156 0.01774416\n",
      " 0.0170089  0.01686414 0.0159222  0.0171651  0.01604427 0.01462483\n",
      " 0.01985973 0.02035862 0.01850232 0.01653138 0.01575178 0.02645444\n",
      " 0.01806025 0.02135452 0.02150947 0.01596874 0.01873961 0.01696008\n",
      " 0.01459494 0.01834682 0.02238729 0.01993167 0.01818987 0.02192868\n",
      " 0.02234445 0.01818193 0.02470931 0.01486576 0.01457313 0.01521755\n",
      " 0.01772303 0.01503805 0.01702345 0.01666766 0.01725613 0.01696728\n",
      " 0.0156576  0.0151129  0.01804331 0.01457572 0.01834557 0.01489821\n",
      " 0.01529627 0.01631856 0.01428856 0.01697021 0.01933241 0.01825838\n",
      " 0.01841754 0.0204877  0.02086334 0.01558055 0.01973398 0.01730874\n",
      " 0.01955845 0.01964947 0.01773203 0.01761591 0.01662936 0.01681662\n",
      " 0.01881368 0.02364885 0.02455407 0.01959533 0.01723935 0.01755676\n",
      " 0.01637608 0.01645229 0.01795132 0.01883669 0.02022936 0.01628017\n",
      " 0.01265628 0.01896675 0.013415   0.01617862 0.01941505 0.01536566\n",
      " 0.0147259  0.01691744 0.01830868 0.0148343  0.01525162 0.02078163\n",
      " 0.02045474 0.02200032 0.02114741 0.01605523 0.01707379 0.01801913\n",
      " 0.01309608 0.01348798 0.01371011 0.0194269  0.01520837 0.01951966\n",
      " 0.01402757 0.01774785 0.01894362 0.01814597 0.01725915 0.02084385\n",
      " 0.02424856 0.01604587 0.01747317 0.01743938 0.01794525 0.01630005\n",
      " 0.0140915  0.01421167 0.01775344 0.01513042 0.01470282 0.013964\n",
      " 0.01715005 0.01549187 0.02067339 0.0159802  0.01756527 0.01522346\n",
      " 0.01595169 0.01776037 0.01955038 0.01724921 0.0170259  0.01719451\n",
      " 0.01901578 0.02068178 0.01411208 0.01180296 0.01654945 0.01734195\n",
      " 0.02108173 0.01517012 0.01697021 0.0169397  0.02001783 0.01652281\n",
      " 0.01782851 0.01677234 0.01493712 0.0182909  0.01877331 0.01389323\n",
      " 0.02142996 0.01709862 0.01269245 0.01480143 0.01728613 0.014434\n",
      " 0.0178255  0.0176665  0.01967839 0.01829017 0.01541045 0.02087268\n",
      " 0.0175209  0.01754429 0.01906393 0.01847444 0.01477343 0.01961513\n",
      " 0.01363784 0.01477207 0.01291289 0.01664783 0.0141517  0.01751007\n",
      " 0.01793058 0.01505683 0.01376974 0.01524648 0.01604024 0.01530408\n",
      " 0.01391319 0.01080279 0.02141901 0.01831252 0.01755346 0.02126453\n",
      " 0.01686967 0.0186656  0.01405935 0.02118027 0.01511128 0.02211392\n",
      " 0.01917755 0.01530812 0.01631418 0.01761175 0.01405431 0.01949692\n",
      " 0.01421436 0.01552818 0.0185425  0.01855774 0.01918385 0.01738297\n",
      " 0.02221049 0.01880053 0.01954925 0.01645338 0.01755746 0.0182453\n",
      " 0.01789746 0.0170342  0.02000151 0.02004254 0.01588649 0.02129365\n",
      " 0.01392187 0.01863077 0.01596583 0.01966146 0.01955911 0.01958247\n",
      " 0.01693192 0.02085481 0.0168434  0.01758401 0.0187434  0.01599624\n",
      " 0.01802894 0.01889708 0.02636085 0.0178662  0.01793718 0.01418222\n",
      " 0.02441684 0.01977272 0.02128401 0.01466342 0.01748932 0.01370009\n",
      " 0.01747473 0.01817164 0.01628355 0.01789684 0.01544371 0.01720163\n",
      " 0.01545815 0.01830965 0.01968223 0.01849357 0.01782773 0.01571116\n",
      " 0.01755377 0.01344735 0.02046988 0.01309558 0.0162382  0.02062393\n",
      " 0.01919257 0.01524945 0.01888192 0.02127163 0.01770925 0.0162548\n",
      " 0.01825616 0.02044098 0.01851171 0.01765001 0.01286196 0.01634578\n",
      " 0.02078478 0.01948126 0.01781981 0.01707259 0.02648197 0.02010172\n",
      " 0.01843728 0.01790083 0.01811729 0.01588866 0.01674699 0.0143065\n",
      " 0.01553068 0.01685986 0.01223351 0.01424594 0.01530023 0.01616948\n",
      " 0.01472644 0.01383367 0.01696511 0.01614367 0.02066554 0.01707831\n",
      " 0.01692703 0.01838775 0.01937077 0.0185555  0.01912155 0.01730062\n",
      " 0.01759613 0.01721465 0.0189505  0.01663705 0.01964906 0.01619518\n",
      " 0.01954078 0.02284238 0.01407198 0.01375636 0.01831518 0.01670783\n",
      " 0.01736551 0.01877495 0.01812626 0.01866388 0.01533567 0.01723802\n",
      " 0.01825902 0.01728128 0.01882002 0.02002139 0.0156676  0.01849667\n",
      " 0.01485387 0.01763875 0.01790861 0.01830828 0.02183825 0.01646686\n",
      " 0.01671552 0.01895659 0.02270154 0.01422834 0.0180656  0.01902394\n",
      " 0.01891326 0.01822013 0.01894052 0.01707095 0.02364354 0.0201782\n",
      " 0.01983421 0.01872452 0.01871818 0.01825252 0.01713882 0.01926089\n",
      " 0.01504046 0.01509599 0.01665151 0.01544651 0.01801855 0.01739353\n",
      " 0.01705016 0.01712248 0.01928235 0.01512589 0.01724421 0.02067021\n",
      " 0.01451893 0.01901798 0.01427827 0.01620148 0.01633401 0.01373508\n",
      " 0.01913658 0.01528517 0.01861688 0.01714929 0.01675402 0.01725933\n",
      " 0.01886718 0.01748547 0.01745806 0.02006783 0.01430487 0.01457994\n",
      " 0.01725368 0.0183646  0.01669265 0.01698936 0.0173957  0.02041078\n",
      " 0.01587073 0.01971925 0.02036131 0.02036308 0.01560457 0.01953979\n",
      " 0.01862031 0.01775431 0.01705304 0.0164252  0.01898433 0.01680688\n",
      " 0.01809488 0.01603393 0.01694407 0.01703922 0.01621871 0.01928903\n",
      " 0.01565166 0.0138641  0.01850673 0.01536133 0.01738986 0.01559739\n",
      " 0.01562178 0.01947811 0.017938   0.0167433  0.01722255 0.01684727\n",
      " 0.01462691 0.01458939 0.01699911 0.01726845 0.01861663 0.01349476\n",
      " 0.02405598 0.02217159 0.01888954 0.02007769 0.01587817 0.01683528\n",
      " 0.0188545  0.01702018 0.01618803 0.01624387 0.01555923 0.01856289\n",
      " 0.01464726 0.01450508 0.01801174 0.01863764 0.02275813 0.01398607\n",
      " 0.01890488 0.01765068 0.02170799 0.02177008 0.01660342 0.01782965\n",
      " 0.01951596 0.01816246 0.01907025 0.01824631 0.01569131 0.01550389\n",
      " 0.0198115  0.01453936 0.0169743  0.01952158 0.02519283 0.0239157\n",
      " 0.02004239 0.01651869 0.01661076 0.01782267 0.01732956 0.01733675\n",
      " 0.02030786 0.02017836 0.01993535 0.02027797 0.02057452 0.01977352\n",
      " 0.01767976 0.02255652 0.01719621 0.0214874  0.02154568 0.02369135\n",
      " 0.01720875 0.01953001 0.01776463 0.0205457  0.01637528 0.01552254\n",
      " 0.01526389 0.01495722 0.01556699 0.0148215  0.02408362]\n"
     ]
    }
   ],
   "source": [
    "kernel_width = 0.25\n",
    "weights = np.sqrt(np.exp(-(distances**2)/kernel_width**2)) #Kernel function\n",
    "print(weights)"
   ]
  },
  {
   "cell_type": "code",
   "execution_count": 35,
   "id": "28d74dbc",
   "metadata": {},
   "outputs": [
    {
     "data": {
      "text/plain": [
       "(569,)"
      ]
     },
     "execution_count": 35,
     "metadata": {},
     "output_type": "execute_result"
    }
   ],
   "source": [
    "weights.shape"
   ]
  },
  {
   "cell_type": "code",
   "execution_count": 36,
   "id": "c6952799",
   "metadata": {},
   "outputs": [],
   "source": [
    "from sklearn.linear_model import LinearRegression"
   ]
  },
  {
   "cell_type": "code",
   "execution_count": 37,
   "id": "7acaed9c",
   "metadata": {},
   "outputs": [
    {
     "data": {
      "text/plain": [
       "LinearRegression()"
      ]
     },
     "execution_count": 37,
     "metadata": {},
     "output_type": "execute_result"
    }
   ],
   "source": [
    "simpler_model = LinearRegression()\n",
    "simpler_model.fit(X=result, y=y2, sample_weight=weights)"
   ]
  },
  {
   "cell_type": "code",
   "execution_count": 38,
   "id": "1832e6c7",
   "metadata": {},
   "outputs": [
    {
     "data": {
      "text/plain": [
       "array([[ 1.17206750e-44,  1.55245483e-45,  2.10049104e-45,\n",
       "        -2.51648189e-46, -7.92171965e-46,  1.37436344e-45,\n",
       "        -8.18153732e-48,  1.09072280e-46,  4.91298125e-46,\n",
       "         1.62959521e-45, -4.40180377e-46,  2.21086500e-45,\n",
       "        -4.99350295e-46,  1.55932975e-46,  1.33765586e-45,\n",
       "         9.48909074e-47,  3.30699460e-46, -9.66094610e-46,\n",
       "        -3.39416499e-46,  9.28041464e-46,  7.03264487e-45,\n",
       "        -1.00270075e-45, -1.95139827e-45,  4.39900169e-47,\n",
       "        -4.76182137e-46,  7.20530503e-47, -1.45680619e-46,\n",
       "        -8.42090195e-46,  4.67516361e-46, -6.57539537e-46],\n",
       "       [ 1.44394396e-30,  1.93868451e-31,  2.69843980e-31,\n",
       "        -3.13851900e-32, -7.99710222e-32,  1.69852412e-31,\n",
       "         2.96298507e-32,  5.41561011e-34,  6.96147872e-32,\n",
       "         2.05793219e-31, -7.72532205e-32,  2.37522025e-31,\n",
       "        -4.11252054e-32,  1.88369555e-32,  1.42910582e-31,\n",
       "         3.08928204e-32,  3.15785010e-32, -1.24619777e-31,\n",
       "        -4.72146315e-32,  1.19712585e-31,  8.24546098e-31,\n",
       "        -1.22592466e-31, -2.43898533e-31,  5.72094294e-33,\n",
       "        -7.08401669e-32,  4.03061413e-32, -1.89704131e-32,\n",
       "        -8.08510348e-32,  6.51264414e-32, -7.24229710e-32]])"
      ]
     },
     "execution_count": 38,
     "metadata": {},
     "output_type": "execute_result"
    }
   ],
   "source": [
    "simpler_model.coef_"
   ]
  },
  {
   "cell_type": "code",
   "execution_count": 39,
   "id": "2db07e9f",
   "metadata": {},
   "outputs": [],
   "source": [
    "simpler_model.coef_2=abs(simpler_model.coef_[0])"
   ]
  },
  {
   "cell_type": "code",
   "execution_count": 40,
   "id": "270546b6",
   "metadata": {},
   "outputs": [
    {
     "data": {
      "text/plain": [
       "array([1.17206750e-44, 1.55245483e-45, 2.10049104e-45, 2.51648189e-46,\n",
       "       7.92171965e-46, 1.37436344e-45, 8.18153732e-48, 1.09072280e-46,\n",
       "       4.91298125e-46, 1.62959521e-45, 4.40180377e-46, 2.21086500e-45,\n",
       "       4.99350295e-46, 1.55932975e-46, 1.33765586e-45, 9.48909074e-47,\n",
       "       3.30699460e-46, 9.66094610e-46, 3.39416499e-46, 9.28041464e-46,\n",
       "       7.03264487e-45, 1.00270075e-45, 1.95139827e-45, 4.39900169e-47,\n",
       "       4.76182137e-46, 7.20530503e-47, 1.45680619e-46, 8.42090195e-46,\n",
       "       4.67516361e-46, 6.57539537e-46])"
      ]
     },
     "execution_count": 40,
     "metadata": {},
     "output_type": "execute_result"
    }
   ],
   "source": [
    "simpler_model.coef_2"
   ]
  },
  {
   "cell_type": "code",
   "execution_count": 41,
   "id": "f62a0c52",
   "metadata": {},
   "outputs": [],
   "source": [
    "feature_nameintxt=['radius_mean','texture_mean', 'perimeter_mean','area_mean', 'smoothness_mean', 'compactness_mean', 'concavity_mean','concave_points_mean', 'symmetry_mean', 'fractal_dimension_mean',\n",
    "       'radius_se', 'texture_se', 'perimeter_se', 'area_se', 'smoothness_se',\n",
    "       'compactness_se', 'concavity_se', 'concave_points_se', 'symmetry_se',\n",
    "       'fractal_dimension_se', 'radius_worst', 'texture_worst',\n",
    "       'perimeter_worst', 'area_worst', 'smoothness_worst',\n",
    "       'compactness_worst', 'concavity_worst', 'concave_points_worst',\n",
    "       'symmetry_worst', 'fractal_dimension_worst']\n",
    "featurecoef=zip(feature_nameintxt,simpler_model.coef_2)\n",
    "featurecoef1=dict(featurecoef)"
   ]
  },
  {
   "cell_type": "code",
   "execution_count": 42,
   "id": "f789273d",
   "metadata": {},
   "outputs": [
    {
     "name": "stdout",
     "output_type": "stream",
     "text": [
      "['area_mean', 'area_se', 'area_worst', 'compactness_mean', 'compactness_se', 'compactness_worst', 'concave_points_mean', 'concave_points_se', 'concave_points_worst', 'concavity_mean', 'concavity_se', 'concavity_worst', 'fractal_dimension_mean', 'fractal_dimension_se', 'fractal_dimension_worst', 'perimeter_mean', 'perimeter_se', 'perimeter_worst', 'radius_mean', 'radius_se', 'radius_worst', 'smoothness_mean', 'smoothness_se', 'smoothness_worst', 'symmetry_mean', 'symmetry_se', 'symmetry_worst', 'texture_mean', 'texture_se', 'texture_worst']\n"
     ]
    }
   ],
   "source": [
    "print(sorted(featurecoef1.keys()))"
   ]
  },
  {
   "cell_type": "code",
   "execution_count": 43,
   "id": "6cf0358b",
   "metadata": {},
   "outputs": [
    {
     "data": {
      "text/plain": [
       "[('concavity_mean', 8.181537315194337e-48),\n",
       " ('area_worst', 4.399001688567259e-47),\n",
       " ('compactness_worst', 7.205305026106296e-47),\n",
       " ('compactness_se', 9.489090740475517e-47),\n",
       " ('concave_points_mean', 1.0907227971485272e-46),\n",
       " ('concavity_worst', 1.4568061892949543e-46),\n",
       " ('area_se', 1.5593297549699958e-46),\n",
       " ('area_mean', 2.5164818875792704e-46),\n",
       " ('concavity_se', 3.306994597727629e-46),\n",
       " ('symmetry_se', 3.3941649874402352e-46),\n",
       " ('radius_se', 4.401803773660866e-46),\n",
       " ('symmetry_worst', 4.675163608743322e-46),\n",
       " ('smoothness_worst', 4.761821373066846e-46),\n",
       " ('symmetry_mean', 4.9129812472856526e-46),\n",
       " ('perimeter_se', 4.993502950736556e-46),\n",
       " ('fractal_dimension_worst', 6.575395366936892e-46),\n",
       " ('smoothness_mean', 7.921719649140838e-46),\n",
       " ('concave_points_worst', 8.42090194981654e-46),\n",
       " ('fractal_dimension_se', 9.280414643683361e-46),\n",
       " ('concave_points_se', 9.660946096439896e-46),\n",
       " ('texture_worst', 1.0027007450879271e-45),\n",
       " ('smoothness_se', 1.3376558621501548e-45),\n",
       " ('compactness_mean', 1.3743634443117463e-45),\n",
       " ('texture_mean', 1.5524548303240064e-45),\n",
       " ('fractal_dimension_mean', 1.629595214695165e-45),\n",
       " ('perimeter_worst', 1.9513982749900346e-45),\n",
       " ('perimeter_mean', 2.1004910352337758e-45),\n",
       " ('texture_se', 2.21086499984277e-45),\n",
       " ('radius_worst', 7.032644865239919e-45),\n",
       " ('radius_mean', 1.1720675025509583e-44)]"
      ]
     },
     "execution_count": 43,
     "metadata": {},
     "output_type": "execute_result"
    }
   ],
   "source": [
    "sorted(featurecoef1.items(),key=lambda kv:(kv[1], kv[0]))"
   ]
  },
  {
   "cell_type": "markdown",
   "id": "03f9d281",
   "metadata": {},
   "source": [
    "# Train LimeTree"
   ]
  },
  {
   "cell_type": "code",
   "execution_count": 44,
   "id": "a62f995d",
   "metadata": {},
   "outputs": [],
   "source": [
    "from sklearn import tree"
   ]
  },
  {
   "cell_type": "code",
   "execution_count": 45,
   "id": "f7120129",
   "metadata": {},
   "outputs": [
    {
     "data": {
      "text/plain": [
       "DecisionTreeRegressor(max_depth=5)"
      ]
     },
     "execution_count": 45,
     "metadata": {},
     "output_type": "execute_result"
    }
   ],
   "source": [
    "treemodel=tree.DecisionTreeRegressor(max_depth=5)\n",
    "treemodel.fit(result,y2,sample_weight=weights)"
   ]
  },
  {
   "cell_type": "code",
   "execution_count": 46,
   "id": "8b8a70bc",
   "metadata": {},
   "outputs": [],
   "source": [
    "importances = treemodel.feature_importances_"
   ]
  },
  {
   "cell_type": "code",
   "execution_count": 47,
   "id": "50b5f22e",
   "metadata": {},
   "outputs": [
    {
     "data": {
      "text/plain": [
       "array([ 0.        ,  0.        ,  0.        ,  0.        ,  0.        ,\n",
       "        0.        ,  0.        ,  0.        ,  0.        ,  0.        ,\n",
       "        0.        ,  0.        ,  0.        ,  0.        ,  0.        ,\n",
       "        0.        ,  0.        , -0.09803958,  0.        ,  0.        ,\n",
       "        0.        ,  0.        ,  0.        ,  0.        ,  0.        ,\n",
       "        1.09803958,  0.        ,  0.        ,  0.        ,  0.        ])"
      ]
     },
     "execution_count": 47,
     "metadata": {},
     "output_type": "execute_result"
    }
   ],
   "source": [
    "importances"
   ]
  },
  {
   "cell_type": "code",
   "execution_count": 48,
   "id": "eef632b1",
   "metadata": {},
   "outputs": [],
   "source": [
    "feature_nameintxt1=['radius_mean','texture_mean', 'perimeter_mean','area_mean', 'smoothness_mean', 'compactness_mean', 'concavity_mean','concave_points_mean', 'symmetry_mean', 'fractal_dimension_mean',\n",
    "       'radius_se', 'texture_se', 'perimeter_se', 'area_se', 'smoothness_se',\n",
    "       'compactness_se', 'concavity_se', 'concave_points_se', 'symmetry_se',\n",
    "       'fractal_dimension_se', 'radius_worst', 'texture_worst',\n",
    "       'perimeter_worst', 'area_worst', 'smoothness_worst',\n",
    "       'compactness_worst', 'concavity_worst', 'concave_points_worst',\n",
    "       'symmetry_worst', 'fractal_dimension_worst']\n",
    "featureimportances=zip(feature_nameintxt1,importances)\n",
    "featureimportances1=dict(featureimportances)"
   ]
  },
  {
   "cell_type": "code",
   "execution_count": 49,
   "id": "a82bd589",
   "metadata": {},
   "outputs": [
    {
     "name": "stdout",
     "output_type": "stream",
     "text": [
      "['area_mean', 'area_se', 'area_worst', 'compactness_mean', 'compactness_se', 'compactness_worst', 'concave_points_mean', 'concave_points_se', 'concave_points_worst', 'concavity_mean', 'concavity_se', 'concavity_worst', 'fractal_dimension_mean', 'fractal_dimension_se', 'fractal_dimension_worst', 'perimeter_mean', 'perimeter_se', 'perimeter_worst', 'radius_mean', 'radius_se', 'radius_worst', 'smoothness_mean', 'smoothness_se', 'smoothness_worst', 'symmetry_mean', 'symmetry_se', 'symmetry_worst', 'texture_mean', 'texture_se', 'texture_worst']\n"
     ]
    }
   ],
   "source": [
    "print(sorted(featureimportances1.keys()))"
   ]
  },
  {
   "cell_type": "code",
   "execution_count": 50,
   "id": "ee9a18de",
   "metadata": {},
   "outputs": [
    {
     "data": {
      "text/plain": [
       "[('concave_points_se', -0.09803958138360953),\n",
       " ('area_mean', 0.0),\n",
       " ('area_se', 0.0),\n",
       " ('area_worst', 0.0),\n",
       " ('compactness_mean', 0.0),\n",
       " ('compactness_se', 0.0),\n",
       " ('concave_points_mean', 0.0),\n",
       " ('concave_points_worst', 0.0),\n",
       " ('concavity_mean', 0.0),\n",
       " ('concavity_se', 0.0),\n",
       " ('concavity_worst', 0.0),\n",
       " ('fractal_dimension_mean', 0.0),\n",
       " ('fractal_dimension_se', 0.0),\n",
       " ('fractal_dimension_worst', 0.0),\n",
       " ('perimeter_mean', 0.0),\n",
       " ('perimeter_se', 0.0),\n",
       " ('perimeter_worst', 0.0),\n",
       " ('radius_mean', 0.0),\n",
       " ('radius_se', 0.0),\n",
       " ('radius_worst', 0.0),\n",
       " ('smoothness_mean', 0.0),\n",
       " ('smoothness_se', 0.0),\n",
       " ('smoothness_worst', 0.0),\n",
       " ('symmetry_mean', 0.0),\n",
       " ('symmetry_se', 0.0),\n",
       " ('symmetry_worst', 0.0),\n",
       " ('texture_mean', 0.0),\n",
       " ('texture_se', 0.0),\n",
       " ('texture_worst', 0.0),\n",
       " ('compactness_worst', 1.0980395813836095)]"
      ]
     },
     "execution_count": 50,
     "metadata": {},
     "output_type": "execute_result"
    }
   ],
   "source": [
    "sorted(featureimportances1.items(),key=lambda kv:(kv[1], kv[0]))"
   ]
  },
  {
   "cell_type": "markdown",
   "id": "1761b9d6",
   "metadata": {},
   "source": [
    "# Train LimeRandomforest"
   ]
  },
  {
   "cell_type": "code",
   "execution_count": 51,
   "id": "044ba6c0",
   "metadata": {},
   "outputs": [],
   "source": [
    "from sklearn.ensemble import RandomForestRegressor"
   ]
  },
  {
   "cell_type": "code",
   "execution_count": 52,
   "id": "75a8578a",
   "metadata": {},
   "outputs": [
    {
     "data": {
      "text/plain": [
       "RandomForestRegressor(max_depth=5)"
      ]
     },
     "execution_count": 52,
     "metadata": {},
     "output_type": "execute_result"
    }
   ],
   "source": [
    "regr_rf=RandomForestRegressor(max_depth=5)\n",
    "regr_rf.fit(X=result, y=y2,sample_weight=weights)"
   ]
  },
  {
   "cell_type": "code",
   "execution_count": 53,
   "id": "49bc79e7",
   "metadata": {},
   "outputs": [],
   "source": [
    "importances2 = regr_rf.feature_importances_"
   ]
  },
  {
   "cell_type": "code",
   "execution_count": 54,
   "id": "b1384ca3",
   "metadata": {},
   "outputs": [],
   "source": [
    "feature_nameintxt2=['radius_mean','texture_mean', 'perimeter_mean','area_mean', 'smoothness_mean', 'compactness_mean', 'concavity_mean','concave_points_mean', 'symmetry_mean', 'fractal_dimension_mean',\n",
    "       'radius_se', 'texture_se', 'perimeter_se', 'area_se', 'smoothness_se',\n",
    "       'compactness_se', 'concavity_se', 'concave_points_se', 'symmetry_se',\n",
    "       'fractal_dimension_se', 'radius_worst', 'texture_worst',\n",
    "       'perimeter_worst', 'area_worst', 'smoothness_worst',\n",
    "       'compactness_worst', 'concavity_worst', 'concave_points_worst',\n",
    "       'symmetry_worst', 'fractal_dimension_worst']\n",
    "featureimportances2=zip(feature_nameintxt2,importances2)\n",
    "featureimportances3=dict(featureimportances2)"
   ]
  },
  {
   "cell_type": "code",
   "execution_count": 55,
   "id": "8861710d",
   "metadata": {},
   "outputs": [
    {
     "name": "stdout",
     "output_type": "stream",
     "text": [
      "['area_mean', 'area_se', 'area_worst', 'compactness_mean', 'compactness_se', 'compactness_worst', 'concave_points_mean', 'concave_points_se', 'concave_points_worst', 'concavity_mean', 'concavity_se', 'concavity_worst', 'fractal_dimension_mean', 'fractal_dimension_se', 'fractal_dimension_worst', 'perimeter_mean', 'perimeter_se', 'perimeter_worst', 'radius_mean', 'radius_se', 'radius_worst', 'smoothness_mean', 'smoothness_se', 'smoothness_worst', 'symmetry_mean', 'symmetry_se', 'symmetry_worst', 'texture_mean', 'texture_se', 'texture_worst']\n"
     ]
    }
   ],
   "source": [
    "print(sorted(featureimportances3.keys()))"
   ]
  },
  {
   "cell_type": "code",
   "execution_count": 56,
   "id": "1d8d24e7",
   "metadata": {
    "scrolled": true
   },
   "outputs": [
    {
     "data": {
      "text/plain": [
       "[('concavity_mean', 0.0),\n",
       " ('symmetry_se', 0.0),\n",
       " ('area_se', 0.0002396896477466396),\n",
       " ('radius_mean', 0.002419333863557213),\n",
       " ('concave_points_mean', 0.0034682186388692985),\n",
       " ('perimeter_worst', 0.012430814218400836),\n",
       " ('texture_worst', 0.015746630657977965),\n",
       " ('smoothness_mean', 0.01608973967303576),\n",
       " ('concave_points_se', 0.016860567408855866),\n",
       " ('fractal_dimension_worst', 0.018755609639372846),\n",
       " ('compactness_worst', 0.019474216297984084),\n",
       " ('radius_se', 0.0230805441539537),\n",
       " ('perimeter_mean', 0.025000000000000005),\n",
       " ('smoothness_worst', 0.025000000000000005),\n",
       " ('symmetry_mean', 0.027440042137687824),\n",
       " ('symmetry_worst', 0.028013397660817597),\n",
       " ('smoothness_se', 0.028148078708084022),\n",
       " ('compactness_se', 0.028847586450845484),\n",
       " ('area_mean', 0.02902284678350705),\n",
       " ('fractal_dimension_mean', 0.029403327364125972),\n",
       " ('radius_worst', 0.03199181488724352),\n",
       " ('texture_se', 0.039599367381524996),\n",
       " ('concave_points_worst', 0.045034324624456015),\n",
       " ('perimeter_se', 0.045082062404964346),\n",
       " ('compactness_mean', 0.04537712389707458),\n",
       " ('fractal_dimension_se', 0.06306675723147216),\n",
       " ('area_worst', 0.07415766891574985),\n",
       " ('concavity_worst', 0.07459371813314335),\n",
       " ('concavity_se', 0.10467584089827182),\n",
       " ('texture_mean', 0.12698067832127738)]"
      ]
     },
     "execution_count": 56,
     "metadata": {},
     "output_type": "execute_result"
    }
   ],
   "source": [
    "sorted(featureimportances3.items(),key=lambda kv:(kv[1], kv[0]))"
   ]
  },
  {
   "cell_type": "markdown",
   "id": "e32f5dad",
   "metadata": {},
   "source": [
    "# Train XGB Model"
   ]
  },
  {
   "cell_type": "code",
   "execution_count": 57,
   "id": "269e55c1",
   "metadata": {},
   "outputs": [
    {
     "data": {
      "text/plain": [
       "XGBRegressor(base_score=None, booster=None, callbacks=None,\n",
       "             colsample_bylevel=None, colsample_bynode=None,\n",
       "             colsample_bytree=None, early_stopping_rounds=None,\n",
       "             enable_categorical=False, eval_metric=None, feature_types=None,\n",
       "             gamma=None, gpu_id=None, grow_policy=None, importance_type=None,\n",
       "             interaction_constraints=None, learning_rate=None, max_bin=None,\n",
       "             max_cat_threshold=None, max_cat_to_onehot=None,\n",
       "             max_delta_step=None, max_depth=None, max_leaves=None,\n",
       "             min_child_weight=None, missing=nan, monotone_constraints=None,\n",
       "             n_estimators=100, n_jobs=None, num_parallel_tree=None,\n",
       "             predictor=None, random_state=None, ...)"
      ]
     },
     "execution_count": 57,
     "metadata": {},
     "output_type": "execute_result"
    }
   ],
   "source": [
    "import xgboost as xgb\n",
    "\n",
    "xgbrModel=xgb.XGBRegressor()\n",
    "xgbrModel.fit(result,y2,sample_weight=weights)"
   ]
  },
  {
   "cell_type": "code",
   "execution_count": 58,
   "id": "bae7aa77",
   "metadata": {},
   "outputs": [
    {
     "data": {
      "text/plain": [
       "array([0., 0., 0., 0., 0., 0., 0., 0., 0., 0., 0., 0., 0., 0., 0., 0., 0.,\n",
       "       0., 0., 0., 0., 0., 0., 0., 0., 0., 0., 0., 0., 0.], dtype=float32)"
      ]
     },
     "execution_count": 58,
     "metadata": {},
     "output_type": "execute_result"
    }
   ],
   "source": [
    "importances3=xgbrModel.feature_importances_\n",
    "importances3"
   ]
  },
  {
   "cell_type": "code",
   "execution_count": 59,
   "id": "d9bb80ec",
   "metadata": {},
   "outputs": [
    {
     "data": {
      "text/plain": [
       "(30,)"
      ]
     },
     "execution_count": 59,
     "metadata": {},
     "output_type": "execute_result"
    }
   ],
   "source": [
    "importances3.shape"
   ]
  },
  {
   "cell_type": "code",
   "execution_count": 60,
   "id": "69665de3",
   "metadata": {},
   "outputs": [],
   "source": [
    "feature_nameintxt3=['radius_mean','texture_mean', 'perimeter_mean','area_mean', 'smoothness_mean', 'compactness_mean', 'concavity_mean','concave_points_mean', 'symmetry_mean', 'fractal_dimension_mean',\n",
    "       'radius_se', 'texture_se', 'perimeter_se', 'area_se', 'smoothness_se',\n",
    "       'compactness_se', 'concavity_se', 'concave_points_se', 'symmetry_se',\n",
    "       'fractal_dimension_se', 'radius_worst', 'texture_worst',\n",
    "       'perimeter_worst', 'area_worst', 'smoothness_worst',\n",
    "       'compactness_worst', 'concavity_worst', 'concave_points_worst',\n",
    "       'symmetry_worst', 'fractal_dimension_worst']\n",
    "featureimportances3=zip(feature_nameintxt3,importances3)\n",
    "featureimportances4=dict(featureimportances3)"
   ]
  },
  {
   "cell_type": "code",
   "execution_count": 61,
   "id": "f2f44b44",
   "metadata": {},
   "outputs": [
    {
     "name": "stdout",
     "output_type": "stream",
     "text": [
      "['area_mean', 'area_se', 'area_worst', 'compactness_mean', 'compactness_se', 'compactness_worst', 'concave_points_mean', 'concave_points_se', 'concave_points_worst', 'concavity_mean', 'concavity_se', 'concavity_worst', 'fractal_dimension_mean', 'fractal_dimension_se', 'fractal_dimension_worst', 'perimeter_mean', 'perimeter_se', 'perimeter_worst', 'radius_mean', 'radius_se', 'radius_worst', 'smoothness_mean', 'smoothness_se', 'smoothness_worst', 'symmetry_mean', 'symmetry_se', 'symmetry_worst', 'texture_mean', 'texture_se', 'texture_worst']\n"
     ]
    }
   ],
   "source": [
    "print(sorted(featureimportances4.keys()))"
   ]
  },
  {
   "cell_type": "code",
   "execution_count": 62,
   "id": "88ea4596",
   "metadata": {},
   "outputs": [
    {
     "data": {
      "text/plain": [
       "[('area_mean', 0.0),\n",
       " ('area_se', 0.0),\n",
       " ('area_worst', 0.0),\n",
       " ('compactness_mean', 0.0),\n",
       " ('compactness_se', 0.0),\n",
       " ('compactness_worst', 0.0),\n",
       " ('concave_points_mean', 0.0),\n",
       " ('concave_points_se', 0.0),\n",
       " ('concave_points_worst', 0.0),\n",
       " ('concavity_mean', 0.0),\n",
       " ('concavity_se', 0.0),\n",
       " ('concavity_worst', 0.0),\n",
       " ('fractal_dimension_mean', 0.0),\n",
       " ('fractal_dimension_se', 0.0),\n",
       " ('fractal_dimension_worst', 0.0),\n",
       " ('perimeter_mean', 0.0),\n",
       " ('perimeter_se', 0.0),\n",
       " ('perimeter_worst', 0.0),\n",
       " ('radius_mean', 0.0),\n",
       " ('radius_se', 0.0),\n",
       " ('radius_worst', 0.0),\n",
       " ('smoothness_mean', 0.0),\n",
       " ('smoothness_se', 0.0),\n",
       " ('smoothness_worst', 0.0),\n",
       " ('symmetry_mean', 0.0),\n",
       " ('symmetry_se', 0.0),\n",
       " ('symmetry_worst', 0.0),\n",
       " ('texture_mean', 0.0),\n",
       " ('texture_se', 0.0),\n",
       " ('texture_worst', 0.0)]"
      ]
     },
     "execution_count": 62,
     "metadata": {},
     "output_type": "execute_result"
    }
   ],
   "source": [
    "sorted(featureimportances4.items(),key=lambda kv:(kv[1], kv[0]))"
   ]
  },
  {
   "cell_type": "code",
   "execution_count": null,
   "id": "fad6d3df",
   "metadata": {},
   "outputs": [],
   "source": []
  }
 ],
 "metadata": {
  "kernelspec": {
   "display_name": "Python 3 (ipykernel)",
   "language": "python",
   "name": "python3"
  },
  "language_info": {
   "codemirror_mode": {
    "name": "ipython",
    "version": 3
   },
   "file_extension": ".py",
   "mimetype": "text/x-python",
   "name": "python",
   "nbconvert_exporter": "python",
   "pygments_lexer": "ipython3",
   "version": "3.9.13"
  }
 },
 "nbformat": 4,
 "nbformat_minor": 5
}
