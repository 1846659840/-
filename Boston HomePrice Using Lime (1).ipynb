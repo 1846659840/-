{
 "cells": [
  {
   "cell_type": "markdown",
   "id": "0542985f",
   "metadata": {},
   "source": [
    "# boston HomePrice Using Lime(2)"
   ]
  },
  {
   "cell_type": "code",
   "execution_count": 1,
   "id": "195a7ceb",
   "metadata": {},
   "outputs": [],
   "source": [
    "import numpy as np\n",
    "import matplotlib.pyplot as plt\n",
    "import pandas as pd \n",
    "import seaborn as sns\n",
    "from sklearn.datasets import load_boston"
   ]
  },
  {
   "cell_type": "code",
   "execution_count": 2,
   "id": "8e1950b2",
   "metadata": {},
   "outputs": [
    {
     "name": "stderr",
     "output_type": "stream",
     "text": [
      "E:\\Anaconda\\lib\\site-packages\\sklearn\\utils\\deprecation.py:87: FutureWarning: Function load_boston is deprecated; `load_boston` is deprecated in 1.0 and will be removed in 1.2.\n",
      "\n",
      "    The Boston housing prices dataset has an ethical problem. You can refer to\n",
      "    the documentation of this function for further details.\n",
      "\n",
      "    The scikit-learn maintainers therefore strongly discourage the use of this\n",
      "    dataset unless the purpose of the code is to study and educate about\n",
      "    ethical issues in data science and machine learning.\n",
      "\n",
      "    In this special case, you can fetch the dataset from the original\n",
      "    source::\n",
      "\n",
      "        import pandas as pd\n",
      "        import numpy as np\n",
      "\n",
      "        data_url = \"http://lib.stat.cmu.edu/datasets/boston\"\n",
      "        raw_df = pd.read_csv(data_url, sep=\"\\s+\", skiprows=22, header=None)\n",
      "        data = np.hstack([raw_df.values[::2, :], raw_df.values[1::2, :2]])\n",
      "        target = raw_df.values[1::2, 2]\n",
      "\n",
      "    Alternative datasets include the California housing dataset (i.e.\n",
      "    :func:`~sklearn.datasets.fetch_california_housing`) and the Ames housing\n",
      "    dataset. You can load the datasets as follows::\n",
      "\n",
      "        from sklearn.datasets import fetch_california_housing\n",
      "        housing = fetch_california_housing()\n",
      "\n",
      "    for the California housing dataset and::\n",
      "\n",
      "        from sklearn.datasets import fetch_openml\n",
      "        housing = fetch_openml(name=\"house_prices\", as_frame=True)\n",
      "\n",
      "    for the Ames housing dataset.\n",
      "  warnings.warn(msg, category=FutureWarning)\n"
     ]
    }
   ],
   "source": [
    "boston_dataset=load_boston()"
   ]
  },
  {
   "cell_type": "code",
   "execution_count": 3,
   "id": "4fc1940d",
   "metadata": {},
   "outputs": [
    {
     "name": "stdout",
     "output_type": "stream",
     "text": [
      "dict_keys(['data', 'target', 'feature_names', 'DESCR', 'filename', 'data_module'])\n"
     ]
    }
   ],
   "source": [
    "print(boston_dataset.keys())"
   ]
  },
  {
   "cell_type": "code",
   "execution_count": 4,
   "id": "9703655c",
   "metadata": {},
   "outputs": [
    {
     "name": "stdout",
     "output_type": "stream",
     "text": [
      ".. _boston_dataset:\n",
      "\n",
      "Boston house prices dataset\n",
      "---------------------------\n",
      "\n",
      "**Data Set Characteristics:**  \n",
      "\n",
      "    :Number of Instances: 506 \n",
      "\n",
      "    :Number of Attributes: 13 numeric/categorical predictive. Median Value (attribute 14) is usually the target.\n",
      "\n",
      "    :Attribute Information (in order):\n",
      "        - CRIM     per capita crime rate by town\n",
      "        - ZN       proportion of residential land zoned for lots over 25,000 sq.ft.\n",
      "        - INDUS    proportion of non-retail business acres per town\n",
      "        - CHAS     Charles River dummy variable (= 1 if tract bounds river; 0 otherwise)\n",
      "        - NOX      nitric oxides concentration (parts per 10 million)\n",
      "        - RM       average number of rooms per dwelling\n",
      "        - AGE      proportion of owner-occupied units built prior to 1940\n",
      "        - DIS      weighted distances to five Boston employment centres\n",
      "        - RAD      index of accessibility to radial highways\n",
      "        - TAX      full-value property-tax rate per $10,000\n",
      "        - PTRATIO  pupil-teacher ratio by town\n",
      "        - B        1000(Bk - 0.63)^2 where Bk is the proportion of black people by town\n",
      "        - LSTAT    % lower status of the population\n",
      "        - MEDV     Median value of owner-occupied homes in $1000's\n",
      "\n",
      "    :Missing Attribute Values: None\n",
      "\n",
      "    :Creator: Harrison, D. and Rubinfeld, D.L.\n",
      "\n",
      "This is a copy of UCI ML housing dataset.\n",
      "https://archive.ics.uci.edu/ml/machine-learning-databases/housing/\n",
      "\n",
      "\n",
      "This dataset was taken from the StatLib library which is maintained at Carnegie Mellon University.\n",
      "\n",
      "The Boston house-price data of Harrison, D. and Rubinfeld, D.L. 'Hedonic\n",
      "prices and the demand for clean air', J. Environ. Economics & Management,\n",
      "vol.5, 81-102, 1978.   Used in Belsley, Kuh & Welsch, 'Regression diagnostics\n",
      "...', Wiley, 1980.   N.B. Various transformations are used in the table on\n",
      "pages 244-261 of the latter.\n",
      "\n",
      "The Boston house-price data has been used in many machine learning papers that address regression\n",
      "problems.   \n",
      "     \n",
      ".. topic:: References\n",
      "\n",
      "   - Belsley, Kuh & Welsch, 'Regression diagnostics: Identifying Influential Data and Sources of Collinearity', Wiley, 1980. 244-261.\n",
      "   - Quinlan,R. (1993). Combining Instance-Based and Model-Based Learning. In Proceedings on the Tenth International Conference of Machine Learning, 236-243, University of Massachusetts, Amherst. Morgan Kaufmann.\n",
      "\n"
     ]
    }
   ],
   "source": [
    "print(boston_dataset.DESCR)"
   ]
  },
  {
   "cell_type": "code",
   "execution_count": 5,
   "id": "94fe25bf",
   "metadata": {},
   "outputs": [
    {
     "data": {
      "text/html": [
       "<div>\n",
       "<style scoped>\n",
       "    .dataframe tbody tr th:only-of-type {\n",
       "        vertical-align: middle;\n",
       "    }\n",
       "\n",
       "    .dataframe tbody tr th {\n",
       "        vertical-align: top;\n",
       "    }\n",
       "\n",
       "    .dataframe thead th {\n",
       "        text-align: right;\n",
       "    }\n",
       "</style>\n",
       "<table border=\"1\" class=\"dataframe\">\n",
       "  <thead>\n",
       "    <tr style=\"text-align: right;\">\n",
       "      <th></th>\n",
       "      <th>CRIM</th>\n",
       "      <th>ZN</th>\n",
       "      <th>INDUS</th>\n",
       "      <th>CHAS</th>\n",
       "      <th>NOX</th>\n",
       "      <th>RM</th>\n",
       "      <th>AGE</th>\n",
       "      <th>DIS</th>\n",
       "      <th>RAD</th>\n",
       "      <th>TAX</th>\n",
       "      <th>PTRATIO</th>\n",
       "      <th>B</th>\n",
       "      <th>LSTAT</th>\n",
       "    </tr>\n",
       "  </thead>\n",
       "  <tbody>\n",
       "    <tr>\n",
       "      <th>0</th>\n",
       "      <td>0.00632</td>\n",
       "      <td>18.0</td>\n",
       "      <td>2.31</td>\n",
       "      <td>0.0</td>\n",
       "      <td>0.538</td>\n",
       "      <td>6.575</td>\n",
       "      <td>65.2</td>\n",
       "      <td>4.0900</td>\n",
       "      <td>1.0</td>\n",
       "      <td>296.0</td>\n",
       "      <td>15.3</td>\n",
       "      <td>396.90</td>\n",
       "      <td>4.98</td>\n",
       "    </tr>\n",
       "    <tr>\n",
       "      <th>1</th>\n",
       "      <td>0.02731</td>\n",
       "      <td>0.0</td>\n",
       "      <td>7.07</td>\n",
       "      <td>0.0</td>\n",
       "      <td>0.469</td>\n",
       "      <td>6.421</td>\n",
       "      <td>78.9</td>\n",
       "      <td>4.9671</td>\n",
       "      <td>2.0</td>\n",
       "      <td>242.0</td>\n",
       "      <td>17.8</td>\n",
       "      <td>396.90</td>\n",
       "      <td>9.14</td>\n",
       "    </tr>\n",
       "    <tr>\n",
       "      <th>2</th>\n",
       "      <td>0.02729</td>\n",
       "      <td>0.0</td>\n",
       "      <td>7.07</td>\n",
       "      <td>0.0</td>\n",
       "      <td>0.469</td>\n",
       "      <td>7.185</td>\n",
       "      <td>61.1</td>\n",
       "      <td>4.9671</td>\n",
       "      <td>2.0</td>\n",
       "      <td>242.0</td>\n",
       "      <td>17.8</td>\n",
       "      <td>392.83</td>\n",
       "      <td>4.03</td>\n",
       "    </tr>\n",
       "    <tr>\n",
       "      <th>3</th>\n",
       "      <td>0.03237</td>\n",
       "      <td>0.0</td>\n",
       "      <td>2.18</td>\n",
       "      <td>0.0</td>\n",
       "      <td>0.458</td>\n",
       "      <td>6.998</td>\n",
       "      <td>45.8</td>\n",
       "      <td>6.0622</td>\n",
       "      <td>3.0</td>\n",
       "      <td>222.0</td>\n",
       "      <td>18.7</td>\n",
       "      <td>394.63</td>\n",
       "      <td>2.94</td>\n",
       "    </tr>\n",
       "    <tr>\n",
       "      <th>4</th>\n",
       "      <td>0.06905</td>\n",
       "      <td>0.0</td>\n",
       "      <td>2.18</td>\n",
       "      <td>0.0</td>\n",
       "      <td>0.458</td>\n",
       "      <td>7.147</td>\n",
       "      <td>54.2</td>\n",
       "      <td>6.0622</td>\n",
       "      <td>3.0</td>\n",
       "      <td>222.0</td>\n",
       "      <td>18.7</td>\n",
       "      <td>396.90</td>\n",
       "      <td>5.33</td>\n",
       "    </tr>\n",
       "  </tbody>\n",
       "</table>\n",
       "</div>"
      ],
      "text/plain": [
       "      CRIM    ZN  INDUS  CHAS    NOX     RM   AGE     DIS  RAD    TAX  \\\n",
       "0  0.00632  18.0   2.31   0.0  0.538  6.575  65.2  4.0900  1.0  296.0   \n",
       "1  0.02731   0.0   7.07   0.0  0.469  6.421  78.9  4.9671  2.0  242.0   \n",
       "2  0.02729   0.0   7.07   0.0  0.469  7.185  61.1  4.9671  2.0  242.0   \n",
       "3  0.03237   0.0   2.18   0.0  0.458  6.998  45.8  6.0622  3.0  222.0   \n",
       "4  0.06905   0.0   2.18   0.0  0.458  7.147  54.2  6.0622  3.0  222.0   \n",
       "\n",
       "   PTRATIO       B  LSTAT  \n",
       "0     15.3  396.90   4.98  \n",
       "1     17.8  396.90   9.14  \n",
       "2     17.8  392.83   4.03  \n",
       "3     18.7  394.63   2.94  \n",
       "4     18.7  396.90   5.33  "
      ]
     },
     "execution_count": 5,
     "metadata": {},
     "output_type": "execute_result"
    }
   ],
   "source": [
    "boston = pd.DataFrame(boston_dataset.data, columns=boston_dataset.feature_names)\n",
    "boston.head()"
   ]
  },
  {
   "cell_type": "code",
   "execution_count": 6,
   "id": "491bb9d0",
   "metadata": {},
   "outputs": [],
   "source": [
    "boston['MEDV'] = boston_dataset.target"
   ]
  },
  {
   "cell_type": "code",
   "execution_count": 7,
   "id": "078630d7",
   "metadata": {},
   "outputs": [
    {
     "data": {
      "text/html": [
       "<div>\n",
       "<style scoped>\n",
       "    .dataframe tbody tr th:only-of-type {\n",
       "        vertical-align: middle;\n",
       "    }\n",
       "\n",
       "    .dataframe tbody tr th {\n",
       "        vertical-align: top;\n",
       "    }\n",
       "\n",
       "    .dataframe thead th {\n",
       "        text-align: right;\n",
       "    }\n",
       "</style>\n",
       "<table border=\"1\" class=\"dataframe\">\n",
       "  <thead>\n",
       "    <tr style=\"text-align: right;\">\n",
       "      <th></th>\n",
       "      <th>CRIM</th>\n",
       "      <th>ZN</th>\n",
       "      <th>INDUS</th>\n",
       "      <th>CHAS</th>\n",
       "      <th>NOX</th>\n",
       "      <th>RM</th>\n",
       "      <th>AGE</th>\n",
       "      <th>DIS</th>\n",
       "      <th>RAD</th>\n",
       "      <th>TAX</th>\n",
       "      <th>PTRATIO</th>\n",
       "      <th>B</th>\n",
       "      <th>LSTAT</th>\n",
       "      <th>MEDV</th>\n",
       "    </tr>\n",
       "  </thead>\n",
       "  <tbody>\n",
       "    <tr>\n",
       "      <th>0</th>\n",
       "      <td>0.00632</td>\n",
       "      <td>18.0</td>\n",
       "      <td>2.31</td>\n",
       "      <td>0.0</td>\n",
       "      <td>0.538</td>\n",
       "      <td>6.575</td>\n",
       "      <td>65.2</td>\n",
       "      <td>4.0900</td>\n",
       "      <td>1.0</td>\n",
       "      <td>296.0</td>\n",
       "      <td>15.3</td>\n",
       "      <td>396.90</td>\n",
       "      <td>4.98</td>\n",
       "      <td>24.0</td>\n",
       "    </tr>\n",
       "    <tr>\n",
       "      <th>1</th>\n",
       "      <td>0.02731</td>\n",
       "      <td>0.0</td>\n",
       "      <td>7.07</td>\n",
       "      <td>0.0</td>\n",
       "      <td>0.469</td>\n",
       "      <td>6.421</td>\n",
       "      <td>78.9</td>\n",
       "      <td>4.9671</td>\n",
       "      <td>2.0</td>\n",
       "      <td>242.0</td>\n",
       "      <td>17.8</td>\n",
       "      <td>396.90</td>\n",
       "      <td>9.14</td>\n",
       "      <td>21.6</td>\n",
       "    </tr>\n",
       "    <tr>\n",
       "      <th>2</th>\n",
       "      <td>0.02729</td>\n",
       "      <td>0.0</td>\n",
       "      <td>7.07</td>\n",
       "      <td>0.0</td>\n",
       "      <td>0.469</td>\n",
       "      <td>7.185</td>\n",
       "      <td>61.1</td>\n",
       "      <td>4.9671</td>\n",
       "      <td>2.0</td>\n",
       "      <td>242.0</td>\n",
       "      <td>17.8</td>\n",
       "      <td>392.83</td>\n",
       "      <td>4.03</td>\n",
       "      <td>34.7</td>\n",
       "    </tr>\n",
       "    <tr>\n",
       "      <th>3</th>\n",
       "      <td>0.03237</td>\n",
       "      <td>0.0</td>\n",
       "      <td>2.18</td>\n",
       "      <td>0.0</td>\n",
       "      <td>0.458</td>\n",
       "      <td>6.998</td>\n",
       "      <td>45.8</td>\n",
       "      <td>6.0622</td>\n",
       "      <td>3.0</td>\n",
       "      <td>222.0</td>\n",
       "      <td>18.7</td>\n",
       "      <td>394.63</td>\n",
       "      <td>2.94</td>\n",
       "      <td>33.4</td>\n",
       "    </tr>\n",
       "    <tr>\n",
       "      <th>4</th>\n",
       "      <td>0.06905</td>\n",
       "      <td>0.0</td>\n",
       "      <td>2.18</td>\n",
       "      <td>0.0</td>\n",
       "      <td>0.458</td>\n",
       "      <td>7.147</td>\n",
       "      <td>54.2</td>\n",
       "      <td>6.0622</td>\n",
       "      <td>3.0</td>\n",
       "      <td>222.0</td>\n",
       "      <td>18.7</td>\n",
       "      <td>396.90</td>\n",
       "      <td>5.33</td>\n",
       "      <td>36.2</td>\n",
       "    </tr>\n",
       "    <tr>\n",
       "      <th>...</th>\n",
       "      <td>...</td>\n",
       "      <td>...</td>\n",
       "      <td>...</td>\n",
       "      <td>...</td>\n",
       "      <td>...</td>\n",
       "      <td>...</td>\n",
       "      <td>...</td>\n",
       "      <td>...</td>\n",
       "      <td>...</td>\n",
       "      <td>...</td>\n",
       "      <td>...</td>\n",
       "      <td>...</td>\n",
       "      <td>...</td>\n",
       "      <td>...</td>\n",
       "    </tr>\n",
       "    <tr>\n",
       "      <th>501</th>\n",
       "      <td>0.06263</td>\n",
       "      <td>0.0</td>\n",
       "      <td>11.93</td>\n",
       "      <td>0.0</td>\n",
       "      <td>0.573</td>\n",
       "      <td>6.593</td>\n",
       "      <td>69.1</td>\n",
       "      <td>2.4786</td>\n",
       "      <td>1.0</td>\n",
       "      <td>273.0</td>\n",
       "      <td>21.0</td>\n",
       "      <td>391.99</td>\n",
       "      <td>9.67</td>\n",
       "      <td>22.4</td>\n",
       "    </tr>\n",
       "    <tr>\n",
       "      <th>502</th>\n",
       "      <td>0.04527</td>\n",
       "      <td>0.0</td>\n",
       "      <td>11.93</td>\n",
       "      <td>0.0</td>\n",
       "      <td>0.573</td>\n",
       "      <td>6.120</td>\n",
       "      <td>76.7</td>\n",
       "      <td>2.2875</td>\n",
       "      <td>1.0</td>\n",
       "      <td>273.0</td>\n",
       "      <td>21.0</td>\n",
       "      <td>396.90</td>\n",
       "      <td>9.08</td>\n",
       "      <td>20.6</td>\n",
       "    </tr>\n",
       "    <tr>\n",
       "      <th>503</th>\n",
       "      <td>0.06076</td>\n",
       "      <td>0.0</td>\n",
       "      <td>11.93</td>\n",
       "      <td>0.0</td>\n",
       "      <td>0.573</td>\n",
       "      <td>6.976</td>\n",
       "      <td>91.0</td>\n",
       "      <td>2.1675</td>\n",
       "      <td>1.0</td>\n",
       "      <td>273.0</td>\n",
       "      <td>21.0</td>\n",
       "      <td>396.90</td>\n",
       "      <td>5.64</td>\n",
       "      <td>23.9</td>\n",
       "    </tr>\n",
       "    <tr>\n",
       "      <th>504</th>\n",
       "      <td>0.10959</td>\n",
       "      <td>0.0</td>\n",
       "      <td>11.93</td>\n",
       "      <td>0.0</td>\n",
       "      <td>0.573</td>\n",
       "      <td>6.794</td>\n",
       "      <td>89.3</td>\n",
       "      <td>2.3889</td>\n",
       "      <td>1.0</td>\n",
       "      <td>273.0</td>\n",
       "      <td>21.0</td>\n",
       "      <td>393.45</td>\n",
       "      <td>6.48</td>\n",
       "      <td>22.0</td>\n",
       "    </tr>\n",
       "    <tr>\n",
       "      <th>505</th>\n",
       "      <td>0.04741</td>\n",
       "      <td>0.0</td>\n",
       "      <td>11.93</td>\n",
       "      <td>0.0</td>\n",
       "      <td>0.573</td>\n",
       "      <td>6.030</td>\n",
       "      <td>80.8</td>\n",
       "      <td>2.5050</td>\n",
       "      <td>1.0</td>\n",
       "      <td>273.0</td>\n",
       "      <td>21.0</td>\n",
       "      <td>396.90</td>\n",
       "      <td>7.88</td>\n",
       "      <td>11.9</td>\n",
       "    </tr>\n",
       "  </tbody>\n",
       "</table>\n",
       "<p>506 rows × 14 columns</p>\n",
       "</div>"
      ],
      "text/plain": [
       "        CRIM    ZN  INDUS  CHAS    NOX     RM   AGE     DIS  RAD    TAX  \\\n",
       "0    0.00632  18.0   2.31   0.0  0.538  6.575  65.2  4.0900  1.0  296.0   \n",
       "1    0.02731   0.0   7.07   0.0  0.469  6.421  78.9  4.9671  2.0  242.0   \n",
       "2    0.02729   0.0   7.07   0.0  0.469  7.185  61.1  4.9671  2.0  242.0   \n",
       "3    0.03237   0.0   2.18   0.0  0.458  6.998  45.8  6.0622  3.0  222.0   \n",
       "4    0.06905   0.0   2.18   0.0  0.458  7.147  54.2  6.0622  3.0  222.0   \n",
       "..       ...   ...    ...   ...    ...    ...   ...     ...  ...    ...   \n",
       "501  0.06263   0.0  11.93   0.0  0.573  6.593  69.1  2.4786  1.0  273.0   \n",
       "502  0.04527   0.0  11.93   0.0  0.573  6.120  76.7  2.2875  1.0  273.0   \n",
       "503  0.06076   0.0  11.93   0.0  0.573  6.976  91.0  2.1675  1.0  273.0   \n",
       "504  0.10959   0.0  11.93   0.0  0.573  6.794  89.3  2.3889  1.0  273.0   \n",
       "505  0.04741   0.0  11.93   0.0  0.573  6.030  80.8  2.5050  1.0  273.0   \n",
       "\n",
       "     PTRATIO       B  LSTAT  MEDV  \n",
       "0       15.3  396.90   4.98  24.0  \n",
       "1       17.8  396.90   9.14  21.6  \n",
       "2       17.8  392.83   4.03  34.7  \n",
       "3       18.7  394.63   2.94  33.4  \n",
       "4       18.7  396.90   5.33  36.2  \n",
       "..       ...     ...    ...   ...  \n",
       "501     21.0  391.99   9.67  22.4  \n",
       "502     21.0  396.90   9.08  20.6  \n",
       "503     21.0  396.90   5.64  23.9  \n",
       "504     21.0  393.45   6.48  22.0  \n",
       "505     21.0  396.90   7.88  11.9  \n",
       "\n",
       "[506 rows x 14 columns]"
      ]
     },
     "execution_count": 7,
     "metadata": {},
     "output_type": "execute_result"
    }
   ],
   "source": [
    "boston"
   ]
  },
  {
   "cell_type": "code",
   "execution_count": 8,
   "id": "427ea346",
   "metadata": {},
   "outputs": [
    {
     "data": {
      "text/plain": [
       "CRIM       0\n",
       "ZN         0\n",
       "INDUS      0\n",
       "CHAS       0\n",
       "NOX        0\n",
       "RM         0\n",
       "AGE        0\n",
       "DIS        0\n",
       "RAD        0\n",
       "TAX        0\n",
       "PTRATIO    0\n",
       "B          0\n",
       "LSTAT      0\n",
       "MEDV       0\n",
       "dtype: int64"
      ]
     },
     "execution_count": 8,
     "metadata": {},
     "output_type": "execute_result"
    }
   ],
   "source": [
    "boston.isnull().sum()"
   ]
  },
  {
   "cell_type": "code",
   "execution_count": 9,
   "id": "d2e5a8a3",
   "metadata": {},
   "outputs": [
    {
     "name": "stderr",
     "output_type": "stream",
     "text": [
      "E:\\Anaconda\\lib\\site-packages\\seaborn\\distributions.py:2619: FutureWarning: `distplot` is a deprecated function and will be removed in a future version. Please adapt your code to use either `displot` (a figure-level function with similar flexibility) or `histplot` (an axes-level function for histograms).\n",
      "  warnings.warn(msg, FutureWarning)\n"
     ]
    },
    {
     "data": {
      "image/png": "[encoded data removed]",
      "text/plain": [
       "<Figure size 720x720 with 1 Axes>"
      ]
     },
     "metadata": {},
     "output_type": "display_data"
    }
   ],
   "source": [
    "sns.set(rc={'figure.figsize':(10,10)})\n",
    "sns.distplot(boston['MEDV'])\n",
    "plt.show()"
   ]
  },
  {
   "cell_type": "code",
   "execution_count": 10,
   "id": "4dcd602f",
   "metadata": {},
   "outputs": [
    {
     "data": {
      "text/html": [
       "<div>\n",
       "<style scoped>\n",
       "    .dataframe tbody tr th:only-of-type {\n",
       "        vertical-align: middle;\n",
       "    }\n",
       "\n",
       "    .dataframe tbody tr th {\n",
       "        vertical-align: top;\n",
       "    }\n",
       "\n",
       "    .dataframe thead th {\n",
       "        text-align: right;\n",
       "    }\n",
       "</style>\n",
       "<table border=\"1\" class=\"dataframe\">\n",
       "  <thead>\n",
       "    <tr style=\"text-align: right;\">\n",
       "      <th></th>\n",
       "      <th>CRIM</th>\n",
       "      <th>ZN</th>\n",
       "      <th>INDUS</th>\n",
       "      <th>CHAS</th>\n",
       "      <th>NOX</th>\n",
       "      <th>RM</th>\n",
       "      <th>AGE</th>\n",
       "      <th>DIS</th>\n",
       "      <th>RAD</th>\n",
       "      <th>TAX</th>\n",
       "      <th>PTRATIO</th>\n",
       "      <th>B</th>\n",
       "      <th>LSTAT</th>\n",
       "      <th>MEDV</th>\n",
       "    </tr>\n",
       "  </thead>\n",
       "  <tbody>\n",
       "    <tr>\n",
       "      <th>count</th>\n",
       "      <td>506.000000</td>\n",
       "      <td>506.000000</td>\n",
       "      <td>506.000000</td>\n",
       "      <td>506.000000</td>\n",
       "      <td>506.000000</td>\n",
       "      <td>506.000000</td>\n",
       "      <td>506.000000</td>\n",
       "      <td>506.000000</td>\n",
       "      <td>506.000000</td>\n",
       "      <td>506.000000</td>\n",
       "      <td>506.000000</td>\n",
       "      <td>506.000000</td>\n",
       "      <td>506.000000</td>\n",
       "      <td>506.000000</td>\n",
       "    </tr>\n",
       "    <tr>\n",
       "      <th>mean</th>\n",
       "      <td>3.613524</td>\n",
       "      <td>11.363636</td>\n",
       "      <td>11.136779</td>\n",
       "      <td>0.069170</td>\n",
       "      <td>0.554695</td>\n",
       "      <td>6.284634</td>\n",
       "      <td>68.574901</td>\n",
       "      <td>3.795043</td>\n",
       "      <td>9.549407</td>\n",
       "      <td>408.237154</td>\n",
       "      <td>18.455534</td>\n",
       "      <td>356.674032</td>\n",
       "      <td>12.653063</td>\n",
       "      <td>22.532806</td>\n",
       "    </tr>\n",
       "    <tr>\n",
       "      <th>std</th>\n",
       "      <td>8.601545</td>\n",
       "      <td>23.322453</td>\n",
       "      <td>6.860353</td>\n",
       "      <td>0.253994</td>\n",
       "      <td>0.115878</td>\n",
       "      <td>0.702617</td>\n",
       "      <td>28.148861</td>\n",
       "      <td>2.105710</td>\n",
       "      <td>8.707259</td>\n",
       "      <td>168.537116</td>\n",
       "      <td>2.164946</td>\n",
       "      <td>91.294864</td>\n",
       "      <td>7.141062</td>\n",
       "      <td>9.197104</td>\n",
       "    </tr>\n",
       "    <tr>\n",
       "      <th>min</th>\n",
       "      <td>0.006320</td>\n",
       "      <td>0.000000</td>\n",
       "      <td>0.460000</td>\n",
       "      <td>0.000000</td>\n",
       "      <td>0.385000</td>\n",
       "      <td>3.561000</td>\n",
       "      <td>2.900000</td>\n",
       "      <td>1.129600</td>\n",
       "      <td>1.000000</td>\n",
       "      <td>187.000000</td>\n",
       "      <td>12.600000</td>\n",
       "      <td>0.320000</td>\n",
       "      <td>1.730000</td>\n",
       "      <td>5.000000</td>\n",
       "    </tr>\n",
       "    <tr>\n",
       "      <th>25%</th>\n",
       "      <td>0.082045</td>\n",
       "      <td>0.000000</td>\n",
       "      <td>5.190000</td>\n",
       "      <td>0.000000</td>\n",
       "      <td>0.449000</td>\n",
       "      <td>5.885500</td>\n",
       "      <td>45.025000</td>\n",
       "      <td>2.100175</td>\n",
       "      <td>4.000000</td>\n",
       "      <td>279.000000</td>\n",
       "      <td>17.400000</td>\n",
       "      <td>375.377500</td>\n",
       "      <td>6.950000</td>\n",
       "      <td>17.025000</td>\n",
       "    </tr>\n",
       "    <tr>\n",
       "      <th>50%</th>\n",
       "      <td>0.256510</td>\n",
       "      <td>0.000000</td>\n",
       "      <td>9.690000</td>\n",
       "      <td>0.000000</td>\n",
       "      <td>0.538000</td>\n",
       "      <td>6.208500</td>\n",
       "      <td>77.500000</td>\n",
       "      <td>3.207450</td>\n",
       "      <td>5.000000</td>\n",
       "      <td>330.000000</td>\n",
       "      <td>19.050000</td>\n",
       "      <td>391.440000</td>\n",
       "      <td>11.360000</td>\n",
       "      <td>21.200000</td>\n",
       "    </tr>\n",
       "    <tr>\n",
       "      <th>75%</th>\n",
       "      <td>3.677083</td>\n",
       "      <td>12.500000</td>\n",
       "      <td>18.100000</td>\n",
       "      <td>0.000000</td>\n",
       "      <td>0.624000</td>\n",
       "      <td>6.623500</td>\n",
       "      <td>94.075000</td>\n",
       "      <td>5.188425</td>\n",
       "      <td>24.000000</td>\n",
       "      <td>666.000000</td>\n",
       "      <td>20.200000</td>\n",
       "      <td>396.225000</td>\n",
       "      <td>16.955000</td>\n",
       "      <td>25.000000</td>\n",
       "    </tr>\n",
       "    <tr>\n",
       "      <th>max</th>\n",
       "      <td>88.976200</td>\n",
       "      <td>100.000000</td>\n",
       "      <td>27.740000</td>\n",
       "      <td>1.000000</td>\n",
       "      <td>0.871000</td>\n",
       "      <td>8.780000</td>\n",
       "      <td>100.000000</td>\n",
       "      <td>12.126500</td>\n",
       "      <td>24.000000</td>\n",
       "      <td>711.000000</td>\n",
       "      <td>22.000000</td>\n",
       "      <td>396.900000</td>\n",
       "      <td>37.970000</td>\n",
       "      <td>50.000000</td>\n",
       "    </tr>\n",
       "  </tbody>\n",
       "</table>\n",
       "</div>"
      ],
      "text/plain": [
       "             CRIM          ZN       INDUS        CHAS         NOX          RM  \\\n",
       "count  506.000000  506.000000  506.000000  506.000000  506.000000  506.000000   \n",
       "mean     3.613524   11.363636   11.136779    0.069170    0.554695    6.284634   \n",
       "std      8.601545   23.322453    6.860353    0.253994    0.115878    0.702617   \n",
       "min      0.006320    0.000000    0.460000    0.000000    0.385000    3.561000   \n",
       "25%      0.082045    0.000000    5.190000    0.000000    0.449000    5.885500   \n",
       "50%      0.256510    0.000000    9.690000    0.000000    0.538000    6.208500   \n",
       "75%      3.677083   12.500000   18.100000    0.000000    0.624000    6.623500   \n",
       "max     88.976200  100.000000   27.740000    1.000000    0.871000    8.780000   \n",
       "\n",
       "              AGE         DIS         RAD         TAX     PTRATIO           B  \\\n",
       "count  506.000000  506.000000  506.000000  506.000000  506.000000  506.000000   \n",
       "mean    68.574901    3.795043    9.549407  408.237154   18.455534  356.674032   \n",
       "std     28.148861    2.105710    8.707259  168.537116    2.164946   91.294864   \n",
       "min      2.900000    1.129600    1.000000  187.000000   12.600000    0.320000   \n",
       "25%     45.025000    2.100175    4.000000  279.000000   17.400000  375.377500   \n",
       "50%     77.500000    3.207450    5.000000  330.000000   19.050000  391.440000   \n",
       "75%     94.075000    5.188425   24.000000  666.000000   20.200000  396.225000   \n",
       "max    100.000000   12.126500   24.000000  711.000000   22.000000  396.900000   \n",
       "\n",
       "            LSTAT        MEDV  \n",
       "count  506.000000  506.000000  \n",
       "mean    12.653063   22.532806  \n",
       "std      7.141062    9.197104  \n",
       "min      1.730000    5.000000  \n",
       "25%      6.950000   17.025000  \n",
       "50%     11.360000   21.200000  \n",
       "75%     16.955000   25.000000  \n",
       "max     37.970000   50.000000  "
      ]
     },
     "execution_count": 10,
     "metadata": {},
     "output_type": "execute_result"
    }
   ],
   "source": [
    "boston.describe()"
   ]
  },
  {
   "cell_type": "code",
   "execution_count": 11,
   "id": "ee2b8f96",
   "metadata": {},
   "outputs": [],
   "source": [
    "X1=boston[[\t'CRIM','ZN','INDUS','NOX','RM','AGE','DIS','RAD','TAX','PTRATIO','B','LSTAT']].values\n",
    "y = boston['MEDV'].values\n",
    "X1 = (X1 - np.mean(X1,axis=0)) / np.std(X1,axis=0)"
   ]
  },
  {
   "cell_type": "code",
   "execution_count": 12,
   "id": "b0bc5507",
   "metadata": {},
   "outputs": [
    {
     "data": {
      "text/plain": [
       "array([[-0.41978194,  0.28482986, -1.2879095 , ..., -1.45900038,\n",
       "         0.44105193, -1.0755623 ],\n",
       "       [-0.41733926, -0.48772236, -0.59338101, ..., -0.30309415,\n",
       "         0.44105193, -0.49243937],\n",
       "       [-0.41734159, -0.48772236, -0.59338101, ..., -0.30309415,\n",
       "         0.39642699, -1.2087274 ],\n",
       "       ...,\n",
       "       [-0.41344658, -0.48772236,  0.11573841, ...,  1.17646583,\n",
       "         0.44105193, -0.98304761],\n",
       "       [-0.40776407, -0.48772236,  0.11573841, ...,  1.17646583,\n",
       "         0.4032249 , -0.86530163],\n",
       "       [-0.41500016, -0.48772236,  0.11573841, ...,  1.17646583,\n",
       "         0.44105193, -0.66905833]])"
      ]
     },
     "execution_count": 12,
     "metadata": {},
     "output_type": "execute_result"
    }
   ],
   "source": [
    "X1"
   ]
  },
  {
   "cell_type": "code",
   "execution_count": 13,
   "id": "9c3ba13b",
   "metadata": {},
   "outputs": [],
   "source": [
    "X2=boston[['CHAS']].values"
   ]
  },
  {
   "cell_type": "code",
   "execution_count": 14,
   "id": "0b79f76f",
   "metadata": {},
   "outputs": [
    {
     "data": {
      "text/plain": [
       "array([[0.],\n",
       "       [0.],\n",
       "       [0.],\n",
       "       [0.],\n",
       "       [0.],\n",
       "       [0.],\n",
       "       [0.],\n",
       "       [0.],\n",
       "       [0.],\n",
       "       [0.],\n",
       "       [0.],\n",
       "       [0.],\n",
       "       [0.],\n",
       "       [0.],\n",
       "       [0.],\n",
       "       [0.],\n",
       "       [0.],\n",
       "       [0.],\n",
       "       [0.],\n",
       "       [0.],\n",
       "       [0.],\n",
       "       [0.],\n",
       "       [0.],\n",
       "       [0.],\n",
       "       [0.],\n",
       "       [0.],\n",
       "       [0.],\n",
       "       [0.],\n",
       "       [0.],\n",
       "       [0.],\n",
       "       [0.],\n",
       "       [0.],\n",
       "       [0.],\n",
       "       [0.],\n",
       "       [0.],\n",
       "       [0.],\n",
       "       [0.],\n",
       "       [0.],\n",
       "       [0.],\n",
       "       [0.],\n",
       "       [0.],\n",
       "       [0.],\n",
       "       [0.],\n",
       "       [0.],\n",
       "       [0.],\n",
       "       [0.],\n",
       "       [0.],\n",
       "       [0.],\n",
       "       [0.],\n",
       "       [0.],\n",
       "       [0.],\n",
       "       [0.],\n",
       "       [0.],\n",
       "       [0.],\n",
       "       [0.],\n",
       "       [0.],\n",
       "       [0.],\n",
       "       [0.],\n",
       "       [0.],\n",
       "       [0.],\n",
       "       [0.],\n",
       "       [0.],\n",
       "       [0.],\n",
       "       [0.],\n",
       "       [0.],\n",
       "       [0.],\n",
       "       [0.],\n",
       "       [0.],\n",
       "       [0.],\n",
       "       [0.],\n",
       "       [0.],\n",
       "       [0.],\n",
       "       [0.],\n",
       "       [0.],\n",
       "       [0.],\n",
       "       [0.],\n",
       "       [0.],\n",
       "       [0.],\n",
       "       [0.],\n",
       "       [0.],\n",
       "       [0.],\n",
       "       [0.],\n",
       "       [0.],\n",
       "       [0.],\n",
       "       [0.],\n",
       "       [0.],\n",
       "       [0.],\n",
       "       [0.],\n",
       "       [0.],\n",
       "       [0.],\n",
       "       [0.],\n",
       "       [0.],\n",
       "       [0.],\n",
       "       [0.],\n",
       "       [0.],\n",
       "       [0.],\n",
       "       [0.],\n",
       "       [0.],\n",
       "       [0.],\n",
       "       [0.],\n",
       "       [0.],\n",
       "       [0.],\n",
       "       [0.],\n",
       "       [0.],\n",
       "       [0.],\n",
       "       [0.],\n",
       "       [0.],\n",
       "       [0.],\n",
       "       [0.],\n",
       "       [0.],\n",
       "       [0.],\n",
       "       [0.],\n",
       "       [0.],\n",
       "       [0.],\n",
       "       [0.],\n",
       "       [0.],\n",
       "       [0.],\n",
       "       [0.],\n",
       "       [0.],\n",
       "       [0.],\n",
       "       [0.],\n",
       "       [0.],\n",
       "       [0.],\n",
       "       [0.],\n",
       "       [0.],\n",
       "       [0.],\n",
       "       [0.],\n",
       "       [0.],\n",
       "       [0.],\n",
       "       [0.],\n",
       "       [0.],\n",
       "       [0.],\n",
       "       [0.],\n",
       "       [0.],\n",
       "       [0.],\n",
       "       [0.],\n",
       "       [0.],\n",
       "       [0.],\n",
       "       [0.],\n",
       "       [0.],\n",
       "       [0.],\n",
       "       [0.],\n",
       "       [1.],\n",
       "       [0.],\n",
       "       [0.],\n",
       "       [0.],\n",
       "       [0.],\n",
       "       [0.],\n",
       "       [0.],\n",
       "       [0.],\n",
       "       [0.],\n",
       "       [0.],\n",
       "       [1.],\n",
       "       [0.],\n",
       "       [1.],\n",
       "       [1.],\n",
       "       [0.],\n",
       "       [0.],\n",
       "       [0.],\n",
       "       [0.],\n",
       "       [1.],\n",
       "       [0.],\n",
       "       [1.],\n",
       "       [1.],\n",
       "       [0.],\n",
       "       [0.],\n",
       "       [0.],\n",
       "       [0.],\n",
       "       [0.],\n",
       "       [0.],\n",
       "       [0.],\n",
       "       [0.],\n",
       "       [0.],\n",
       "       [0.],\n",
       "       [0.],\n",
       "       [0.],\n",
       "       [0.],\n",
       "       [0.],\n",
       "       [0.],\n",
       "       [0.],\n",
       "       [0.],\n",
       "       [0.],\n",
       "       [0.],\n",
       "       [0.],\n",
       "       [0.],\n",
       "       [0.],\n",
       "       [0.],\n",
       "       [0.],\n",
       "       [0.],\n",
       "       [0.],\n",
       "       [0.],\n",
       "       [0.],\n",
       "       [0.],\n",
       "       [0.],\n",
       "       [0.],\n",
       "       [0.],\n",
       "       [0.],\n",
       "       [0.],\n",
       "       [0.],\n",
       "       [0.],\n",
       "       [0.],\n",
       "       [0.],\n",
       "       [0.],\n",
       "       [0.],\n",
       "       [0.],\n",
       "       [0.],\n",
       "       [0.],\n",
       "       [0.],\n",
       "       [1.],\n",
       "       [1.],\n",
       "       [1.],\n",
       "       [1.],\n",
       "       [1.],\n",
       "       [0.],\n",
       "       [0.],\n",
       "       [0.],\n",
       "       [1.],\n",
       "       [0.],\n",
       "       [1.],\n",
       "       [1.],\n",
       "       [1.],\n",
       "       [1.],\n",
       "       [1.],\n",
       "       [0.],\n",
       "       [0.],\n",
       "       [0.],\n",
       "       [0.],\n",
       "       [0.],\n",
       "       [0.],\n",
       "       [0.],\n",
       "       [0.],\n",
       "       [0.],\n",
       "       [0.],\n",
       "       [0.],\n",
       "       [1.],\n",
       "       [0.],\n",
       "       [1.],\n",
       "       [0.],\n",
       "       [0.],\n",
       "       [0.],\n",
       "       [0.],\n",
       "       [0.],\n",
       "       [0.],\n",
       "       [0.],\n",
       "       [0.],\n",
       "       [0.],\n",
       "       [0.],\n",
       "       [0.],\n",
       "       [0.],\n",
       "       [0.],\n",
       "       [0.],\n",
       "       [0.],\n",
       "       [0.],\n",
       "       [0.],\n",
       "       [0.],\n",
       "       [0.],\n",
       "       [0.],\n",
       "       [0.],\n",
       "       [0.],\n",
       "       [0.],\n",
       "       [0.],\n",
       "       [0.],\n",
       "       [0.],\n",
       "       [0.],\n",
       "       [0.],\n",
       "       [0.],\n",
       "       [0.],\n",
       "       [0.],\n",
       "       [0.],\n",
       "       [1.],\n",
       "       [0.],\n",
       "       [0.],\n",
       "       [0.],\n",
       "       [1.],\n",
       "       [1.],\n",
       "       [0.],\n",
       "       [1.],\n",
       "       [1.],\n",
       "       [0.],\n",
       "       [0.],\n",
       "       [0.],\n",
       "       [0.],\n",
       "       [1.],\n",
       "       [1.],\n",
       "       [0.],\n",
       "       [0.],\n",
       "       [0.],\n",
       "       [0.],\n",
       "       [0.],\n",
       "       [0.],\n",
       "       [0.],\n",
       "       [0.],\n",
       "       [0.],\n",
       "       [0.],\n",
       "       [0.],\n",
       "       [0.],\n",
       "       [0.],\n",
       "       [0.],\n",
       "       [0.],\n",
       "       [0.],\n",
       "       [0.],\n",
       "       [0.],\n",
       "       [0.],\n",
       "       [0.],\n",
       "       [0.],\n",
       "       [0.],\n",
       "       [0.],\n",
       "       [0.],\n",
       "       [0.],\n",
       "       [0.],\n",
       "       [0.],\n",
       "       [0.],\n",
       "       [0.],\n",
       "       [0.],\n",
       "       [0.],\n",
       "       [0.],\n",
       "       [0.],\n",
       "       [0.],\n",
       "       [0.],\n",
       "       [0.],\n",
       "       [0.],\n",
       "       [0.],\n",
       "       [0.],\n",
       "       [0.],\n",
       "       [0.],\n",
       "       [0.],\n",
       "       [0.],\n",
       "       [0.],\n",
       "       [0.],\n",
       "       [0.],\n",
       "       [0.],\n",
       "       [0.],\n",
       "       [0.],\n",
       "       [0.],\n",
       "       [0.],\n",
       "       [0.],\n",
       "       [0.],\n",
       "       [0.],\n",
       "       [0.],\n",
       "       [0.],\n",
       "       [0.],\n",
       "       [0.],\n",
       "       [0.],\n",
       "       [0.],\n",
       "       [0.],\n",
       "       [0.],\n",
       "       [0.],\n",
       "       [0.],\n",
       "       [0.],\n",
       "       [0.],\n",
       "       [0.],\n",
       "       [0.],\n",
       "       [0.],\n",
       "       [0.],\n",
       "       [0.],\n",
       "       [0.],\n",
       "       [1.],\n",
       "       [1.],\n",
       "       [1.],\n",
       "       [0.],\n",
       "       [0.],\n",
       "       [0.],\n",
       "       [0.],\n",
       "       [1.],\n",
       "       [1.],\n",
       "       [0.],\n",
       "       [0.],\n",
       "       [0.],\n",
       "       [0.],\n",
       "       [1.],\n",
       "       [1.],\n",
       "       [0.],\n",
       "       [1.],\n",
       "       [0.],\n",
       "       [0.],\n",
       "       [0.],\n",
       "       [0.],\n",
       "       [0.],\n",
       "       [0.],\n",
       "       [0.],\n",
       "       [0.],\n",
       "       [0.],\n",
       "       [0.],\n",
       "       [0.],\n",
       "       [0.],\n",
       "       [0.],\n",
       "       [0.],\n",
       "       [0.],\n",
       "       [0.],\n",
       "       [0.],\n",
       "       [0.],\n",
       "       [0.],\n",
       "       [0.],\n",
       "       [0.],\n",
       "       [0.],\n",
       "       [0.],\n",
       "       [0.],\n",
       "       [0.],\n",
       "       [0.],\n",
       "       [0.],\n",
       "       [0.],\n",
       "       [0.],\n",
       "       [0.],\n",
       "       [0.],\n",
       "       [0.],\n",
       "       [0.],\n",
       "       [0.],\n",
       "       [0.],\n",
       "       [0.],\n",
       "       [0.],\n",
       "       [0.],\n",
       "       [0.],\n",
       "       [0.],\n",
       "       [0.],\n",
       "       [0.],\n",
       "       [0.],\n",
       "       [0.],\n",
       "       [0.],\n",
       "       [0.],\n",
       "       [0.],\n",
       "       [0.],\n",
       "       [0.],\n",
       "       [0.],\n",
       "       [0.],\n",
       "       [0.],\n",
       "       [0.],\n",
       "       [0.],\n",
       "       [0.],\n",
       "       [0.],\n",
       "       [0.],\n",
       "       [0.],\n",
       "       [0.],\n",
       "       [0.],\n",
       "       [0.],\n",
       "       [0.],\n",
       "       [0.],\n",
       "       [0.],\n",
       "       [0.],\n",
       "       [0.],\n",
       "       [0.],\n",
       "       [0.],\n",
       "       [0.],\n",
       "       [0.],\n",
       "       [0.],\n",
       "       [0.],\n",
       "       [0.],\n",
       "       [0.],\n",
       "       [0.],\n",
       "       [0.],\n",
       "       [0.],\n",
       "       [0.],\n",
       "       [0.],\n",
       "       [0.],\n",
       "       [0.],\n",
       "       [0.],\n",
       "       [0.],\n",
       "       [0.],\n",
       "       [0.],\n",
       "       [0.],\n",
       "       [0.],\n",
       "       [0.],\n",
       "       [0.],\n",
       "       [0.],\n",
       "       [0.],\n",
       "       [0.],\n",
       "       [0.],\n",
       "       [0.],\n",
       "       [0.],\n",
       "       [0.],\n",
       "       [0.],\n",
       "       [0.],\n",
       "       [0.],\n",
       "       [0.],\n",
       "       [0.],\n",
       "       [0.],\n",
       "       [0.],\n",
       "       [0.],\n",
       "       [0.],\n",
       "       [0.],\n",
       "       [0.],\n",
       "       [0.],\n",
       "       [0.],\n",
       "       [0.],\n",
       "       [0.],\n",
       "       [0.],\n",
       "       [0.],\n",
       "       [0.],\n",
       "       [0.],\n",
       "       [0.],\n",
       "       [0.],\n",
       "       [0.],\n",
       "       [0.],\n",
       "       [0.],\n",
       "       [0.],\n",
       "       [0.],\n",
       "       [0.],\n",
       "       [0.],\n",
       "       [0.],\n",
       "       [0.],\n",
       "       [0.],\n",
       "       [0.],\n",
       "       [0.],\n",
       "       [0.],\n",
       "       [0.],\n",
       "       [0.],\n",
       "       [0.]])"
      ]
     },
     "execution_count": 14,
     "metadata": {},
     "output_type": "execute_result"
    }
   ],
   "source": [
    "X2"
   ]
  },
  {
   "cell_type": "code",
   "execution_count": 15,
   "id": "d7b5bc60",
   "metadata": {},
   "outputs": [],
   "source": [
    "X=np.hstack((X1,X2))"
   ]
  },
  {
   "cell_type": "code",
   "execution_count": 16,
   "id": "af6d7667",
   "metadata": {},
   "outputs": [
    {
     "data": {
      "text/plain": [
       "array([[-0.41978194,  0.28482986, -1.2879095 , ...,  0.44105193,\n",
       "        -1.0755623 ,  0.        ],\n",
       "       [-0.41733926, -0.48772236, -0.59338101, ...,  0.44105193,\n",
       "        -0.49243937,  0.        ],\n",
       "       [-0.41734159, -0.48772236, -0.59338101, ...,  0.39642699,\n",
       "        -1.2087274 ,  0.        ],\n",
       "       ...,\n",
       "       [-0.41344658, -0.48772236,  0.11573841, ...,  0.44105193,\n",
       "        -0.98304761,  0.        ],\n",
       "       [-0.40776407, -0.48772236,  0.11573841, ...,  0.4032249 ,\n",
       "        -0.86530163,  0.        ],\n",
       "       [-0.41500016, -0.48772236,  0.11573841, ...,  0.44105193,\n",
       "        -0.66905833,  0.        ]])"
      ]
     },
     "execution_count": 16,
     "metadata": {},
     "output_type": "execute_result"
    }
   ],
   "source": [
    "X"
   ]
  },
  {
   "cell_type": "code",
   "execution_count": 17,
   "id": "f286800c",
   "metadata": {},
   "outputs": [
    {
     "data": {
      "text/html": [
       "<div>\n",
       "<style scoped>\n",
       "    .dataframe tbody tr th:only-of-type {\n",
       "        vertical-align: middle;\n",
       "    }\n",
       "\n",
       "    .dataframe tbody tr th {\n",
       "        vertical-align: top;\n",
       "    }\n",
       "\n",
       "    .dataframe thead th {\n",
       "        text-align: right;\n",
       "    }\n",
       "</style>\n",
       "<table border=\"1\" class=\"dataframe\">\n",
       "  <thead>\n",
       "    <tr style=\"text-align: right;\">\n",
       "      <th></th>\n",
       "      <th>CRIM</th>\n",
       "      <th>ZN</th>\n",
       "      <th>INDUS</th>\n",
       "      <th>NOX</th>\n",
       "      <th>RM</th>\n",
       "      <th>AGE</th>\n",
       "      <th>DIS</th>\n",
       "      <th>RAD</th>\n",
       "      <th>TAX</th>\n",
       "      <th>PTRATIO</th>\n",
       "      <th>B</th>\n",
       "      <th>LSTAT</th>\n",
       "      <th>CHAS</th>\n",
       "      <th>y</th>\n",
       "    </tr>\n",
       "  </thead>\n",
       "  <tbody>\n",
       "    <tr>\n",
       "      <th>0</th>\n",
       "      <td>-0.419782</td>\n",
       "      <td>0.284830</td>\n",
       "      <td>-1.287909</td>\n",
       "      <td>-0.144217</td>\n",
       "      <td>0.413672</td>\n",
       "      <td>-0.120013</td>\n",
       "      <td>0.140214</td>\n",
       "      <td>-0.982843</td>\n",
       "      <td>-0.666608</td>\n",
       "      <td>-1.459000</td>\n",
       "      <td>0.441052</td>\n",
       "      <td>-1.075562</td>\n",
       "      <td>0.0</td>\n",
       "      <td>24.0</td>\n",
       "    </tr>\n",
       "    <tr>\n",
       "      <th>1</th>\n",
       "      <td>-0.417339</td>\n",
       "      <td>-0.487722</td>\n",
       "      <td>-0.593381</td>\n",
       "      <td>-0.740262</td>\n",
       "      <td>0.194274</td>\n",
       "      <td>0.367166</td>\n",
       "      <td>0.557160</td>\n",
       "      <td>-0.867883</td>\n",
       "      <td>-0.987329</td>\n",
       "      <td>-0.303094</td>\n",
       "      <td>0.441052</td>\n",
       "      <td>-0.492439</td>\n",
       "      <td>0.0</td>\n",
       "      <td>21.6</td>\n",
       "    </tr>\n",
       "    <tr>\n",
       "      <th>2</th>\n",
       "      <td>-0.417342</td>\n",
       "      <td>-0.487722</td>\n",
       "      <td>-0.593381</td>\n",
       "      <td>-0.740262</td>\n",
       "      <td>1.282714</td>\n",
       "      <td>-0.265812</td>\n",
       "      <td>0.557160</td>\n",
       "      <td>-0.867883</td>\n",
       "      <td>-0.987329</td>\n",
       "      <td>-0.303094</td>\n",
       "      <td>0.396427</td>\n",
       "      <td>-1.208727</td>\n",
       "      <td>0.0</td>\n",
       "      <td>34.7</td>\n",
       "    </tr>\n",
       "    <tr>\n",
       "      <th>3</th>\n",
       "      <td>-0.416750</td>\n",
       "      <td>-0.487722</td>\n",
       "      <td>-1.306878</td>\n",
       "      <td>-0.835284</td>\n",
       "      <td>1.016303</td>\n",
       "      <td>-0.809889</td>\n",
       "      <td>1.077737</td>\n",
       "      <td>-0.752922</td>\n",
       "      <td>-1.106115</td>\n",
       "      <td>0.113032</td>\n",
       "      <td>0.416163</td>\n",
       "      <td>-1.361517</td>\n",
       "      <td>0.0</td>\n",
       "      <td>33.4</td>\n",
       "    </tr>\n",
       "    <tr>\n",
       "      <th>4</th>\n",
       "      <td>-0.412482</td>\n",
       "      <td>-0.487722</td>\n",
       "      <td>-1.306878</td>\n",
       "      <td>-0.835284</td>\n",
       "      <td>1.228577</td>\n",
       "      <td>-0.511180</td>\n",
       "      <td>1.077737</td>\n",
       "      <td>-0.752922</td>\n",
       "      <td>-1.106115</td>\n",
       "      <td>0.113032</td>\n",
       "      <td>0.441052</td>\n",
       "      <td>-1.026501</td>\n",
       "      <td>0.0</td>\n",
       "      <td>36.2</td>\n",
       "    </tr>\n",
       "    <tr>\n",
       "      <th>...</th>\n",
       "      <td>...</td>\n",
       "      <td>...</td>\n",
       "      <td>...</td>\n",
       "      <td>...</td>\n",
       "      <td>...</td>\n",
       "      <td>...</td>\n",
       "      <td>...</td>\n",
       "      <td>...</td>\n",
       "      <td>...</td>\n",
       "      <td>...</td>\n",
       "      <td>...</td>\n",
       "      <td>...</td>\n",
       "      <td>...</td>\n",
       "      <td>...</td>\n",
       "    </tr>\n",
       "    <tr>\n",
       "      <th>501</th>\n",
       "      <td>-0.413229</td>\n",
       "      <td>-0.487722</td>\n",
       "      <td>0.115738</td>\n",
       "      <td>0.158124</td>\n",
       "      <td>0.439316</td>\n",
       "      <td>0.018673</td>\n",
       "      <td>-0.625796</td>\n",
       "      <td>-0.982843</td>\n",
       "      <td>-0.803212</td>\n",
       "      <td>1.176466</td>\n",
       "      <td>0.387217</td>\n",
       "      <td>-0.418147</td>\n",
       "      <td>0.0</td>\n",
       "      <td>22.4</td>\n",
       "    </tr>\n",
       "    <tr>\n",
       "      <th>502</th>\n",
       "      <td>-0.415249</td>\n",
       "      <td>-0.487722</td>\n",
       "      <td>0.115738</td>\n",
       "      <td>0.158124</td>\n",
       "      <td>-0.234548</td>\n",
       "      <td>0.288933</td>\n",
       "      <td>-0.716639</td>\n",
       "      <td>-0.982843</td>\n",
       "      <td>-0.803212</td>\n",
       "      <td>1.176466</td>\n",
       "      <td>0.441052</td>\n",
       "      <td>-0.500850</td>\n",
       "      <td>0.0</td>\n",
       "      <td>20.6</td>\n",
       "    </tr>\n",
       "    <tr>\n",
       "      <th>503</th>\n",
       "      <td>-0.413447</td>\n",
       "      <td>-0.487722</td>\n",
       "      <td>0.115738</td>\n",
       "      <td>0.158124</td>\n",
       "      <td>0.984960</td>\n",
       "      <td>0.797449</td>\n",
       "      <td>-0.773684</td>\n",
       "      <td>-0.982843</td>\n",
       "      <td>-0.803212</td>\n",
       "      <td>1.176466</td>\n",
       "      <td>0.441052</td>\n",
       "      <td>-0.983048</td>\n",
       "      <td>0.0</td>\n",
       "      <td>23.9</td>\n",
       "    </tr>\n",
       "    <tr>\n",
       "      <th>504</th>\n",
       "      <td>-0.407764</td>\n",
       "      <td>-0.487722</td>\n",
       "      <td>0.115738</td>\n",
       "      <td>0.158124</td>\n",
       "      <td>0.725672</td>\n",
       "      <td>0.736996</td>\n",
       "      <td>-0.668437</td>\n",
       "      <td>-0.982843</td>\n",
       "      <td>-0.803212</td>\n",
       "      <td>1.176466</td>\n",
       "      <td>0.403225</td>\n",
       "      <td>-0.865302</td>\n",
       "      <td>0.0</td>\n",
       "      <td>22.0</td>\n",
       "    </tr>\n",
       "    <tr>\n",
       "      <th>505</th>\n",
       "      <td>-0.415000</td>\n",
       "      <td>-0.487722</td>\n",
       "      <td>0.115738</td>\n",
       "      <td>0.158124</td>\n",
       "      <td>-0.362767</td>\n",
       "      <td>0.434732</td>\n",
       "      <td>-0.613246</td>\n",
       "      <td>-0.982843</td>\n",
       "      <td>-0.803212</td>\n",
       "      <td>1.176466</td>\n",
       "      <td>0.441052</td>\n",
       "      <td>-0.669058</td>\n",
       "      <td>0.0</td>\n",
       "      <td>11.9</td>\n",
       "    </tr>\n",
       "  </tbody>\n",
       "</table>\n",
       "<p>506 rows × 14 columns</p>\n",
       "</div>"
      ],
      "text/plain": [
       "         CRIM        ZN     INDUS       NOX        RM       AGE       DIS  \\\n",
       "0   -0.419782  0.284830 -1.287909 -0.144217  0.413672 -0.120013  0.140214   \n",
       "1   -0.417339 -0.487722 -0.593381 -0.740262  0.194274  0.367166  0.557160   \n",
       "2   -0.417342 -0.487722 -0.593381 -0.740262  1.282714 -0.265812  0.557160   \n",
       "3   -0.416750 -0.487722 -1.306878 -0.835284  1.016303 -0.809889  1.077737   \n",
       "4   -0.412482 -0.487722 -1.306878 -0.835284  1.228577 -0.511180  1.077737   \n",
       "..        ...       ...       ...       ...       ...       ...       ...   \n",
       "501 -0.413229 -0.487722  0.115738  0.158124  0.439316  0.018673 -0.625796   \n",
       "502 -0.415249 -0.487722  0.115738  0.158124 -0.234548  0.288933 -0.716639   \n",
       "503 -0.413447 -0.487722  0.115738  0.158124  0.984960  0.797449 -0.773684   \n",
       "504 -0.407764 -0.487722  0.115738  0.158124  0.725672  0.736996 -0.668437   \n",
       "505 -0.415000 -0.487722  0.115738  0.158124 -0.362767  0.434732 -0.613246   \n",
       "\n",
       "          RAD       TAX   PTRATIO         B     LSTAT  CHAS     y  \n",
       "0   -0.982843 -0.666608 -1.459000  0.441052 -1.075562   0.0  24.0  \n",
       "1   -0.867883 -0.987329 -0.303094  0.441052 -0.492439   0.0  21.6  \n",
       "2   -0.867883 -0.987329 -0.303094  0.396427 -1.208727   0.0  34.7  \n",
       "3   -0.752922 -1.106115  0.113032  0.416163 -1.361517   0.0  33.4  \n",
       "4   -0.752922 -1.106115  0.113032  0.441052 -1.026501   0.0  36.2  \n",
       "..        ...       ...       ...       ...       ...   ...   ...  \n",
       "501 -0.982843 -0.803212  1.176466  0.387217 -0.418147   0.0  22.4  \n",
       "502 -0.982843 -0.803212  1.176466  0.441052 -0.500850   0.0  20.6  \n",
       "503 -0.982843 -0.803212  1.176466  0.441052 -0.983048   0.0  23.9  \n",
       "504 -0.982843 -0.803212  1.176466  0.403225 -0.865302   0.0  22.0  \n",
       "505 -0.982843 -0.803212  1.176466  0.441052 -0.669058   0.0  11.9  \n",
       "\n",
       "[506 rows x 14 columns]"
      ]
     },
     "execution_count": 17,
     "metadata": {},
     "output_type": "execute_result"
    }
   ],
   "source": [
    "df2=pd.DataFrame(X,columns=['CRIM','ZN','INDUS','NOX','RM','AGE','DIS','RAD','TAX','PTRATIO','B','LSTAT','CHAS'])\n",
    "df2['y']=y\n",
    "df2"
   ]
  },
  {
   "cell_type": "code",
   "execution_count": 18,
   "id": "7655214f",
   "metadata": {},
   "outputs": [],
   "source": [
    "from sklearn import model_selection"
   ]
  },
  {
   "cell_type": "code",
   "execution_count": 19,
   "id": "753af0e7",
   "metadata": {},
   "outputs": [],
   "source": [
    "X = df2[['CRIM','ZN','INDUS','NOX','RM','AGE','DIS','RAD','TAX','PTRATIO','B','LSTAT','CHAS']]\n",
    "y = df2['y']"
   ]
  },
  {
   "cell_type": "code",
   "execution_count": 20,
   "id": "5b9df265",
   "metadata": {},
   "outputs": [],
   "source": [
    "X_train, X_test, y_train, y_test = model_selection.train_test_split(X, y, test_size = 0.2, random_state = 1234)"
   ]
  },
  {
   "cell_type": "code",
   "execution_count": 21,
   "id": "38f86c76",
   "metadata": {},
   "outputs": [
    {
     "data": {
      "text/html": [
       "<div>\n",
       "<style scoped>\n",
       "    .dataframe tbody tr th:only-of-type {\n",
       "        vertical-align: middle;\n",
       "    }\n",
       "\n",
       "    .dataframe tbody tr th {\n",
       "        vertical-align: top;\n",
       "    }\n",
       "\n",
       "    .dataframe thead th {\n",
       "        text-align: right;\n",
       "    }\n",
       "</style>\n",
       "<table border=\"1\" class=\"dataframe\">\n",
       "  <thead>\n",
       "    <tr style=\"text-align: right;\">\n",
       "      <th></th>\n",
       "      <th>CRIM</th>\n",
       "      <th>ZN</th>\n",
       "      <th>INDUS</th>\n",
       "      <th>NOX</th>\n",
       "      <th>RM</th>\n",
       "      <th>AGE</th>\n",
       "      <th>DIS</th>\n",
       "      <th>RAD</th>\n",
       "      <th>TAX</th>\n",
       "      <th>PTRATIO</th>\n",
       "      <th>B</th>\n",
       "      <th>LSTAT</th>\n",
       "      <th>CHAS</th>\n",
       "    </tr>\n",
       "  </thead>\n",
       "  <tbody>\n",
       "    <tr>\n",
       "      <th>64</th>\n",
       "      <td>-0.418247</td>\n",
       "      <td>0.263370</td>\n",
       "      <td>-1.423605</td>\n",
       "      <td>-1.197230</td>\n",
       "      <td>1.167316</td>\n",
       "      <td>-0.322709</td>\n",
       "      <td>2.580236</td>\n",
       "      <td>-0.752922</td>\n",
       "      <td>-1.141751</td>\n",
       "      <td>0.066796</td>\n",
       "      <td>0.400922</td>\n",
       "      <td>-0.645229</td>\n",
       "      <td>0.0</td>\n",
       "    </tr>\n",
       "    <tr>\n",
       "      <th>100</th>\n",
       "      <td>-0.403217</td>\n",
       "      <td>-0.487722</td>\n",
       "      <td>-0.375976</td>\n",
       "      <td>-0.299707</td>\n",
       "      <td>0.630220</td>\n",
       "      <td>0.402727</td>\n",
       "      <td>-0.483566</td>\n",
       "      <td>-0.523001</td>\n",
       "      <td>-0.143951</td>\n",
       "      <td>1.130230</td>\n",
       "      <td>0.417588</td>\n",
       "      <td>-0.453191</td>\n",
       "      <td>0.0</td>\n",
       "    </tr>\n",
       "    <tr>\n",
       "      <th>400</th>\n",
       "      <td>2.494178</td>\n",
       "      <td>-0.487722</td>\n",
       "      <td>1.015999</td>\n",
       "      <td>1.194724</td>\n",
       "      <td>-0.424027</td>\n",
       "      <td>1.117494</td>\n",
       "      <td>-1.048780</td>\n",
       "      <td>1.661245</td>\n",
       "      <td>1.530926</td>\n",
       "      <td>0.806576</td>\n",
       "      <td>0.441052</td>\n",
       "      <td>1.978824</td>\n",
       "      <td>0.0</td>\n",
       "    </tr>\n",
       "    <tr>\n",
       "      <th>485</th>\n",
       "      <td>0.006999</td>\n",
       "      <td>-0.487722</td>\n",
       "      <td>1.015999</td>\n",
       "      <td>0.244507</td>\n",
       "      <td>0.038987</td>\n",
       "      <td>-0.592969</td>\n",
       "      <td>0.093485</td>\n",
       "      <td>1.661245</td>\n",
       "      <td>1.530926</td>\n",
       "      <td>0.806576</td>\n",
       "      <td>0.350267</td>\n",
       "      <td>-0.290589</td>\n",
       "      <td>0.0</td>\n",
       "    </tr>\n",
       "    <tr>\n",
       "      <th>454</th>\n",
       "      <td>0.686614</td>\n",
       "      <td>-0.487722</td>\n",
       "      <td>1.015999</td>\n",
       "      <td>1.367490</td>\n",
       "      <td>0.631645</td>\n",
       "      <td>0.907687</td>\n",
       "      <td>-0.617477</td>\n",
       "      <td>1.661245</td>\n",
       "      <td>1.530926</td>\n",
       "      <td>0.806576</td>\n",
       "      <td>-3.837460</td>\n",
       "      <td>0.849024</td>\n",
       "      <td>0.0</td>\n",
       "    </tr>\n",
       "    <tr>\n",
       "      <th>...</th>\n",
       "      <td>...</td>\n",
       "      <td>...</td>\n",
       "      <td>...</td>\n",
       "      <td>...</td>\n",
       "      <td>...</td>\n",
       "      <td>...</td>\n",
       "      <td>...</td>\n",
       "      <td>...</td>\n",
       "      <td>...</td>\n",
       "      <td>...</td>\n",
       "      <td>...</td>\n",
       "      <td>...</td>\n",
       "      <td>...</td>\n",
       "    </tr>\n",
       "    <tr>\n",
       "      <th>350</th>\n",
       "      <td>-0.413289</td>\n",
       "      <td>1.229060</td>\n",
       "      <td>-1.442573</td>\n",
       "      <td>-1.085795</td>\n",
       "      <td>0.292576</td>\n",
       "      <td>-0.859673</td>\n",
       "      <td>2.375447</td>\n",
       "      <td>-0.982843</td>\n",
       "      <td>-0.434976</td>\n",
       "      <td>0.575395</td>\n",
       "      <td>0.441052</td>\n",
       "      <td>-0.935389</td>\n",
       "      <td>0.0</td>\n",
       "    </tr>\n",
       "    <tr>\n",
       "      <th>191</th>\n",
       "      <td>-0.412475</td>\n",
       "      <td>1.443658</td>\n",
       "      <td>-1.123032</td>\n",
       "      <td>-1.016689</td>\n",
       "      <td>0.647316</td>\n",
       "      <td>-1.343297</td>\n",
       "      <td>1.276251</td>\n",
       "      <td>-0.523001</td>\n",
       "      <td>-0.060801</td>\n",
       "      <td>-1.505237</td>\n",
       "      <td>0.362218</td>\n",
       "      <td>-1.116213</td>\n",
       "      <td>0.0</td>\n",
       "    </tr>\n",
       "    <tr>\n",
       "      <th>239</th>\n",
       "      <td>-0.409751</td>\n",
       "      <td>0.799865</td>\n",
       "      <td>-0.905627</td>\n",
       "      <td>-1.094434</td>\n",
       "      <td>0.457836</td>\n",
       "      <td>-0.937907</td>\n",
       "      <td>1.138441</td>\n",
       "      <td>-0.408041</td>\n",
       "      <td>-0.642851</td>\n",
       "      <td>-0.857929</td>\n",
       "      <td>0.297200</td>\n",
       "      <td>-0.740547</td>\n",
       "      <td>0.0</td>\n",
       "    </tr>\n",
       "    <tr>\n",
       "      <th>109</th>\n",
       "      <td>-0.389838</td>\n",
       "      <td>-0.487722</td>\n",
       "      <td>-0.375976</td>\n",
       "      <td>-0.299707</td>\n",
       "      <td>-0.079260</td>\n",
       "      <td>0.804561</td>\n",
       "      <td>-0.594184</td>\n",
       "      <td>-0.523001</td>\n",
       "      <td>-0.143951</td>\n",
       "      <td>1.130230</td>\n",
       "      <td>0.378884</td>\n",
       "      <td>0.406075</td>\n",
       "      <td>0.0</td>\n",
       "    </tr>\n",
       "    <tr>\n",
       "      <th>219</th>\n",
       "      <td>-0.407222</td>\n",
       "      <td>-0.487722</td>\n",
       "      <td>0.401721</td>\n",
       "      <td>-0.040557</td>\n",
       "      <td>0.125891</td>\n",
       "      <td>0.847234</td>\n",
       "      <td>-0.205237</td>\n",
       "      <td>-0.523001</td>\n",
       "      <td>-0.785394</td>\n",
       "      <td>-0.950402</td>\n",
       "      <td>0.406405</td>\n",
       "      <td>-0.301803</td>\n",
       "      <td>1.0</td>\n",
       "    </tr>\n",
       "  </tbody>\n",
       "</table>\n",
       "<p>102 rows × 13 columns</p>\n",
       "</div>"
      ],
      "text/plain": [
       "         CRIM        ZN     INDUS       NOX        RM       AGE       DIS  \\\n",
       "64  -0.418247  0.263370 -1.423605 -1.197230  1.167316 -0.322709  2.580236   \n",
       "100 -0.403217 -0.487722 -0.375976 -0.299707  0.630220  0.402727 -0.483566   \n",
       "400  2.494178 -0.487722  1.015999  1.194724 -0.424027  1.117494 -1.048780   \n",
       "485  0.006999 -0.487722  1.015999  0.244507  0.038987 -0.592969  0.093485   \n",
       "454  0.686614 -0.487722  1.015999  1.367490  0.631645  0.907687 -0.617477   \n",
       "..        ...       ...       ...       ...       ...       ...       ...   \n",
       "350 -0.413289  1.229060 -1.442573 -1.085795  0.292576 -0.859673  2.375447   \n",
       "191 -0.412475  1.443658 -1.123032 -1.016689  0.647316 -1.343297  1.276251   \n",
       "239 -0.409751  0.799865 -0.905627 -1.094434  0.457836 -0.937907  1.138441   \n",
       "109 -0.389838 -0.487722 -0.375976 -0.299707 -0.079260  0.804561 -0.594184   \n",
       "219 -0.407222 -0.487722  0.401721 -0.040557  0.125891  0.847234 -0.205237   \n",
       "\n",
       "          RAD       TAX   PTRATIO         B     LSTAT  CHAS  \n",
       "64  -0.752922 -1.141751  0.066796  0.400922 -0.645229   0.0  \n",
       "100 -0.523001 -0.143951  1.130230  0.417588 -0.453191   0.0  \n",
       "400  1.661245  1.530926  0.806576  0.441052  1.978824   0.0  \n",
       "485  1.661245  1.530926  0.806576  0.350267 -0.290589   0.0  \n",
       "454  1.661245  1.530926  0.806576 -3.837460  0.849024   0.0  \n",
       "..        ...       ...       ...       ...       ...   ...  \n",
       "350 -0.982843 -0.434976  0.575395  0.441052 -0.935389   0.0  \n",
       "191 -0.523001 -0.060801 -1.505237  0.362218 -1.116213   0.0  \n",
       "239 -0.408041 -0.642851 -0.857929  0.297200 -0.740547   0.0  \n",
       "109 -0.523001 -0.143951  1.130230  0.378884  0.406075   0.0  \n",
       "219 -0.523001 -0.785394 -0.950402  0.406405 -0.301803   1.0  \n",
       "\n",
       "[102 rows x 13 columns]"
      ]
     },
     "execution_count": 21,
     "metadata": {},
     "output_type": "execute_result"
    }
   ],
   "source": [
    "X_test"
   ]
  },
  {
   "cell_type": "code",
   "execution_count": 22,
   "id": "f694126a",
   "metadata": {},
   "outputs": [],
   "source": [
    "from sklearn.svm import SVR"
   ]
  },
  {
   "cell_type": "code",
   "execution_count": 23,
   "id": "2003d1ca",
   "metadata": {},
   "outputs": [],
   "source": [
    "linear_svr = SVR(kernel='linear')\n",
    "linear_svr.fit(X_train, y_train)\n",
    "linear_svr_y_predict = linear_svr.predict(X_test)"
   ]
  },
  {
   "cell_type": "code",
   "execution_count": 24,
   "id": "45c8c6fa",
   "metadata": {},
   "outputs": [
    {
     "name": "stdout",
     "output_type": "stream",
     "text": [
      "0.7646714399761126\n"
     ]
    }
   ],
   "source": [
    "from sklearn.metrics import r2_score, mean_absolute_error, mean_squared_error\n",
    "print (linear_svr.score(X_test, y_test))"
   ]
  },
  {
   "cell_type": "code",
   "execution_count": 25,
   "id": "57046ec3",
   "metadata": {},
   "outputs": [],
   "source": [
    "Adjusted_R2=1 - (1-linear_svr.score(X_test, y_test))*(len(y_test)-1)/(len(y_test)-X_test.shape[1]-1)"
   ]
  },
  {
   "cell_type": "code",
   "execution_count": 26,
   "id": "a663b654",
   "metadata": {},
   "outputs": [
    {
     "data": {
      "text/plain": [
       "0.7299069936089475"
      ]
     },
     "execution_count": 26,
     "metadata": {},
     "output_type": "execute_result"
    }
   ],
   "source": [
    "Adjusted_R2"
   ]
  },
  {
   "cell_type": "markdown",
   "id": "064636d4",
   "metadata": {},
   "source": [
    "# DO Lime"
   ]
  },
  {
   "cell_type": "markdown",
   "id": "13489b87",
   "metadata": {},
   "source": [
    "# perturb data"
   ]
  },
  {
   "cell_type": "code",
   "execution_count": 27,
   "id": "745659da",
   "metadata": {},
   "outputs": [],
   "source": [
    "num_perturb = 500\n",
    "X_limePart1 = np.random.normal(0,1,size=(num_perturb,X1.shape[1]))"
   ]
  },
  {
   "cell_type": "code",
   "execution_count": 28,
   "id": "548c5525",
   "metadata": {},
   "outputs": [
    {
     "data": {
      "text/plain": [
       "array([[-0.70545731,  0.84477633, -0.55560213, ..., -0.75487303,\n",
       "         0.82256073,  0.24849349],\n",
       "       [-0.75330834, -0.63105212,  1.5945648 , ..., -1.34797031,\n",
       "         0.97432638,  0.20445162],\n",
       "       [-1.97946531,  0.85185936,  0.00576119, ..., -1.3993403 ,\n",
       "        -1.62682579,  1.69813199],\n",
       "       ...,\n",
       "       [ 0.14052529, -1.36236496, -0.85689731, ...,  1.94765249,\n",
       "         0.20644664, -0.25009906],\n",
       "       [ 0.68254216, -2.34818712, -1.46686928, ..., -0.50358283,\n",
       "        -1.4870352 , -0.25652349],\n",
       "       [-0.72361358, -1.10755539,  1.0350611 , ..., -1.02492553,\n",
       "         0.80550011,  1.27225754]])"
      ]
     },
     "execution_count": 28,
     "metadata": {},
     "output_type": "execute_result"
    }
   ],
   "source": [
    "X_limePart1"
   ]
  },
  {
   "cell_type": "code",
   "execution_count": 29,
   "id": "1db63139",
   "metadata": {},
   "outputs": [],
   "source": [
    "dfX_limePart1=pd.DataFrame(X_limePart1,columns=['CRIM','ZN','INDUS','NOX','RM','AGE','DIS','RAD','TAX','PTRATIO','B','LSTAT'])"
   ]
  },
  {
   "cell_type": "code",
   "execution_count": 30,
   "id": "4c84c61a",
   "metadata": {},
   "outputs": [
    {
     "data": {
      "text/html": [
       "<div>\n",
       "<style scoped>\n",
       "    .dataframe tbody tr th:only-of-type {\n",
       "        vertical-align: middle;\n",
       "    }\n",
       "\n",
       "    .dataframe tbody tr th {\n",
       "        vertical-align: top;\n",
       "    }\n",
       "\n",
       "    .dataframe thead th {\n",
       "        text-align: right;\n",
       "    }\n",
       "</style>\n",
       "<table border=\"1\" class=\"dataframe\">\n",
       "  <thead>\n",
       "    <tr style=\"text-align: right;\">\n",
       "      <th></th>\n",
       "      <th>CRIM</th>\n",
       "      <th>ZN</th>\n",
       "      <th>INDUS</th>\n",
       "      <th>NOX</th>\n",
       "      <th>RM</th>\n",
       "      <th>AGE</th>\n",
       "      <th>DIS</th>\n",
       "      <th>RAD</th>\n",
       "      <th>TAX</th>\n",
       "      <th>PTRATIO</th>\n",
       "      <th>B</th>\n",
       "      <th>LSTAT</th>\n",
       "    </tr>\n",
       "  </thead>\n",
       "  <tbody>\n",
       "    <tr>\n",
       "      <th>0</th>\n",
       "      <td>-0.705457</td>\n",
       "      <td>0.844776</td>\n",
       "      <td>-0.555602</td>\n",
       "      <td>0.312159</td>\n",
       "      <td>1.183157</td>\n",
       "      <td>0.249170</td>\n",
       "      <td>-0.669223</td>\n",
       "      <td>0.734646</td>\n",
       "      <td>0.727300</td>\n",
       "      <td>-0.754873</td>\n",
       "      <td>0.822561</td>\n",
       "      <td>0.248493</td>\n",
       "    </tr>\n",
       "    <tr>\n",
       "      <th>1</th>\n",
       "      <td>-0.753308</td>\n",
       "      <td>-0.631052</td>\n",
       "      <td>1.594565</td>\n",
       "      <td>0.587604</td>\n",
       "      <td>-0.159383</td>\n",
       "      <td>-2.453100</td>\n",
       "      <td>-0.644064</td>\n",
       "      <td>0.503302</td>\n",
       "      <td>-0.226502</td>\n",
       "      <td>-1.347970</td>\n",
       "      <td>0.974326</td>\n",
       "      <td>0.204452</td>\n",
       "    </tr>\n",
       "    <tr>\n",
       "      <th>2</th>\n",
       "      <td>-1.979465</td>\n",
       "      <td>0.851859</td>\n",
       "      <td>0.005761</td>\n",
       "      <td>-0.531571</td>\n",
       "      <td>-0.149929</td>\n",
       "      <td>1.810933</td>\n",
       "      <td>-1.786157</td>\n",
       "      <td>0.086744</td>\n",
       "      <td>-0.505786</td>\n",
       "      <td>-1.399340</td>\n",
       "      <td>-1.626826</td>\n",
       "      <td>1.698132</td>\n",
       "    </tr>\n",
       "    <tr>\n",
       "      <th>3</th>\n",
       "      <td>0.279295</td>\n",
       "      <td>-0.237316</td>\n",
       "      <td>-0.555606</td>\n",
       "      <td>-0.549176</td>\n",
       "      <td>-0.813408</td>\n",
       "      <td>-0.964785</td>\n",
       "      <td>-0.827820</td>\n",
       "      <td>2.042375</td>\n",
       "      <td>-0.294554</td>\n",
       "      <td>-1.065063</td>\n",
       "      <td>-0.948865</td>\n",
       "      <td>1.003701</td>\n",
       "    </tr>\n",
       "    <tr>\n",
       "      <th>4</th>\n",
       "      <td>0.945746</td>\n",
       "      <td>-0.327040</td>\n",
       "      <td>-1.131819</td>\n",
       "      <td>0.715719</td>\n",
       "      <td>0.413103</td>\n",
       "      <td>1.199519</td>\n",
       "      <td>-1.112148</td>\n",
       "      <td>-0.237990</td>\n",
       "      <td>0.497892</td>\n",
       "      <td>0.914177</td>\n",
       "      <td>-0.834866</td>\n",
       "      <td>-0.853039</td>\n",
       "    </tr>\n",
       "    <tr>\n",
       "      <th>...</th>\n",
       "      <td>...</td>\n",
       "      <td>...</td>\n",
       "      <td>...</td>\n",
       "      <td>...</td>\n",
       "      <td>...</td>\n",
       "      <td>...</td>\n",
       "      <td>...</td>\n",
       "      <td>...</td>\n",
       "      <td>...</td>\n",
       "      <td>...</td>\n",
       "      <td>...</td>\n",
       "      <td>...</td>\n",
       "    </tr>\n",
       "    <tr>\n",
       "      <th>495</th>\n",
       "      <td>-0.757461</td>\n",
       "      <td>-0.574198</td>\n",
       "      <td>-1.065424</td>\n",
       "      <td>-2.662814</td>\n",
       "      <td>-0.568608</td>\n",
       "      <td>0.021229</td>\n",
       "      <td>-0.053942</td>\n",
       "      <td>-0.352750</td>\n",
       "      <td>0.886205</td>\n",
       "      <td>0.874418</td>\n",
       "      <td>0.374729</td>\n",
       "      <td>0.843062</td>\n",
       "    </tr>\n",
       "    <tr>\n",
       "      <th>496</th>\n",
       "      <td>1.460516</td>\n",
       "      <td>0.353296</td>\n",
       "      <td>-0.937746</td>\n",
       "      <td>-0.350304</td>\n",
       "      <td>0.271971</td>\n",
       "      <td>0.277279</td>\n",
       "      <td>0.547189</td>\n",
       "      <td>-0.185624</td>\n",
       "      <td>-0.578371</td>\n",
       "      <td>0.246773</td>\n",
       "      <td>0.103112</td>\n",
       "      <td>0.411997</td>\n",
       "    </tr>\n",
       "    <tr>\n",
       "      <th>497</th>\n",
       "      <td>0.140525</td>\n",
       "      <td>-1.362365</td>\n",
       "      <td>-0.856897</td>\n",
       "      <td>0.985871</td>\n",
       "      <td>-0.855341</td>\n",
       "      <td>-1.568520</td>\n",
       "      <td>-0.496656</td>\n",
       "      <td>-1.097455</td>\n",
       "      <td>0.822994</td>\n",
       "      <td>1.947652</td>\n",
       "      <td>0.206447</td>\n",
       "      <td>-0.250099</td>\n",
       "    </tr>\n",
       "    <tr>\n",
       "      <th>498</th>\n",
       "      <td>0.682542</td>\n",
       "      <td>-2.348187</td>\n",
       "      <td>-1.466869</td>\n",
       "      <td>0.722494</td>\n",
       "      <td>-0.205289</td>\n",
       "      <td>-0.143667</td>\n",
       "      <td>-1.662358</td>\n",
       "      <td>-0.393084</td>\n",
       "      <td>0.307820</td>\n",
       "      <td>-0.503583</td>\n",
       "      <td>-1.487035</td>\n",
       "      <td>-0.256523</td>\n",
       "    </tr>\n",
       "    <tr>\n",
       "      <th>499</th>\n",
       "      <td>-0.723614</td>\n",
       "      <td>-1.107555</td>\n",
       "      <td>1.035061</td>\n",
       "      <td>-0.037165</td>\n",
       "      <td>-0.226291</td>\n",
       "      <td>0.044862</td>\n",
       "      <td>-0.063688</td>\n",
       "      <td>1.953726</td>\n",
       "      <td>0.003492</td>\n",
       "      <td>-1.024926</td>\n",
       "      <td>0.805500</td>\n",
       "      <td>1.272258</td>\n",
       "    </tr>\n",
       "  </tbody>\n",
       "</table>\n",
       "<p>500 rows × 12 columns</p>\n",
       "</div>"
      ],
      "text/plain": [
       "         CRIM        ZN     INDUS       NOX        RM       AGE       DIS  \\\n",
       "0   -0.705457  0.844776 -0.555602  0.312159  1.183157  0.249170 -0.669223   \n",
       "1   -0.753308 -0.631052  1.594565  0.587604 -0.159383 -2.453100 -0.644064   \n",
       "2   -1.979465  0.851859  0.005761 -0.531571 -0.149929  1.810933 -1.786157   \n",
       "3    0.279295 -0.237316 -0.555606 -0.549176 -0.813408 -0.964785 -0.827820   \n",
       "4    0.945746 -0.327040 -1.131819  0.715719  0.413103  1.199519 -1.112148   \n",
       "..        ...       ...       ...       ...       ...       ...       ...   \n",
       "495 -0.757461 -0.574198 -1.065424 -2.662814 -0.568608  0.021229 -0.053942   \n",
       "496  1.460516  0.353296 -0.937746 -0.350304  0.271971  0.277279  0.547189   \n",
       "497  0.140525 -1.362365 -0.856897  0.985871 -0.855341 -1.568520 -0.496656   \n",
       "498  0.682542 -2.348187 -1.466869  0.722494 -0.205289 -0.143667 -1.662358   \n",
       "499 -0.723614 -1.107555  1.035061 -0.037165 -0.226291  0.044862 -0.063688   \n",
       "\n",
       "          RAD       TAX   PTRATIO         B     LSTAT  \n",
       "0    0.734646  0.727300 -0.754873  0.822561  0.248493  \n",
       "1    0.503302 -0.226502 -1.347970  0.974326  0.204452  \n",
       "2    0.086744 -0.505786 -1.399340 -1.626826  1.698132  \n",
       "3    2.042375 -0.294554 -1.065063 -0.948865  1.003701  \n",
       "4   -0.237990  0.497892  0.914177 -0.834866 -0.853039  \n",
       "..        ...       ...       ...       ...       ...  \n",
       "495 -0.352750  0.886205  0.874418  0.374729  0.843062  \n",
       "496 -0.185624 -0.578371  0.246773  0.103112  0.411997  \n",
       "497 -1.097455  0.822994  1.947652  0.206447 -0.250099  \n",
       "498 -0.393084  0.307820 -0.503583 -1.487035 -0.256523  \n",
       "499  1.953726  0.003492 -1.024926  0.805500  1.272258  \n",
       "\n",
       "[500 rows x 12 columns]"
      ]
     },
     "execution_count": 30,
     "metadata": {},
     "output_type": "execute_result"
    }
   ],
   "source": [
    "dfX_limePart1"
   ]
  },
  {
   "cell_type": "code",
   "execution_count": 31,
   "id": "edfc34b4",
   "metadata": {},
   "outputs": [
    {
     "data": {
      "text/plain": [
       "0.0    471\n",
       "1.0     35\n",
       "Name: CHAS, dtype: int64"
      ]
     },
     "execution_count": 31,
     "metadata": {},
     "output_type": "execute_result"
    }
   ],
   "source": [
    "boston['CHAS'].value_counts()"
   ]
  },
  {
   "cell_type": "code",
   "execution_count": 32,
   "id": "a21f6b37",
   "metadata": {},
   "outputs": [],
   "source": [
    "perturbations=[]\n",
    "for i in range(num_perturb):\n",
    "  perturbations.append(np.random.choice(2,1,p=[0.93,0.07]))"
   ]
  },
  {
   "cell_type": "code",
   "execution_count": 33,
   "id": "793b297a",
   "metadata": {},
   "outputs": [
    {
     "data": {
      "text/plain": [
       "[array([0]),\n",
       " array([0]),\n",
       " array([0]),\n",
       " array([0]),\n",
       " array([0]),\n",
       " array([0]),\n",
       " array([0]),\n",
       " array([0]),\n",
       " array([0]),\n",
       " array([0]),\n",
       " array([0]),\n",
       " array([0]),\n",
       " array([0]),\n",
       " array([0]),\n",
       " array([0]),\n",
       " array([0]),\n",
       " array([0]),\n",
       " array([0]),\n",
       " array([0]),\n",
       " array([0]),\n",
       " array([0]),\n",
       " array([0]),\n",
       " array([0]),\n",
       " array([0]),\n",
       " array([1]),\n",
       " array([0]),\n",
       " array([0]),\n",
       " array([0]),\n",
       " array([0]),\n",
       " array([0]),\n",
       " array([0]),\n",
       " array([0]),\n",
       " array([0]),\n",
       " array([0]),\n",
       " array([0]),\n",
       " array([0]),\n",
       " array([0]),\n",
       " array([0]),\n",
       " array([0]),\n",
       " array([0]),\n",
       " array([0]),\n",
       " array([0]),\n",
       " array([0]),\n",
       " array([0]),\n",
       " array([0]),\n",
       " array([0]),\n",
       " array([1]),\n",
       " array([1]),\n",
       " array([0]),\n",
       " array([0]),\n",
       " array([0]),\n",
       " array([0]),\n",
       " array([0]),\n",
       " array([1]),\n",
       " array([0]),\n",
       " array([0]),\n",
       " array([0]),\n",
       " array([0]),\n",
       " array([0]),\n",
       " array([0]),\n",
       " array([0]),\n",
       " array([0]),\n",
       " array([0]),\n",
       " array([0]),\n",
       " array([0]),\n",
       " array([0]),\n",
       " array([0]),\n",
       " array([0]),\n",
       " array([0]),\n",
       " array([0]),\n",
       " array([0]),\n",
       " array([0]),\n",
       " array([0]),\n",
       " array([0]),\n",
       " array([1]),\n",
       " array([0]),\n",
       " array([0]),\n",
       " array([0]),\n",
       " array([0]),\n",
       " array([0]),\n",
       " array([0]),\n",
       " array([0]),\n",
       " array([0]),\n",
       " array([0]),\n",
       " array([0]),\n",
       " array([0]),\n",
       " array([0]),\n",
       " array([0]),\n",
       " array([0]),\n",
       " array([0]),\n",
       " array([0]),\n",
       " array([0]),\n",
       " array([0]),\n",
       " array([0]),\n",
       " array([0]),\n",
       " array([0]),\n",
       " array([0]),\n",
       " array([0]),\n",
       " array([0]),\n",
       " array([0]),\n",
       " array([0]),\n",
       " array([0]),\n",
       " array([0]),\n",
       " array([0]),\n",
       " array([0]),\n",
       " array([0]),\n",
       " array([0]),\n",
       " array([0]),\n",
       " array([0]),\n",
       " array([0]),\n",
       " array([0]),\n",
       " array([0]),\n",
       " array([0]),\n",
       " array([0]),\n",
       " array([0]),\n",
       " array([0]),\n",
       " array([0]),\n",
       " array([0]),\n",
       " array([0]),\n",
       " array([0]),\n",
       " array([0]),\n",
       " array([0]),\n",
       " array([0]),\n",
       " array([0]),\n",
       " array([0]),\n",
       " array([0]),\n",
       " array([0]),\n",
       " array([0]),\n",
       " array([0]),\n",
       " array([1]),\n",
       " array([0]),\n",
       " array([0]),\n",
       " array([0]),\n",
       " array([0]),\n",
       " array([0]),\n",
       " array([1]),\n",
       " array([0]),\n",
       " array([0]),\n",
       " array([0]),\n",
       " array([0]),\n",
       " array([0]),\n",
       " array([0]),\n",
       " array([1]),\n",
       " array([1]),\n",
       " array([0]),\n",
       " array([0]),\n",
       " array([0]),\n",
       " array([0]),\n",
       " array([0]),\n",
       " array([0]),\n",
       " array([0]),\n",
       " array([0]),\n",
       " array([0]),\n",
       " array([0]),\n",
       " array([0]),\n",
       " array([0]),\n",
       " array([0]),\n",
       " array([0]),\n",
       " array([0]),\n",
       " array([0]),\n",
       " array([1]),\n",
       " array([0]),\n",
       " array([0]),\n",
       " array([0]),\n",
       " array([0]),\n",
       " array([0]),\n",
       " array([0]),\n",
       " array([1]),\n",
       " array([1]),\n",
       " array([0]),\n",
       " array([0]),\n",
       " array([0]),\n",
       " array([0]),\n",
       " array([1]),\n",
       " array([0]),\n",
       " array([0]),\n",
       " array([0]),\n",
       " array([0]),\n",
       " array([0]),\n",
       " array([0]),\n",
       " array([0]),\n",
       " array([0]),\n",
       " array([0]),\n",
       " array([0]),\n",
       " array([1]),\n",
       " array([0]),\n",
       " array([0]),\n",
       " array([0]),\n",
       " array([0]),\n",
       " array([0]),\n",
       " array([0]),\n",
       " array([0]),\n",
       " array([0]),\n",
       " array([0]),\n",
       " array([0]),\n",
       " array([0]),\n",
       " array([0]),\n",
       " array([0]),\n",
       " array([0]),\n",
       " array([0]),\n",
       " array([0]),\n",
       " array([0]),\n",
       " array([0]),\n",
       " array([0]),\n",
       " array([0]),\n",
       " array([0]),\n",
       " array([0]),\n",
       " array([0]),\n",
       " array([0]),\n",
       " array([0]),\n",
       " array([0]),\n",
       " array([0]),\n",
       " array([0]),\n",
       " array([0]),\n",
       " array([0]),\n",
       " array([0]),\n",
       " array([0]),\n",
       " array([0]),\n",
       " array([0]),\n",
       " array([0]),\n",
       " array([0]),\n",
       " array([0]),\n",
       " array([0]),\n",
       " array([1]),\n",
       " array([0]),\n",
       " array([0]),\n",
       " array([0]),\n",
       " array([0]),\n",
       " array([0]),\n",
       " array([0]),\n",
       " array([1]),\n",
       " array([0]),\n",
       " array([0]),\n",
       " array([0]),\n",
       " array([0]),\n",
       " array([0]),\n",
       " array([0]),\n",
       " array([0]),\n",
       " array([0]),\n",
       " array([0]),\n",
       " array([0]),\n",
       " array([0]),\n",
       " array([0]),\n",
       " array([0]),\n",
       " array([0]),\n",
       " array([0]),\n",
       " array([0]),\n",
       " array([0]),\n",
       " array([0]),\n",
       " array([0]),\n",
       " array([0]),\n",
       " array([0]),\n",
       " array([0]),\n",
       " array([0]),\n",
       " array([0]),\n",
       " array([0]),\n",
       " array([0]),\n",
       " array([0]),\n",
       " array([0]),\n",
       " array([0]),\n",
       " array([0]),\n",
       " array([0]),\n",
       " array([0]),\n",
       " array([0]),\n",
       " array([0]),\n",
       " array([0]),\n",
       " array([0]),\n",
       " array([0]),\n",
       " array([0]),\n",
       " array([0]),\n",
       " array([0]),\n",
       " array([0]),\n",
       " array([0]),\n",
       " array([1]),\n",
       " array([0]),\n",
       " array([1]),\n",
       " array([0]),\n",
       " array([0]),\n",
       " array([0]),\n",
       " array([0]),\n",
       " array([0]),\n",
       " array([0]),\n",
       " array([0]),\n",
       " array([0]),\n",
       " array([0]),\n",
       " array([0]),\n",
       " array([0]),\n",
       " array([0]),\n",
       " array([0]),\n",
       " array([1]),\n",
       " array([0]),\n",
       " array([0]),\n",
       " array([1]),\n",
       " array([0]),\n",
       " array([0]),\n",
       " array([0]),\n",
       " array([0]),\n",
       " array([0]),\n",
       " array([0]),\n",
       " array([0]),\n",
       " array([0]),\n",
       " array([0]),\n",
       " array([0]),\n",
       " array([0]),\n",
       " array([0]),\n",
       " array([0]),\n",
       " array([0]),\n",
       " array([0]),\n",
       " array([0]),\n",
       " array([0]),\n",
       " array([0]),\n",
       " array([0]),\n",
       " array([0]),\n",
       " array([0]),\n",
       " array([0]),\n",
       " array([0]),\n",
       " array([0]),\n",
       " array([0]),\n",
       " array([0]),\n",
       " array([0]),\n",
       " array([1]),\n",
       " array([0]),\n",
       " array([0]),\n",
       " array([0]),\n",
       " array([0]),\n",
       " array([0]),\n",
       " array([0]),\n",
       " array([0]),\n",
       " array([0]),\n",
       " array([1]),\n",
       " array([1]),\n",
       " array([0]),\n",
       " array([0]),\n",
       " array([0]),\n",
       " array([0]),\n",
       " array([0]),\n",
       " array([0]),\n",
       " array([0]),\n",
       " array([0]),\n",
       " array([0]),\n",
       " array([0]),\n",
       " array([0]),\n",
       " array([0]),\n",
       " array([0]),\n",
       " array([0]),\n",
       " array([0]),\n",
       " array([1]),\n",
       " array([0]),\n",
       " array([0]),\n",
       " array([0]),\n",
       " array([0]),\n",
       " array([0]),\n",
       " array([0]),\n",
       " array([0]),\n",
       " array([0]),\n",
       " array([0]),\n",
       " array([0]),\n",
       " array([0]),\n",
       " array([0]),\n",
       " array([0]),\n",
       " array([0]),\n",
       " array([0]),\n",
       " array([0]),\n",
       " array([0]),\n",
       " array([0]),\n",
       " array([0]),\n",
       " array([0]),\n",
       " array([0]),\n",
       " array([0]),\n",
       " array([0]),\n",
       " array([0]),\n",
       " array([0]),\n",
       " array([0]),\n",
       " array([0]),\n",
       " array([0]),\n",
       " array([0]),\n",
       " array([0]),\n",
       " array([0]),\n",
       " array([0]),\n",
       " array([0]),\n",
       " array([0]),\n",
       " array([0]),\n",
       " array([0]),\n",
       " array([0]),\n",
       " array([0]),\n",
       " array([0]),\n",
       " array([0]),\n",
       " array([1]),\n",
       " array([0]),\n",
       " array([0]),\n",
       " array([0]),\n",
       " array([0]),\n",
       " array([0]),\n",
       " array([0]),\n",
       " array([0]),\n",
       " array([0]),\n",
       " array([0]),\n",
       " array([0]),\n",
       " array([0]),\n",
       " array([0]),\n",
       " array([0]),\n",
       " array([0]),\n",
       " array([0]),\n",
       " array([0]),\n",
       " array([0]),\n",
       " array([0]),\n",
       " array([0]),\n",
       " array([0]),\n",
       " array([0]),\n",
       " array([0]),\n",
       " array([0]),\n",
       " array([0]),\n",
       " array([1]),\n",
       " array([1]),\n",
       " array([0]),\n",
       " array([0]),\n",
       " array([0]),\n",
       " array([0]),\n",
       " array([1]),\n",
       " array([0]),\n",
       " array([0]),\n",
       " array([0]),\n",
       " array([0]),\n",
       " array([0]),\n",
       " array([0]),\n",
       " array([0]),\n",
       " array([0]),\n",
       " array([0]),\n",
       " array([0]),\n",
       " array([0]),\n",
       " array([0]),\n",
       " array([0]),\n",
       " array([0]),\n",
       " array([0]),\n",
       " array([0]),\n",
       " array([0]),\n",
       " array([0]),\n",
       " array([0]),\n",
       " array([0]),\n",
       " array([0]),\n",
       " array([0]),\n",
       " array([0]),\n",
       " array([0]),\n",
       " array([1]),\n",
       " array([0]),\n",
       " array([0]),\n",
       " array([0]),\n",
       " array([0]),\n",
       " array([1]),\n",
       " array([0]),\n",
       " array([0]),\n",
       " array([0]),\n",
       " array([0]),\n",
       " array([0]),\n",
       " array([0]),\n",
       " array([0]),\n",
       " array([0]),\n",
       " array([0]),\n",
       " array([0]),\n",
       " array([0]),\n",
       " array([0]),\n",
       " array([0]),\n",
       " array([0]),\n",
       " array([0]),\n",
       " array([0]),\n",
       " array([0]),\n",
       " array([0]),\n",
       " array([1]),\n",
       " array([0]),\n",
       " array([0]),\n",
       " array([0]),\n",
       " array([0]),\n",
       " array([0]),\n",
       " array([0]),\n",
       " array([0]),\n",
       " array([0]),\n",
       " array([0]),\n",
       " array([0]),\n",
       " array([0]),\n",
       " array([0]),\n",
       " array([0]),\n",
       " array([0]),\n",
       " array([0]),\n",
       " array([0]),\n",
       " array([0]),\n",
       " array([0]),\n",
       " array([0]),\n",
       " array([0]),\n",
       " array([1]),\n",
       " array([0]),\n",
       " array([0]),\n",
       " array([0]),\n",
       " array([0]),\n",
       " array([0]),\n",
       " array([0]),\n",
       " array([0]),\n",
       " array([0]),\n",
       " array([0]),\n",
       " array([0]),\n",
       " array([0])]"
      ]
     },
     "execution_count": 33,
     "metadata": {},
     "output_type": "execute_result"
    }
   ],
   "source": [
    "perturbations"
   ]
  },
  {
   "cell_type": "code",
   "execution_count": 34,
   "id": "2bc7d248",
   "metadata": {},
   "outputs": [
    {
     "data": {
      "text/html": [
       "<div>\n",
       "<style scoped>\n",
       "    .dataframe tbody tr th:only-of-type {\n",
       "        vertical-align: middle;\n",
       "    }\n",
       "\n",
       "    .dataframe tbody tr th {\n",
       "        vertical-align: top;\n",
       "    }\n",
       "\n",
       "    .dataframe thead th {\n",
       "        text-align: right;\n",
       "    }\n",
       "</style>\n",
       "<table border=\"1\" class=\"dataframe\">\n",
       "  <thead>\n",
       "    <tr style=\"text-align: right;\">\n",
       "      <th></th>\n",
       "      <th>CHAS</th>\n",
       "    </tr>\n",
       "  </thead>\n",
       "  <tbody>\n",
       "    <tr>\n",
       "      <th>0</th>\n",
       "      <td>0</td>\n",
       "    </tr>\n",
       "    <tr>\n",
       "      <th>1</th>\n",
       "      <td>0</td>\n",
       "    </tr>\n",
       "    <tr>\n",
       "      <th>2</th>\n",
       "      <td>0</td>\n",
       "    </tr>\n",
       "    <tr>\n",
       "      <th>3</th>\n",
       "      <td>0</td>\n",
       "    </tr>\n",
       "    <tr>\n",
       "      <th>4</th>\n",
       "      <td>0</td>\n",
       "    </tr>\n",
       "    <tr>\n",
       "      <th>...</th>\n",
       "      <td>...</td>\n",
       "    </tr>\n",
       "    <tr>\n",
       "      <th>495</th>\n",
       "      <td>0</td>\n",
       "    </tr>\n",
       "    <tr>\n",
       "      <th>496</th>\n",
       "      <td>0</td>\n",
       "    </tr>\n",
       "    <tr>\n",
       "      <th>497</th>\n",
       "      <td>0</td>\n",
       "    </tr>\n",
       "    <tr>\n",
       "      <th>498</th>\n",
       "      <td>0</td>\n",
       "    </tr>\n",
       "    <tr>\n",
       "      <th>499</th>\n",
       "      <td>0</td>\n",
       "    </tr>\n",
       "  </tbody>\n",
       "</table>\n",
       "<p>500 rows × 1 columns</p>\n",
       "</div>"
      ],
      "text/plain": [
       "     CHAS\n",
       "0       0\n",
       "1       0\n",
       "2       0\n",
       "3       0\n",
       "4       0\n",
       "..    ...\n",
       "495     0\n",
       "496     0\n",
       "497     0\n",
       "498     0\n",
       "499     0\n",
       "\n",
       "[500 rows x 1 columns]"
      ]
     },
     "execution_count": 34,
     "metadata": {},
     "output_type": "execute_result"
    }
   ],
   "source": [
    "LimePart2=pd.DataFrame(perturbations,columns=['CHAS'])\n",
    "LimePart2"
   ]
  },
  {
   "cell_type": "code",
   "execution_count": 35,
   "id": "520d2199",
   "metadata": {},
   "outputs": [
    {
     "data": {
      "text/html": [
       "<div>\n",
       "<style scoped>\n",
       "    .dataframe tbody tr th:only-of-type {\n",
       "        vertical-align: middle;\n",
       "    }\n",
       "\n",
       "    .dataframe tbody tr th {\n",
       "        vertical-align: top;\n",
       "    }\n",
       "\n",
       "    .dataframe thead th {\n",
       "        text-align: right;\n",
       "    }\n",
       "</style>\n",
       "<table border=\"1\" class=\"dataframe\">\n",
       "  <thead>\n",
       "    <tr style=\"text-align: right;\">\n",
       "      <th></th>\n",
       "      <th>CRIM</th>\n",
       "      <th>ZN</th>\n",
       "      <th>INDUS</th>\n",
       "      <th>NOX</th>\n",
       "      <th>RM</th>\n",
       "      <th>AGE</th>\n",
       "      <th>DIS</th>\n",
       "      <th>RAD</th>\n",
       "      <th>TAX</th>\n",
       "      <th>PTRATIO</th>\n",
       "      <th>B</th>\n",
       "      <th>LSTAT</th>\n",
       "      <th>CHAS</th>\n",
       "    </tr>\n",
       "  </thead>\n",
       "  <tbody>\n",
       "    <tr>\n",
       "      <th>0</th>\n",
       "      <td>-0.705457</td>\n",
       "      <td>0.844776</td>\n",
       "      <td>-0.555602</td>\n",
       "      <td>0.312159</td>\n",
       "      <td>1.183157</td>\n",
       "      <td>0.249170</td>\n",
       "      <td>-0.669223</td>\n",
       "      <td>0.734646</td>\n",
       "      <td>0.727300</td>\n",
       "      <td>-0.754873</td>\n",
       "      <td>0.822561</td>\n",
       "      <td>0.248493</td>\n",
       "      <td>0</td>\n",
       "    </tr>\n",
       "    <tr>\n",
       "      <th>1</th>\n",
       "      <td>-0.753308</td>\n",
       "      <td>-0.631052</td>\n",
       "      <td>1.594565</td>\n",
       "      <td>0.587604</td>\n",
       "      <td>-0.159383</td>\n",
       "      <td>-2.453100</td>\n",
       "      <td>-0.644064</td>\n",
       "      <td>0.503302</td>\n",
       "      <td>-0.226502</td>\n",
       "      <td>-1.347970</td>\n",
       "      <td>0.974326</td>\n",
       "      <td>0.204452</td>\n",
       "      <td>0</td>\n",
       "    </tr>\n",
       "    <tr>\n",
       "      <th>2</th>\n",
       "      <td>-1.979465</td>\n",
       "      <td>0.851859</td>\n",
       "      <td>0.005761</td>\n",
       "      <td>-0.531571</td>\n",
       "      <td>-0.149929</td>\n",
       "      <td>1.810933</td>\n",
       "      <td>-1.786157</td>\n",
       "      <td>0.086744</td>\n",
       "      <td>-0.505786</td>\n",
       "      <td>-1.399340</td>\n",
       "      <td>-1.626826</td>\n",
       "      <td>1.698132</td>\n",
       "      <td>0</td>\n",
       "    </tr>\n",
       "    <tr>\n",
       "      <th>3</th>\n",
       "      <td>0.279295</td>\n",
       "      <td>-0.237316</td>\n",
       "      <td>-0.555606</td>\n",
       "      <td>-0.549176</td>\n",
       "      <td>-0.813408</td>\n",
       "      <td>-0.964785</td>\n",
       "      <td>-0.827820</td>\n",
       "      <td>2.042375</td>\n",
       "      <td>-0.294554</td>\n",
       "      <td>-1.065063</td>\n",
       "      <td>-0.948865</td>\n",
       "      <td>1.003701</td>\n",
       "      <td>0</td>\n",
       "    </tr>\n",
       "    <tr>\n",
       "      <th>4</th>\n",
       "      <td>0.945746</td>\n",
       "      <td>-0.327040</td>\n",
       "      <td>-1.131819</td>\n",
       "      <td>0.715719</td>\n",
       "      <td>0.413103</td>\n",
       "      <td>1.199519</td>\n",
       "      <td>-1.112148</td>\n",
       "      <td>-0.237990</td>\n",
       "      <td>0.497892</td>\n",
       "      <td>0.914177</td>\n",
       "      <td>-0.834866</td>\n",
       "      <td>-0.853039</td>\n",
       "      <td>0</td>\n",
       "    </tr>\n",
       "    <tr>\n",
       "      <th>...</th>\n",
       "      <td>...</td>\n",
       "      <td>...</td>\n",
       "      <td>...</td>\n",
       "      <td>...</td>\n",
       "      <td>...</td>\n",
       "      <td>...</td>\n",
       "      <td>...</td>\n",
       "      <td>...</td>\n",
       "      <td>...</td>\n",
       "      <td>...</td>\n",
       "      <td>...</td>\n",
       "      <td>...</td>\n",
       "      <td>...</td>\n",
       "    </tr>\n",
       "    <tr>\n",
       "      <th>495</th>\n",
       "      <td>-0.757461</td>\n",
       "      <td>-0.574198</td>\n",
       "      <td>-1.065424</td>\n",
       "      <td>-2.662814</td>\n",
       "      <td>-0.568608</td>\n",
       "      <td>0.021229</td>\n",
       "      <td>-0.053942</td>\n",
       "      <td>-0.352750</td>\n",
       "      <td>0.886205</td>\n",
       "      <td>0.874418</td>\n",
       "      <td>0.374729</td>\n",
       "      <td>0.843062</td>\n",
       "      <td>0</td>\n",
       "    </tr>\n",
       "    <tr>\n",
       "      <th>496</th>\n",
       "      <td>1.460516</td>\n",
       "      <td>0.353296</td>\n",
       "      <td>-0.937746</td>\n",
       "      <td>-0.350304</td>\n",
       "      <td>0.271971</td>\n",
       "      <td>0.277279</td>\n",
       "      <td>0.547189</td>\n",
       "      <td>-0.185624</td>\n",
       "      <td>-0.578371</td>\n",
       "      <td>0.246773</td>\n",
       "      <td>0.103112</td>\n",
       "      <td>0.411997</td>\n",
       "      <td>0</td>\n",
       "    </tr>\n",
       "    <tr>\n",
       "      <th>497</th>\n",
       "      <td>0.140525</td>\n",
       "      <td>-1.362365</td>\n",
       "      <td>-0.856897</td>\n",
       "      <td>0.985871</td>\n",
       "      <td>-0.855341</td>\n",
       "      <td>-1.568520</td>\n",
       "      <td>-0.496656</td>\n",
       "      <td>-1.097455</td>\n",
       "      <td>0.822994</td>\n",
       "      <td>1.947652</td>\n",
       "      <td>0.206447</td>\n",
       "      <td>-0.250099</td>\n",
       "      <td>0</td>\n",
       "    </tr>\n",
       "    <tr>\n",
       "      <th>498</th>\n",
       "      <td>0.682542</td>\n",
       "      <td>-2.348187</td>\n",
       "      <td>-1.466869</td>\n",
       "      <td>0.722494</td>\n",
       "      <td>-0.205289</td>\n",
       "      <td>-0.143667</td>\n",
       "      <td>-1.662358</td>\n",
       "      <td>-0.393084</td>\n",
       "      <td>0.307820</td>\n",
       "      <td>-0.503583</td>\n",
       "      <td>-1.487035</td>\n",
       "      <td>-0.256523</td>\n",
       "      <td>0</td>\n",
       "    </tr>\n",
       "    <tr>\n",
       "      <th>499</th>\n",
       "      <td>-0.723614</td>\n",
       "      <td>-1.107555</td>\n",
       "      <td>1.035061</td>\n",
       "      <td>-0.037165</td>\n",
       "      <td>-0.226291</td>\n",
       "      <td>0.044862</td>\n",
       "      <td>-0.063688</td>\n",
       "      <td>1.953726</td>\n",
       "      <td>0.003492</td>\n",
       "      <td>-1.024926</td>\n",
       "      <td>0.805500</td>\n",
       "      <td>1.272258</td>\n",
       "      <td>0</td>\n",
       "    </tr>\n",
       "  </tbody>\n",
       "</table>\n",
       "<p>500 rows × 13 columns</p>\n",
       "</div>"
      ],
      "text/plain": [
       "         CRIM        ZN     INDUS       NOX        RM       AGE       DIS  \\\n",
       "0   -0.705457  0.844776 -0.555602  0.312159  1.183157  0.249170 -0.669223   \n",
       "1   -0.753308 -0.631052  1.594565  0.587604 -0.159383 -2.453100 -0.644064   \n",
       "2   -1.979465  0.851859  0.005761 -0.531571 -0.149929  1.810933 -1.786157   \n",
       "3    0.279295 -0.237316 -0.555606 -0.549176 -0.813408 -0.964785 -0.827820   \n",
       "4    0.945746 -0.327040 -1.131819  0.715719  0.413103  1.199519 -1.112148   \n",
       "..        ...       ...       ...       ...       ...       ...       ...   \n",
       "495 -0.757461 -0.574198 -1.065424 -2.662814 -0.568608  0.021229 -0.053942   \n",
       "496  1.460516  0.353296 -0.937746 -0.350304  0.271971  0.277279  0.547189   \n",
       "497  0.140525 -1.362365 -0.856897  0.985871 -0.855341 -1.568520 -0.496656   \n",
       "498  0.682542 -2.348187 -1.466869  0.722494 -0.205289 -0.143667 -1.662358   \n",
       "499 -0.723614 -1.107555  1.035061 -0.037165 -0.226291  0.044862 -0.063688   \n",
       "\n",
       "          RAD       TAX   PTRATIO         B     LSTAT  CHAS  \n",
       "0    0.734646  0.727300 -0.754873  0.822561  0.248493     0  \n",
       "1    0.503302 -0.226502 -1.347970  0.974326  0.204452     0  \n",
       "2    0.086744 -0.505786 -1.399340 -1.626826  1.698132     0  \n",
       "3    2.042375 -0.294554 -1.065063 -0.948865  1.003701     0  \n",
       "4   -0.237990  0.497892  0.914177 -0.834866 -0.853039     0  \n",
       "..        ...       ...       ...       ...       ...   ...  \n",
       "495 -0.352750  0.886205  0.874418  0.374729  0.843062     0  \n",
       "496 -0.185624 -0.578371  0.246773  0.103112  0.411997     0  \n",
       "497 -1.097455  0.822994  1.947652  0.206447 -0.250099     0  \n",
       "498 -0.393084  0.307820 -0.503583 -1.487035 -0.256523     0  \n",
       "499  1.953726  0.003492 -1.024926  0.805500  1.272258     0  \n",
       "\n",
       "[500 rows x 13 columns]"
      ]
     },
     "execution_count": 35,
     "metadata": {},
     "output_type": "execute_result"
    }
   ],
   "source": [
    "result = pd.concat([dfX_limePart1, LimePart2], axis=1)\n",
    "result"
   ]
  },
  {
   "cell_type": "markdown",
   "id": "b201b526",
   "metadata": {},
   "source": [
    "# repass SVM Model"
   ]
  },
  {
   "cell_type": "code",
   "execution_count": 36,
   "id": "3f2c2681",
   "metadata": {},
   "outputs": [],
   "source": [
    "linear_svr_y_predict2 = linear_svr.predict(result)"
   ]
  },
  {
   "cell_type": "markdown",
   "id": "eb913245",
   "metadata": {},
   "source": [
    "# Sample weight"
   ]
  },
  {
   "cell_type": "code",
   "execution_count": 37,
   "id": "f79a1086",
   "metadata": {},
   "outputs": [],
   "source": [
    "original_data=np.array(X_test.iloc[6])"
   ]
  },
  {
   "cell_type": "code",
   "execution_count": 38,
   "id": "20c32e1b",
   "metadata": {},
   "outputs": [
    {
     "data": {
      "text/plain": [
       "array([-0.40616976, -0.48772236, -0.16440754, -0.06647246, -0.52945215,\n",
       "        0.86501442, -0.68531244, -0.40804109,  0.14113426, -0.30309415,\n",
       "        0.41967143,  0.49858928,  0.        ])"
      ]
     },
     "execution_count": 38,
     "metadata": {},
     "output_type": "execute_result"
    }
   ],
   "source": [
    "original_data"
   ]
  },
  {
   "cell_type": "code",
   "execution_count": 39,
   "id": "1f2581fa",
   "metadata": {},
   "outputs": [
    {
     "data": {
      "text/plain": [
       "array([[-0.40616976, -0.48772236, -0.16440754, -0.06647246, -0.52945215,\n",
       "         0.86501442, -0.68531244, -0.40804109,  0.14113426, -0.30309415,\n",
       "         0.41967143,  0.49858928,  0.        ]])"
      ]
     },
     "execution_count": 39,
     "metadata": {},
     "output_type": "execute_result"
    }
   ],
   "source": [
    "original_data.reshape(1,13)"
   ]
  },
  {
   "cell_type": "code",
   "execution_count": 40,
   "id": "62c8422a",
   "metadata": {},
   "outputs": [],
   "source": [
    "import sklearn\n",
    "import sklearn.metrics"
   ]
  },
  {
   "cell_type": "code",
   "execution_count": 41,
   "id": "7b1782ac",
   "metadata": {},
   "outputs": [],
   "source": [
    "distances = sklearn.metrics.pairwise_distances(result.values,original_data.reshape(1,13), metric='cosine').ravel()"
   ]
  },
  {
   "cell_type": "code",
   "execution_count": 42,
   "id": "5ea1a433",
   "metadata": {},
   "outputs": [
    {
     "name": "stdout",
     "output_type": "stream",
     "text": [
      "[0.87486094 1.10114216 0.46903207 1.02997201 0.8689296  0.79412128\n",
      " 0.62874324 0.98674142 0.64551912 0.93200175 0.71677286 1.40693766\n",
      " 0.84130455 0.92446063 0.72695482 0.8848153  1.15106826 0.89316928\n",
      " 0.53055807 0.382577   0.85801888 1.50107328 0.7942866  0.50446122\n",
      " 0.88983273 1.00746463 0.70389788 0.763239   0.91840293 0.43263034\n",
      " 0.80164771 1.0557952  0.80329637 1.13456253 0.34746712 0.50830215\n",
      " 0.94624562 1.29269103 1.1598081  1.24643973 0.5128651  0.95813915\n",
      " 0.76235513 1.17329733 0.67958588 1.05054885 0.76339729 1.55921946\n",
      " 1.36025468 1.057119   1.03039057 0.89707424 1.00801014 1.10796406\n",
      " 1.10943467 1.07173969 0.85814688 0.90748336 0.50003571 0.7684115\n",
      " 0.80562954 0.71785286 0.8050029  1.02672799 0.61349447 0.89066413\n",
      " 1.11536202 1.03469462 0.8798255  1.35417188 1.09737875 1.08803394\n",
      " 1.00787602 0.78819598 0.87209736 1.00517581 0.88895071 1.16455304\n",
      " 0.99850979 0.71028305 1.38204351 0.73705197 0.87565341 1.53953201\n",
      " 1.01115658 1.155295   0.3412668  1.50966028 0.9191673  1.32488576\n",
      " 1.10850455 0.83288989 0.7877564  1.10437653 0.50185293 1.00296219\n",
      " 0.7516537  0.73229311 1.37581818 1.34056021 0.53232631 1.00903364\n",
      " 0.89270013 1.30432284 1.28381851 0.72221305 0.74646807 0.61114534\n",
      " 1.63498112 0.81321337 1.13001269 0.80624941 0.50938223 1.49444604\n",
      " 0.65724419 1.0035031  0.91667746 1.32766535 1.17067261 1.40569425\n",
      " 1.09766728 0.73108712 0.93580299 0.84416879 1.53148333 0.84957694\n",
      " 1.02652374 1.74357655 0.87401846 1.11569174 1.1603186  0.79393158\n",
      " 0.92100057 1.29230327 1.06875569 1.19933604 0.82607779 0.80597337\n",
      " 0.74818658 0.83874925 1.17532843 0.72912957 0.97519776 1.07319874\n",
      " 1.08717922 1.55524403 0.88272281 0.69962205 1.04699914 1.44070757\n",
      " 0.80929018 1.25486827 1.28595029 1.17724237 0.96336622 0.99930956\n",
      " 1.15729834 1.15157691 0.30710055 1.39047151 0.89486054 1.12950747\n",
      " 0.86544822 0.83806126 1.14508269 1.18841985 0.93163475 0.98624233\n",
      " 1.38846822 0.76114302 0.86312323 0.70530292 1.22504187 0.60927635\n",
      " 0.6002474  1.0193426  1.4829513  0.4444573  1.02508628 1.38706703\n",
      " 1.34747735 1.36792085 1.67613873 1.18978474 1.08741931 0.89596879\n",
      " 1.14523507 0.97896299 0.81118491 1.11832813 0.44979227 1.36936359\n",
      " 1.10956529 0.99348818 1.3937633  1.02412482 1.04376609 0.74047893\n",
      " 0.33400933 1.12213828 1.33387703 0.71446598 1.08431455 0.55405927\n",
      " 0.63863198 1.40297917 0.80341326 0.71515589 1.43256406 1.26574041\n",
      " 1.18063828 1.05601593 1.35414557 0.61999041 1.14406112 0.71122437\n",
      " 0.84076742 0.76034538 1.08505    1.21346399 1.35195036 1.24071992\n",
      " 0.49045219 0.44302742 0.48725683 0.67765558 1.06117183 1.25052925\n",
      " 0.85210473 0.94226446 0.61484892 1.28754492 1.38671076 1.14198584\n",
      " 1.33879467 1.11968305 1.2612704  1.2969951  0.62241865 0.94323633\n",
      " 1.08560069 0.71778689 0.91413333 0.94171615 0.94444797 0.9984545\n",
      " 1.50994059 0.84664449 0.79103447 1.22183572 1.00039691 1.13986017\n",
      " 1.37557237 0.47785498 1.17637819 1.24106761 1.30176151 1.03923282\n",
      " 0.95818909 0.66204007 1.14186915 1.39073265 0.74576803 1.01936173\n",
      " 0.98518843 1.33461129 1.38509097 0.54314993 0.96927241 1.12872761\n",
      " 1.26833337 0.68681864 0.78392345 1.44966041 1.0333877  1.66520394\n",
      " 0.86756251 0.62989729 1.18798206 0.59212079 1.29957023 0.75638323\n",
      " 0.77858432 1.0507773  0.77546993 1.08360791 1.00097121 1.11813287\n",
      " 1.22014141 0.67294322 0.52598571 1.4457469  0.91470835 0.83629548\n",
      " 1.24400415 1.54771823 1.32329387 0.98116546 1.02606059 0.64154034\n",
      " 0.70868713 0.67452771 0.49348339 0.58170154 0.81623528 1.30719162\n",
      " 0.8554189  0.73087101 1.21060251 0.7974371  0.48065829 0.86042282\n",
      " 0.98046042 0.90885247 0.70975343 0.74027191 0.83267248 1.011164\n",
      " 1.11748827 0.62446404 1.23468465 0.96129549 1.1323221  0.52259456\n",
      " 0.51646465 0.52982266 1.10975832 1.0593985  1.13114553 0.86228998\n",
      " 1.07263432 1.09925704 0.28939463 1.19587592 0.7889256  1.04930115\n",
      " 1.57873865 0.97932713 0.46649212 0.68888074 0.82349688 0.77812216\n",
      " 0.57477927 1.19264388 1.04904895 0.70544994 0.4028557  0.50526831\n",
      " 0.75306633 0.92815691 0.85053931 0.9996808  0.9536096  0.72541838\n",
      " 1.52532986 1.00893305 0.53253566 1.21112423 1.02313118 0.84895848\n",
      " 0.81276288 0.70945357 0.96047662 0.86868845 1.08053554 1.03104086\n",
      " 0.97368309 1.59690071 1.10053499 1.50826253 1.40547952 1.20476002\n",
      " 1.38985019 0.76997147 1.59242848 0.85611628 1.10989164 0.51367558\n",
      " 1.67442455 1.60437831 0.98453488 0.63374358 1.44633544 0.84102672\n",
      " 0.98707428 1.26526125 0.96549101 1.14606073 1.21355497 1.11960386\n",
      " 0.44408062 0.92606493 0.92001615 1.36425019 1.04771483 0.79739961\n",
      " 0.57411018 1.20577556 0.74815214 1.07146929 1.2318712  1.05381378\n",
      " 0.97219623 0.5260649  1.1744373  0.71354734 0.75268604 0.82806576\n",
      " 0.75351476 0.47677898 0.97620629 1.05292279 0.65308641 1.2216079\n",
      " 0.88307029 1.01924603 1.50436632 1.10980848 1.12434425 1.40580592\n",
      " 0.59343291 1.10571592 0.79965036 1.43240608 0.86463647 0.90659487\n",
      " 1.39889927 0.8961951  0.98480471 1.30285482 1.2979754  1.22447476\n",
      " 1.10110841 1.08424988 1.41770507 0.97959564 0.61528578 0.79839766\n",
      " 1.02561644 0.94057912 0.96073391 0.93062693 0.61688101 1.21080385\n",
      " 1.02003447 1.20928701 0.93969422 1.08720632 0.63433773 1.06156704\n",
      " 0.74637648 1.17104429 1.36481595 0.78143141 1.02422159 1.26091951\n",
      " 1.02996297 1.1153092  1.06221    0.79396002 1.15515685 0.53290551\n",
      " 0.90342844 0.92689793 1.2690919  0.87432646 1.40725518 0.7738958\n",
      " 0.65624274 0.96096876 1.56446967 1.30523468 1.36066498 1.15366633\n",
      " 0.84111446 0.86731611 1.57967957 0.98800375 0.72881146 0.8427608\n",
      " 1.05107003 1.39715161 1.25203555 0.59078571 1.24215172 1.12648012\n",
      " 0.82109115 1.47019928 0.45983206 0.44905233 0.84798137 1.04931201\n",
      " 1.17706248 1.21665228 0.82295636 0.66582662 1.20720549 0.99057561\n",
      " 0.70812128 0.73626656]\n"
     ]
    }
   ],
   "source": [
    "print(distances)"
   ]
  },
  {
   "cell_type": "code",
   "execution_count": 43,
   "id": "4adb8fe8",
   "metadata": {},
   "outputs": [
    {
     "data": {
      "text/plain": [
       "(500,)"
      ]
     },
     "execution_count": 43,
     "metadata": {},
     "output_type": "execute_result"
    }
   ],
   "source": [
    "distances.shape"
   ]
  },
  {
   "cell_type": "code",
   "execution_count": 44,
   "id": "821f1970",
   "metadata": {},
   "outputs": [
    {
     "name": "stdout",
     "output_type": "stream",
     "text": [
      "[2.19175368e-03 6.12766025e-05 1.72057133e-01 2.06184583e-04\n",
      " 2.38082269e-03 6.44127451e-03 4.23179264e-02 4.14155533e-04\n",
      " 3.56659281e-02 9.59576850e-04 1.64060237e-02 1.32618593e-07\n",
      " 3.47435401e-03 1.07329738e-03 1.45858056e-02 1.90516821e-03\n",
      " 2.49243534e-05 1.69171772e-03 1.05195486e-01 3.10081129e-01\n",
      " 2.76816352e-03 1.48425480e-08 6.42775746e-03 1.30569581e-01\n",
      " 1.77417749e-03 2.97564406e-04 1.89912327e-02 9.46390535e-03\n",
      " 1.17356213e-03 2.23721765e-01 5.85117720e-03 1.34005723e-04\n",
      " 5.72862101e-03 3.37052426e-05 3.80652960e-01 1.26568885e-01\n",
      " 7.74691101e-04 1.56378606e-06 2.12057408e-05 4.00128084e-06\n",
      " 1.21937712e-01 6.46301069e-04 9.56654911e-03 1.64857697e-05\n",
      " 2.48550148e-02 1.46391923e-04 9.44562663e-03 3.57492161e-09\n",
      " 3.72755766e-07 1.31040438e-04 2.04767000e-04 1.59970260e-03\n",
      " 2.94958588e-04 5.43169118e-05 5.29182493e-05 1.02156184e-04\n",
      " 2.76330314e-03 1.37650401e-03 1.35296624e-01 8.88269844e-03\n",
      " 5.55914135e-03 1.62039248e-02 5.60420893e-03 2.17488859e-04\n",
      " 4.92422267e-02 1.75329097e-03 4.76199173e-05 1.90712465e-04\n",
      " 2.04421124e-03 4.25393186e-07 6.54698354e-05 7.70895516e-05\n",
      " 2.95597301e-04 6.94298698e-03 2.27806147e-03 3.08734980e-04\n",
      " 1.79658639e-03 1.94148904e-05 3.43551192e-04 1.76677198e-02\n",
      " 2.31114134e-07 1.29589987e-02 2.16756437e-03 5.82404733e-09\n",
      " 2.80341802e-04 2.30544364e-05 3.93881879e-01 1.20693901e-08\n",
      " 1.16044915e-03 7.96866843e-07 5.37988344e-05 3.88883926e-03\n",
      " 6.98157218e-03 5.78775960e-05 1.33340285e-01 3.19911822e-04\n",
      " 1.08904796e-02 1.37045749e-02 2.65140673e-07 5.70465310e-07\n",
      " 1.03625647e-01 2.90127215e-04 1.70309490e-03 1.22807268e-06\n",
      " 1.87759336e-06 1.54100793e-02 1.15887952e-02 5.03886667e-02\n",
      " 5.15797901e-10 5.03909965e-03 3.66012008e-05 5.51488267e-03\n",
      " 1.25460788e-01 1.73972856e-08 3.15633245e-02 3.17146169e-04\n",
      " 1.20366948e-03 7.51223833e-07 1.73174680e-05 1.36381370e-07\n",
      " 6.51389629e-05 1.38994353e-02 9.06592135e-04 3.34272945e-03\n",
      " 7.09745563e-09 3.10653337e-03 2.18219779e-04 2.74001281e-11\n",
      " 2.21774119e-03 4.73404927e-05 2.10057583e-05 6.45681676e-03\n",
      " 1.12954957e-03 1.57637614e-06 1.07511814e-04 1.00568611e-05\n",
      " 4.25680612e-03 5.53455227e-03 1.13530907e-02 3.59575106e-03\n",
      " 1.58684859e-05 1.42209446e-02 4.96421419e-04 9.96302987e-05\n",
      " 7.82447116e-05 3.94715032e-09 1.96238140e-03 1.99252375e-02\n",
      " 1.55376774e-04 6.14460361e-08 5.30235229e-03 3.38026993e-06\n",
      " 1.79708393e-06 1.53070555e-05 5.96401902e-04 3.39187740e-04\n",
      " 2.22156036e-05 2.46919072e-05 4.70252261e-01 1.91708840e-07\n",
      " 1.65128243e-03 3.69369916e-05 2.49864923e-03 3.62908960e-03\n",
      " 2.78211234e-05 1.23885988e-05 9.64841741e-04 4.17430953e-04\n",
      " 2.00439793e-07 9.70892632e-03 2.58028931e-03 1.86927856e-02\n",
      " 6.10855295e-06 5.13165807e-02 5.60015695e-02 2.45435901e-04\n",
      " 2.28764813e-08 2.05905428e-01 2.23429398e-04 2.06773956e-07\n",
      " 4.91619080e-07 3.15325756e-07 1.73381212e-10 1.20710339e-05\n",
      " 7.79185846e-05 1.62527124e-03 2.77435548e-05 4.68043956e-04\n",
      " 5.17369759e-03 4.51616406e-05 1.98194844e-01 3.05519236e-07\n",
      " 5.27956905e-05 3.72173631e-04 1.78155515e-07 2.26978977e-04\n",
      " 1.64010330e-04 1.24445515e-02 4.09631269e-01 4.21804173e-05\n",
      " 6.58156316e-07 1.68451402e-02 8.22370791e-05 8.57899497e-02\n",
      " 3.82808137e-02 1.44960517e-07 5.72002052e-03 1.67127472e-02\n",
      " 7.40949543e-08 2.71480566e-06 1.43572718e-05 1.33506935e-04\n",
      " 4.25635840e-07 4.61847838e-02 2.83465057e-05 1.74795992e-02\n",
      " 3.49955741e-03 9.80364737e-03 8.11940932e-05 7.65647448e-06\n",
      " 4.46351898e-07 4.48358636e-06 1.45971072e-01 2.08006410e-01\n",
      " 1.49665306e-01 2.53814509e-02 1.22342609e-04 3.68740625e-06\n",
      " 3.00144989e-03 8.22716856e-04 4.85911663e-02 1.73904340e-06\n",
      " 2.08415133e-07 2.94430341e-05 5.92467784e-07 4.40792618e-05\n",
      " 2.97155796e-06 1.43038004e-06 4.50834620e-02 8.10744017e-04\n",
      " 8.04213556e-05 1.62162062e-02 1.24936739e-03 8.29543978e-04\n",
      " 7.96044280e-04 3.43854799e-04 1.19879393e-08 3.23264310e-03\n",
      " 6.69841523e-03 6.50421468e-06 3.33338574e-04 3.06079863e-05\n",
      " 2.66579106e-07 1.60933663e-01 1.55581627e-05 4.45274153e-06\n",
      " 1.29543482e-06 1.76880041e-04 6.45806481e-04 3.00054459e-02\n",
      " 2.95058708e-05 1.90598158e-07 1.16860478e-02 2.45359368e-04\n",
      " 4.24427266e-04 6.47920191e-07 2.16037055e-07 9.44112757e-02\n",
      " 5.44353293e-04 3.74610787e-05 2.57578483e-06 2.29655781e-02\n",
      " 7.32627678e-03 4.99560444e-08 1.94881065e-04 2.32243821e-10\n",
      " 2.42647036e-03 4.18290247e-02 1.24921396e-05 6.05154720e-02\n",
      " 1.35587682e-06 1.02864811e-02 7.83191417e-03 1.45830811e-04\n",
      " 8.14110877e-03 8.32511292e-05 3.30287535e-04 4.53196881e-05\n",
      " 6.72310514e-06 2.67072392e-02 1.09340574e-01 5.46961356e-08\n",
      " 1.23890058e-03 3.71594969e-03 4.20023242e-06 4.75792698e-09\n",
      " 8.24199492e-07 4.52155092e-04 2.19885720e-04 3.71574095e-02\n",
      " 1.79907131e-02 2.62549418e-02 1.42529414e-01 6.67358178e-02\n",
      " 4.84445623e-03 1.15663059e-06 2.86859765e-03 1.39346127e-02\n",
      " 8.09335303e-06 6.17499364e-03 1.57511133e-01 2.67817563e-03\n",
      " 4.57185598e-04 1.34939023e-03 1.77743402e-02 1.24751071e-02\n",
      " 3.90012121e-03 2.80308156e-04 4.58451942e-05 4.41729482e-02\n",
      " 5.05279212e-06 6.15723775e-04 3.51029022e-05 1.12495668e-01\n",
      " 1.18376402e-01 1.05853793e-01 5.26150609e-05 1.26079047e-04\n",
      " 3.58587975e-05 2.61013830e-03 1.00600331e-04 6.33441285e-05\n",
      " 5.11711637e-01 1.07462492e-05 6.87936551e-03 1.49492671e-04\n",
      " 2.19008411e-09 4.65381499e-04 1.75359139e-01 2.24502535e-02\n",
      " 4.40428691e-03 7.87712118e-03 7.11496618e-02 1.14308426e-05\n",
      " 1.50126901e-04 1.86617941e-02 2.72984107e-01 1.29721101e-01\n",
      " 1.07068542e-02 1.01608125e-03 3.06613673e-03 3.37180027e-04\n",
      " 6.92660765e-04 1.48485262e-02 8.25002593e-09 2.90598725e-04\n",
      " 1.03441006e-01 8.01195923e-06 2.30703040e-04 3.13275018e-03\n",
      " 5.06871492e-03 1.78349560e-02 6.23524388e-04 2.38881699e-03\n",
      " 8.77993499e-05 2.02582779e-04 5.08284105e-04 1.38061731e-09\n",
      " 6.19354337e-05 1.24836405e-08 1.37041591e-07 9.06061430e-06\n",
      " 1.94376573e-07 8.71378922e-03 1.54749610e-09 2.84133667e-03\n",
      " 5.24906412e-05 1.21128805e-01 1.81533574e-10 1.13999928e-09\n",
      " 4.28820817e-04 4.02338163e-02 5.39563973e-08 3.48736972e-03\n",
      " 4.11984389e-04 2.74127272e-06 5.77164550e-04 2.73268290e-05\n",
      " 7.64296146e-06 4.41418428e-05 2.06457487e-01 1.04810653e-03\n",
      " 1.14604580e-03 3.41667204e-07 1.53524409e-04 6.17794826e-03\n",
      " 7.15885587e-02 8.88489838e-06 1.13577720e-02 1.02630892e-04\n",
      " 5.34123678e-06 1.38562679e-04 5.20186009e-04 1.09267722e-01\n",
      " 1.61365497e-05 1.70228553e-02 1.07560146e-02 4.14628232e-03\n",
      " 1.06491422e-02 1.62261581e-01 4.88666766e-04 1.40659105e-04\n",
      " 3.29694166e-02 6.53324489e-06 1.95277243e-03 2.45822760e-04\n",
      " 1.37126879e-08 5.25682118e-05 4.05408718e-05 1.36039273e-07\n",
      " 5.97670372e-02 5.65230778e-05 6.00282179e-03 7.43637307e-08\n",
      " 2.52688023e-03 1.39436797e-03 1.58842405e-07 1.62000618e-03\n",
      " 4.27001739e-04 1.26625670e-06 1.40156497e-06 6.17681639e-06\n",
      " 6.13130544e-05 8.23293961e-05 1.03976448e-07 4.63427335e-04\n",
      " 4.83827124e-02 6.09973141e-03 2.21494524e-04 8.43869560e-04\n",
      " 6.21063571e-04 9.79437778e-04 4.76278575e-02 8.06184895e-06\n",
      " 2.42681040e-04 8.30211239e-06 8.55177245e-04 7.82078355e-05\n",
      " 3.99920402e-02 1.21524258e-04 1.16014771e-02 1.71973044e-05\n",
      " 3.37472919e-07 7.55851648e-03 2.26619331e-04 2.99267145e-06\n",
      " 2.06215320e-04 4.76648224e-05 1.20203960e-04 6.45448435e-03\n",
      " 2.31133830e-05 1.03115427e-01 1.45978872e-03 1.03524400e-03\n",
      " 2.53642752e-06 2.20820776e-03 1.31673946e-07 8.30151165e-03\n",
      " 3.18972253e-02 6.18825187e-04 3.13535703e-09 1.20491616e-06\n",
      " 3.69441493e-07 2.37585532e-05 3.48325411e-03 2.43478243e-03\n",
      " 2.13862987e-09 4.05978129e-04 1.42738056e-02 3.40685369e-03\n",
      " 1.45114770e-04 1.65174890e-07 3.57786590e-06 6.12848851e-02\n",
      " 4.35787026e-06 3.90112833e-05 4.54591854e-03 3.09192377e-08\n",
      " 1.84231132e-01 1.99252187e-01 3.17458229e-03 1.49465409e-04\n",
      " 1.53590039e-05 7.19631039e-06 4.43575561e-03 2.88224497e-02\n",
      " 8.64299969e-06 3.89783057e-04 1.81064701e-02 1.30795205e-02]\n"
     ]
    }
   ],
   "source": [
    "kernel_width = 0.25\n",
    "weights = np.sqrt(np.exp(-(distances**2)/kernel_width**2)) #Kernel function\n",
    "print(weights)"
   ]
  },
  {
   "cell_type": "code",
   "execution_count": 45,
   "id": "8976664d",
   "metadata": {},
   "outputs": [
    {
     "data": {
      "text/plain": [
       "(500,)"
      ]
     },
     "execution_count": 45,
     "metadata": {},
     "output_type": "execute_result"
    }
   ],
   "source": [
    "weights.shape"
   ]
  },
  {
   "cell_type": "markdown",
   "id": "429f6024",
   "metadata": {},
   "source": [
    "# train lime model"
   ]
  },
  {
   "cell_type": "code",
   "execution_count": 46,
   "id": "ed8fcd44",
   "metadata": {},
   "outputs": [],
   "source": [
    "from sklearn.linear_model import LinearRegression"
   ]
  },
  {
   "cell_type": "code",
   "execution_count": 47,
   "id": "7dd81a53",
   "metadata": {},
   "outputs": [
    {
     "data": {
      "text/html": [
       "<style>#sk-container-id-1 {color: black;background-color: white;}#sk-container-id-1 pre{padding: 0;}#sk-container-id-1 div.sk-toggleable {background-color: white;}#sk-container-id-1 label.sk-toggleable__label {cursor: pointer;display: block;width: 100%;margin-bottom: 0;padding: 0.3em;box-sizing: border-box;text-align: center;}#sk-container-id-1 label.sk-toggleable__label-arrow:before {content: \"▸\";float: left;margin-right: 0.25em;color: #696969;}#sk-container-id-1 label.sk-toggleable__label-arrow:hover:before {color: black;}#sk-container-id-1 div.sk-estimator:hover label.sk-toggleable__label-arrow:before {color: black;}#sk-container-id-1 div.sk-toggleable__content {max-height: 0;max-width: 0;overflow: hidden;text-align: left;background-color: #f0f8ff;}#sk-container-id-1 div.sk-toggleable__content pre {margin: 0.2em;color: black;border-radius: 0.25em;background-color: #f0f8ff;}#sk-container-id-1 input.sk-toggleable__control:checked~div.sk-toggleable__content {max-height: 200px;max-width: 100%;overflow: auto;}#sk-container-id-1 input.sk-toggleable__control:checked~label.sk-toggleable__label-arrow:before {content: \"▾\";}#sk-container-id-1 div.sk-estimator input.sk-toggleable__control:checked~label.sk-toggleable__label {background-color: #d4ebff;}#sk-container-id-1 div.sk-label input.sk-toggleable__control:checked~label.sk-toggleable__label {background-color: #d4ebff;}#sk-container-id-1 input.sk-hidden--visually {border: 0;clip: rect(1px 1px 1px 1px);clip: rect(1px, 1px, 1px, 1px);height: 1px;margin: -1px;overflow: hidden;padding: 0;position: absolute;width: 1px;}#sk-container-id-1 div.sk-estimator {font-family: monospace;background-color: #f0f8ff;border: 1px dotted black;border-radius: 0.25em;box-sizing: border-box;margin-bottom: 0.5em;}#sk-container-id-1 div.sk-estimator:hover {background-color: #d4ebff;}#sk-container-id-1 div.sk-parallel-item::after {content: \"\";width: 100%;border-bottom: 1px solid gray;flex-grow: 1;}#sk-container-id-1 div.sk-label:hover label.sk-toggleable__label {background-color: #d4ebff;}#sk-container-id-1 div.sk-serial::before {content: \"\";position: absolute;border-left: 1px solid gray;box-sizing: border-box;top: 0;bottom: 0;left: 50%;z-index: 0;}#sk-container-id-1 div.sk-serial {display: flex;flex-direction: column;align-items: center;background-color: white;padding-right: 0.2em;padding-left: 0.2em;position: relative;}#sk-container-id-1 div.sk-item {position: relative;z-index: 1;}#sk-container-id-1 div.sk-parallel {display: flex;align-items: stretch;justify-content: center;background-color: white;position: relative;}#sk-container-id-1 div.sk-item::before, #sk-container-id-1 div.sk-parallel-item::before {content: \"\";position: absolute;border-left: 1px solid gray;box-sizing: border-box;top: 0;bottom: 0;left: 50%;z-index: -1;}#sk-container-id-1 div.sk-parallel-item {display: flex;flex-direction: column;z-index: 1;position: relative;background-color: white;}#sk-container-id-1 div.sk-parallel-item:first-child::after {align-self: flex-end;width: 50%;}#sk-container-id-1 div.sk-parallel-item:last-child::after {align-self: flex-start;width: 50%;}#sk-container-id-1 div.sk-parallel-item:only-child::after {width: 0;}#sk-container-id-1 div.sk-dashed-wrapped {border: 1px dashed gray;margin: 0 0.4em 0.5em 0.4em;box-sizing: border-box;padding-bottom: 0.4em;background-color: white;}#sk-container-id-1 div.sk-label label {font-family: monospace;font-weight: bold;display: inline-block;line-height: 1.2em;}#sk-container-id-1 div.sk-label-container {text-align: center;}#sk-container-id-1 div.sk-container {/* jupyter's `normalize.less` sets `[hidden] { display: none; }` but bootstrap.min.css set `[hidden] { display: none !important; }` so we also need the `!important` here to be able to override the default hidden behavior on the sphinx rendered scikit-learn.org. See: https://github.com/scikit-learn/scikit-learn/issues/21755 */display: inline-block !important;position: relative;}#sk-container-id-1 div.sk-text-repr-fallback {display: none;}</style><div id=\"sk-container-id-1\" class=\"sk-top-container\"><div class=\"sk-text-repr-fallback\"><pre>LinearRegression()</pre><b>In a Jupyter environment, please rerun this cell to show the HTML representation or trust the notebook. <br />On GitHub, the HTML representation is unable to render, please try loading this page with nbviewer.org.</b></div><div class=\"sk-container\" hidden><div class=\"sk-item\"><div class=\"sk-estimator sk-toggleable\"><input class=\"sk-toggleable__control sk-hidden--visually\" id=\"sk-estimator-id-1\" type=\"checkbox\" checked><label for=\"sk-estimator-id-1\" class=\"sk-toggleable__label sk-toggleable__label-arrow\">LinearRegression</label><div class=\"sk-toggleable__content\"><pre>LinearRegression()</pre></div></div></div></div></div>"
      ],
      "text/plain": [
       "LinearRegression()"
      ]
     },
     "execution_count": 47,
     "metadata": {},
     "output_type": "execute_result"
    }
   ],
   "source": [
    "simpler_model = LinearRegression()\n",
    "simpler_model.fit(X=result, y=linear_svr_y_predict2, sample_weight=weights)"
   ]
  },
  {
   "cell_type": "code",
   "execution_count": 48,
   "id": "7b9f11af",
   "metadata": {},
   "outputs": [
    {
     "data": {
      "text/plain": [
       "array([-1.07128885,  0.68816245,  0.0127086 , -1.21943721,  3.10034098,\n",
       "       -1.00807006, -2.53183207,  1.51423997, -1.74181608, -1.72860714,\n",
       "        1.07774621, -2.04799263,  1.86498494])"
      ]
     },
     "execution_count": 48,
     "metadata": {},
     "output_type": "execute_result"
    }
   ],
   "source": [
    "simpler_model.coef_"
   ]
  },
  {
   "cell_type": "code",
   "execution_count": 49,
   "id": "d6807c69",
   "metadata": {},
   "outputs": [],
   "source": [
    "simpler_model.coef_2=abs(simpler_model.coef_)"
   ]
  },
  {
   "cell_type": "code",
   "execution_count": 50,
   "id": "1c6a896f",
   "metadata": {},
   "outputs": [],
   "source": [
    "feature_nameintxt=['CRIM','ZN','INDUS','NOX','RM','AGE','DIS','RAD','TAX','PTRATIO','B','LSTAT','CHAS']\n",
    "featurecoef=zip(feature_nameintxt,simpler_model.coef_2)\n",
    "featurecoef1=dict(featurecoef)"
   ]
  },
  {
   "cell_type": "code",
   "execution_count": 51,
   "id": "cf76681a",
   "metadata": {},
   "outputs": [
    {
     "name": "stdout",
     "output_type": "stream",
     "text": [
      "['AGE', 'B', 'CHAS', 'CRIM', 'DIS', 'INDUS', 'LSTAT', 'NOX', 'PTRATIO', 'RAD', 'RM', 'TAX', 'ZN']\n"
     ]
    }
   ],
   "source": [
    "print(sorted(featurecoef1.keys()))"
   ]
  },
  {
   "cell_type": "code",
   "execution_count": 52,
   "id": "2a089700",
   "metadata": {},
   "outputs": [
    {
     "data": {
      "text/plain": [
       "[('INDUS', 0.012708603499658409),\n",
       " ('ZN', 0.6881624519521549),\n",
       " ('AGE', 1.0080700556325242),\n",
       " ('CRIM', 1.0712888507486313),\n",
       " ('B', 1.077746212061831),\n",
       " ('NOX', 1.21943720832222),\n",
       " ('RAD', 1.5142399705577747),\n",
       " ('PTRATIO', 1.7286071369174396),\n",
       " ('TAX', 1.7418160811568557),\n",
       " ('CHAS', 1.8649849425824423),\n",
       " ('LSTAT', 2.0479926267282975),\n",
       " ('DIS', 2.5318320746043104),\n",
       " ('RM', 3.100340979316506)]"
      ]
     },
     "execution_count": 52,
     "metadata": {},
     "output_type": "execute_result"
    }
   ],
   "source": [
    "sorted(featurecoef1.items(),key=lambda kv:(kv[1], kv[0]))"
   ]
  },
  {
   "cell_type": "markdown",
   "id": "93fe2607",
   "metadata": {},
   "source": [
    "# Train LimeTree"
   ]
  },
  {
   "cell_type": "code",
   "execution_count": 53,
   "id": "d6894b4e",
   "metadata": {},
   "outputs": [],
   "source": [
    "from sklearn import tree"
   ]
  },
  {
   "cell_type": "code",
   "execution_count": 54,
   "id": "a30d19a2",
   "metadata": {},
   "outputs": [
    {
     "data": {
      "text/html": [
       "<style>#sk-container-id-2 {color: black;background-color: white;}#sk-container-id-2 pre{padding: 0;}#sk-container-id-2 div.sk-toggleable {background-color: white;}#sk-container-id-2 label.sk-toggleable__label {cursor: pointer;display: block;width: 100%;margin-bottom: 0;padding: 0.3em;box-sizing: border-box;text-align: center;}#sk-container-id-2 label.sk-toggleable__label-arrow:before {content: \"▸\";float: left;margin-right: 0.25em;color: #696969;}#sk-container-id-2 label.sk-toggleable__label-arrow:hover:before {color: black;}#sk-container-id-2 div.sk-estimator:hover label.sk-toggleable__label-arrow:before {color: black;}#sk-container-id-2 div.sk-toggleable__content {max-height: 0;max-width: 0;overflow: hidden;text-align: left;background-color: #f0f8ff;}#sk-container-id-2 div.sk-toggleable__content pre {margin: 0.2em;color: black;border-radius: 0.25em;background-color: #f0f8ff;}#sk-container-id-2 input.sk-toggleable__control:checked~div.sk-toggleable__content {max-height: 200px;max-width: 100%;overflow: auto;}#sk-container-id-2 input.sk-toggleable__control:checked~label.sk-toggleable__label-arrow:before {content: \"▾\";}#sk-container-id-2 div.sk-estimator input.sk-toggleable__control:checked~label.sk-toggleable__label {background-color: #d4ebff;}#sk-container-id-2 div.sk-label input.sk-toggleable__control:checked~label.sk-toggleable__label {background-color: #d4ebff;}#sk-container-id-2 input.sk-hidden--visually {border: 0;clip: rect(1px 1px 1px 1px);clip: rect(1px, 1px, 1px, 1px);height: 1px;margin: -1px;overflow: hidden;padding: 0;position: absolute;width: 1px;}#sk-container-id-2 div.sk-estimator {font-family: monospace;background-color: #f0f8ff;border: 1px dotted black;border-radius: 0.25em;box-sizing: border-box;margin-bottom: 0.5em;}#sk-container-id-2 div.sk-estimator:hover {background-color: #d4ebff;}#sk-container-id-2 div.sk-parallel-item::after {content: \"\";width: 100%;border-bottom: 1px solid gray;flex-grow: 1;}#sk-container-id-2 div.sk-label:hover label.sk-toggleable__label {background-color: #d4ebff;}#sk-container-id-2 div.sk-serial::before {content: \"\";position: absolute;border-left: 1px solid gray;box-sizing: border-box;top: 0;bottom: 0;left: 50%;z-index: 0;}#sk-container-id-2 div.sk-serial {display: flex;flex-direction: column;align-items: center;background-color: white;padding-right: 0.2em;padding-left: 0.2em;position: relative;}#sk-container-id-2 div.sk-item {position: relative;z-index: 1;}#sk-container-id-2 div.sk-parallel {display: flex;align-items: stretch;justify-content: center;background-color: white;position: relative;}#sk-container-id-2 div.sk-item::before, #sk-container-id-2 div.sk-parallel-item::before {content: \"\";position: absolute;border-left: 1px solid gray;box-sizing: border-box;top: 0;bottom: 0;left: 50%;z-index: -1;}#sk-container-id-2 div.sk-parallel-item {display: flex;flex-direction: column;z-index: 1;position: relative;background-color: white;}#sk-container-id-2 div.sk-parallel-item:first-child::after {align-self: flex-end;width: 50%;}#sk-container-id-2 div.sk-parallel-item:last-child::after {align-self: flex-start;width: 50%;}#sk-container-id-2 div.sk-parallel-item:only-child::after {width: 0;}#sk-container-id-2 div.sk-dashed-wrapped {border: 1px dashed gray;margin: 0 0.4em 0.5em 0.4em;box-sizing: border-box;padding-bottom: 0.4em;background-color: white;}#sk-container-id-2 div.sk-label label {font-family: monospace;font-weight: bold;display: inline-block;line-height: 1.2em;}#sk-container-id-2 div.sk-label-container {text-align: center;}#sk-container-id-2 div.sk-container {/* jupyter's `normalize.less` sets `[hidden] { display: none; }` but bootstrap.min.css set `[hidden] { display: none !important; }` so we also need the `!important` here to be able to override the default hidden behavior on the sphinx rendered scikit-learn.org. See: https://github.com/scikit-learn/scikit-learn/issues/21755 */display: inline-block !important;position: relative;}#sk-container-id-2 div.sk-text-repr-fallback {display: none;}</style><div id=\"sk-container-id-2\" class=\"sk-top-container\"><div class=\"sk-text-repr-fallback\"><pre>DecisionTreeRegressor(max_depth=5)</pre><b>In a Jupyter environment, please rerun this cell to show the HTML representation or trust the notebook. <br />On GitHub, the HTML representation is unable to render, please try loading this page with nbviewer.org.</b></div><div class=\"sk-container\" hidden><div class=\"sk-item\"><div class=\"sk-estimator sk-toggleable\"><input class=\"sk-toggleable__control sk-hidden--visually\" id=\"sk-estimator-id-2\" type=\"checkbox\" checked><label for=\"sk-estimator-id-2\" class=\"sk-toggleable__label sk-toggleable__label-arrow\">DecisionTreeRegressor</label><div class=\"sk-toggleable__content\"><pre>DecisionTreeRegressor(max_depth=5)</pre></div></div></div></div></div>"
      ],
      "text/plain": [
       "DecisionTreeRegressor(max_depth=5)"
      ]
     },
     "execution_count": 54,
     "metadata": {},
     "output_type": "execute_result"
    }
   ],
   "source": [
    "treemodel=tree.DecisionTreeRegressor(max_depth=5)\n",
    "treemodel.fit(result,linear_svr_y_predict2,sample_weight=weights)"
   ]
  },
  {
   "cell_type": "code",
   "execution_count": 55,
   "id": "255513be",
   "metadata": {},
   "outputs": [],
   "source": [
    "importances = treemodel.feature_importances_"
   ]
  },
  {
   "cell_type": "code",
   "execution_count": 56,
   "id": "9a199df4",
   "metadata": {},
   "outputs": [
    {
     "data": {
      "text/plain": [
       "array([8.30501791e-02, 0.00000000e+00, 0.00000000e+00, 3.10370565e-02,\n",
       "       4.47673887e-01, 0.00000000e+00, 1.32171131e-01, 2.87053001e-02,\n",
       "       3.85915287e-03, 2.22240236e-01, 2.83934209e-05, 5.12346640e-02,\n",
       "       0.00000000e+00])"
      ]
     },
     "execution_count": 56,
     "metadata": {},
     "output_type": "execute_result"
    }
   ],
   "source": [
    "importances"
   ]
  },
  {
   "cell_type": "code",
   "execution_count": 57,
   "id": "4aa264ba",
   "metadata": {},
   "outputs": [],
   "source": [
    "feature_nameintxt1=['CRIM','ZN','INDUS','NOX','RM','AGE','DIS','RAD','TAX','PTRATIO','B','LSTAT','CHAS']\n",
    "featureimportances=zip(feature_nameintxt1,importances)\n",
    "featureimportances1=dict(featureimportances)"
   ]
  },
  {
   "cell_type": "code",
   "execution_count": 58,
   "id": "017bf704",
   "metadata": {},
   "outputs": [
    {
     "name": "stdout",
     "output_type": "stream",
     "text": [
      "['AGE', 'B', 'CHAS', 'CRIM', 'DIS', 'INDUS', 'LSTAT', 'NOX', 'PTRATIO', 'RAD', 'RM', 'TAX', 'ZN']\n"
     ]
    }
   ],
   "source": [
    "print(sorted(featureimportances1.keys()))"
   ]
  },
  {
   "cell_type": "code",
   "execution_count": 59,
   "id": "af078b8c",
   "metadata": {},
   "outputs": [
    {
     "data": {
      "text/plain": [
       "[('AGE', 0.0),\n",
       " ('CHAS', 0.0),\n",
       " ('INDUS', 0.0),\n",
       " ('ZN', 0.0),\n",
       " ('B', 2.8393420897472092e-05),\n",
       " ('TAX', 0.003859152872897949),\n",
       " ('RAD', 0.028705300119807844),\n",
       " ('NOX', 0.031037056542537557),\n",
       " ('LSTAT', 0.051234663982160054),\n",
       " ('CRIM', 0.08305017914265997),\n",
       " ('DIS', 0.13217113093652216),\n",
       " ('PTRATIO', 0.22224023596176495),\n",
       " ('RM', 0.44767388702075217)]"
      ]
     },
     "execution_count": 59,
     "metadata": {},
     "output_type": "execute_result"
    }
   ],
   "source": [
    "sorted(featureimportances1.items(),key=lambda kv:(kv[1], kv[0]))"
   ]
  },
  {
   "cell_type": "markdown",
   "id": "beb9c9fc",
   "metadata": {},
   "source": [
    "# Train LimeRandomforest"
   ]
  },
  {
   "cell_type": "code",
   "execution_count": 60,
   "id": "5900c5c4",
   "metadata": {},
   "outputs": [],
   "source": [
    "from sklearn.ensemble import RandomForestRegressor"
   ]
  },
  {
   "cell_type": "code",
   "execution_count": 61,
   "id": "b7f2b908",
   "metadata": {},
   "outputs": [
    {
     "data": {
      "text/html": [
       "<style>#sk-container-id-3 {color: black;background-color: white;}#sk-container-id-3 pre{padding: 0;}#sk-container-id-3 div.sk-toggleable {background-color: white;}#sk-container-id-3 label.sk-toggleable__label {cursor: pointer;display: block;width: 100%;margin-bottom: 0;padding: 0.3em;box-sizing: border-box;text-align: center;}#sk-container-id-3 label.sk-toggleable__label-arrow:before {content: \"▸\";float: left;margin-right: 0.25em;color: #696969;}#sk-container-id-3 label.sk-toggleable__label-arrow:hover:before {color: black;}#sk-container-id-3 div.sk-estimator:hover label.sk-toggleable__label-arrow:before {color: black;}#sk-container-id-3 div.sk-toggleable__content {max-height: 0;max-width: 0;overflow: hidden;text-align: left;background-color: #f0f8ff;}#sk-container-id-3 div.sk-toggleable__content pre {margin: 0.2em;color: black;border-radius: 0.25em;background-color: #f0f8ff;}#sk-container-id-3 input.sk-toggleable__control:checked~div.sk-toggleable__content {max-height: 200px;max-width: 100%;overflow: auto;}#sk-container-id-3 input.sk-toggleable__control:checked~label.sk-toggleable__label-arrow:before {content: \"▾\";}#sk-container-id-3 div.sk-estimator input.sk-toggleable__control:checked~label.sk-toggleable__label {background-color: #d4ebff;}#sk-container-id-3 div.sk-label input.sk-toggleable__control:checked~label.sk-toggleable__label {background-color: #d4ebff;}#sk-container-id-3 input.sk-hidden--visually {border: 0;clip: rect(1px 1px 1px 1px);clip: rect(1px, 1px, 1px, 1px);height: 1px;margin: -1px;overflow: hidden;padding: 0;position: absolute;width: 1px;}#sk-container-id-3 div.sk-estimator {font-family: monospace;background-color: #f0f8ff;border: 1px dotted black;border-radius: 0.25em;box-sizing: border-box;margin-bottom: 0.5em;}#sk-container-id-3 div.sk-estimator:hover {background-color: #d4ebff;}#sk-container-id-3 div.sk-parallel-item::after {content: \"\";width: 100%;border-bottom: 1px solid gray;flex-grow: 1;}#sk-container-id-3 div.sk-label:hover label.sk-toggleable__label {background-color: #d4ebff;}#sk-container-id-3 div.sk-serial::before {content: \"\";position: absolute;border-left: 1px solid gray;box-sizing: border-box;top: 0;bottom: 0;left: 50%;z-index: 0;}#sk-container-id-3 div.sk-serial {display: flex;flex-direction: column;align-items: center;background-color: white;padding-right: 0.2em;padding-left: 0.2em;position: relative;}#sk-container-id-3 div.sk-item {position: relative;z-index: 1;}#sk-container-id-3 div.sk-parallel {display: flex;align-items: stretch;justify-content: center;background-color: white;position: relative;}#sk-container-id-3 div.sk-item::before, #sk-container-id-3 div.sk-parallel-item::before {content: \"\";position: absolute;border-left: 1px solid gray;box-sizing: border-box;top: 0;bottom: 0;left: 50%;z-index: -1;}#sk-container-id-3 div.sk-parallel-item {display: flex;flex-direction: column;z-index: 1;position: relative;background-color: white;}#sk-container-id-3 div.sk-parallel-item:first-child::after {align-self: flex-end;width: 50%;}#sk-container-id-3 div.sk-parallel-item:last-child::after {align-self: flex-start;width: 50%;}#sk-container-id-3 div.sk-parallel-item:only-child::after {width: 0;}#sk-container-id-3 div.sk-dashed-wrapped {border: 1px dashed gray;margin: 0 0.4em 0.5em 0.4em;box-sizing: border-box;padding-bottom: 0.4em;background-color: white;}#sk-container-id-3 div.sk-label label {font-family: monospace;font-weight: bold;display: inline-block;line-height: 1.2em;}#sk-container-id-3 div.sk-label-container {text-align: center;}#sk-container-id-3 div.sk-container {/* jupyter's `normalize.less` sets `[hidden] { display: none; }` but bootstrap.min.css set `[hidden] { display: none !important; }` so we also need the `!important` here to be able to override the default hidden behavior on the sphinx rendered scikit-learn.org. See: https://github.com/scikit-learn/scikit-learn/issues/21755 */display: inline-block !important;position: relative;}#sk-container-id-3 div.sk-text-repr-fallback {display: none;}</style><div id=\"sk-container-id-3\" class=\"sk-top-container\"><div class=\"sk-text-repr-fallback\"><pre>RandomForestRegressor(max_depth=5)</pre><b>In a Jupyter environment, please rerun this cell to show the HTML representation or trust the notebook. <br />On GitHub, the HTML representation is unable to render, please try loading this page with nbviewer.org.</b></div><div class=\"sk-container\" hidden><div class=\"sk-item\"><div class=\"sk-estimator sk-toggleable\"><input class=\"sk-toggleable__control sk-hidden--visually\" id=\"sk-estimator-id-3\" type=\"checkbox\" checked><label for=\"sk-estimator-id-3\" class=\"sk-toggleable__label sk-toggleable__label-arrow\">RandomForestRegressor</label><div class=\"sk-toggleable__content\"><pre>RandomForestRegressor(max_depth=5)</pre></div></div></div></div></div>"
      ],
      "text/plain": [
       "RandomForestRegressor(max_depth=5)"
      ]
     },
     "execution_count": 61,
     "metadata": {},
     "output_type": "execute_result"
    }
   ],
   "source": [
    "regr_rf=RandomForestRegressor(max_depth=5)\n",
    "regr_rf.fit(X=result, y=linear_svr_y_predict2,sample_weight=weights)"
   ]
  },
  {
   "cell_type": "code",
   "execution_count": 62,
   "id": "065f8c47",
   "metadata": {},
   "outputs": [],
   "source": [
    "importances2 = regr_rf.feature_importances_"
   ]
  },
  {
   "cell_type": "code",
   "execution_count": 63,
   "id": "ff19a965",
   "metadata": {},
   "outputs": [
    {
     "data": {
      "text/plain": [
       "array([2.52274978e-02, 1.03186764e-02, 1.10564776e-02, 5.13847386e-02,\n",
       "       3.98585852e-01, 2.97308053e-02, 1.54375433e-01, 3.85836506e-02,\n",
       "       7.60718999e-02, 1.21159870e-01, 3.29091030e-02, 5.04628626e-02,\n",
       "       1.33132432e-04])"
      ]
     },
     "execution_count": 63,
     "metadata": {},
     "output_type": "execute_result"
    }
   ],
   "source": [
    "importances2 "
   ]
  },
  {
   "cell_type": "code",
   "execution_count": 64,
   "id": "71fe4941",
   "metadata": {},
   "outputs": [],
   "source": [
    "feature_nameintxt2=['CRIM','ZN','INDUS','NOX','RM','AGE','DIS','RAD','TAX','PTRATIO','B','LSTAT','CHAS']\n",
    "featureimportances2=zip(feature_nameintxt2,importances2)\n",
    "featureimportances3=dict(featureimportances2)"
   ]
  },
  {
   "cell_type": "code",
   "execution_count": 65,
   "id": "201c03ab",
   "metadata": {},
   "outputs": [
    {
     "name": "stdout",
     "output_type": "stream",
     "text": [
      "['AGE', 'B', 'CHAS', 'CRIM', 'DIS', 'INDUS', 'LSTAT', 'NOX', 'PTRATIO', 'RAD', 'RM', 'TAX', 'ZN']\n"
     ]
    }
   ],
   "source": [
    "print(sorted(featureimportances3.keys()))"
   ]
  },
  {
   "cell_type": "code",
   "execution_count": 66,
   "id": "36308d1d",
   "metadata": {},
   "outputs": [
    {
     "data": {
      "text/plain": [
       "[('CHAS', 0.00013313243207002288),\n",
       " ('ZN', 0.010318676426180598),\n",
       " ('INDUS', 0.011056477629874991),\n",
       " ('CRIM', 0.025227497769275624),\n",
       " ('AGE', 0.029730805293773716),\n",
       " ('B', 0.03290910297344531),\n",
       " ('RAD', 0.0385836506427234),\n",
       " ('LSTAT', 0.05046286264801062),\n",
       " ('NOX', 0.051384738572850565),\n",
       " ('TAX', 0.07607189988258184),\n",
       " ('PTRATIO', 0.12115987042417449),\n",
       " ('DIS', 0.1543754333064127),\n",
       " ('RM', 0.39858585199862634)]"
      ]
     },
     "execution_count": 66,
     "metadata": {},
     "output_type": "execute_result"
    }
   ],
   "source": [
    "sorted(featureimportances3.items(),key=lambda kv:(kv[1], kv[0]))"
   ]
  },
  {
   "cell_type": "markdown",
   "id": "b4d37dfd",
   "metadata": {},
   "source": [
    "# Train XGB Model"
   ]
  },
  {
   "cell_type": "code",
   "execution_count": 67,
   "id": "44e3d9f5",
   "metadata": {},
   "outputs": [
    {
     "data": {
      "text/html": [
       "<style>#sk-container-id-4 {color: black;background-color: white;}#sk-container-id-4 pre{padding: 0;}#sk-container-id-4 div.sk-toggleable {background-color: white;}#sk-container-id-4 label.sk-toggleable__label {cursor: pointer;display: block;width: 100%;margin-bottom: 0;padding: 0.3em;box-sizing: border-box;text-align: center;}#sk-container-id-4 label.sk-toggleable__label-arrow:before {content: \"▸\";float: left;margin-right: 0.25em;color: #696969;}#sk-container-id-4 label.sk-toggleable__label-arrow:hover:before {color: black;}#sk-container-id-4 div.sk-estimator:hover label.sk-toggleable__label-arrow:before {color: black;}#sk-container-id-4 div.sk-toggleable__content {max-height: 0;max-width: 0;overflow: hidden;text-align: left;background-color: #f0f8ff;}#sk-container-id-4 div.sk-toggleable__content pre {margin: 0.2em;color: black;border-radius: 0.25em;background-color: #f0f8ff;}#sk-container-id-4 input.sk-toggleable__control:checked~div.sk-toggleable__content {max-height: 200px;max-width: 100%;overflow: auto;}#sk-container-id-4 input.sk-toggleable__control:checked~label.sk-toggleable__label-arrow:before {content: \"▾\";}#sk-container-id-4 div.sk-estimator input.sk-toggleable__control:checked~label.sk-toggleable__label {background-color: #d4ebff;}#sk-container-id-4 div.sk-label input.sk-toggleable__control:checked~label.sk-toggleable__label {background-color: #d4ebff;}#sk-container-id-4 input.sk-hidden--visually {border: 0;clip: rect(1px 1px 1px 1px);clip: rect(1px, 1px, 1px, 1px);height: 1px;margin: -1px;overflow: hidden;padding: 0;position: absolute;width: 1px;}#sk-container-id-4 div.sk-estimator {font-family: monospace;background-color: #f0f8ff;border: 1px dotted black;border-radius: 0.25em;box-sizing: border-box;margin-bottom: 0.5em;}#sk-container-id-4 div.sk-estimator:hover {background-color: #d4ebff;}#sk-container-id-4 div.sk-parallel-item::after {content: \"\";width: 100%;border-bottom: 1px solid gray;flex-grow: 1;}#sk-container-id-4 div.sk-label:hover label.sk-toggleable__label {background-color: #d4ebff;}#sk-container-id-4 div.sk-serial::before {content: \"\";position: absolute;border-left: 1px solid gray;box-sizing: border-box;top: 0;bottom: 0;left: 50%;z-index: 0;}#sk-container-id-4 div.sk-serial {display: flex;flex-direction: column;align-items: center;background-color: white;padding-right: 0.2em;padding-left: 0.2em;position: relative;}#sk-container-id-4 div.sk-item {position: relative;z-index: 1;}#sk-container-id-4 div.sk-parallel {display: flex;align-items: stretch;justify-content: center;background-color: white;position: relative;}#sk-container-id-4 div.sk-item::before, #sk-container-id-4 div.sk-parallel-item::before {content: \"\";position: absolute;border-left: 1px solid gray;box-sizing: border-box;top: 0;bottom: 0;left: 50%;z-index: -1;}#sk-container-id-4 div.sk-parallel-item {display: flex;flex-direction: column;z-index: 1;position: relative;background-color: white;}#sk-container-id-4 div.sk-parallel-item:first-child::after {align-self: flex-end;width: 50%;}#sk-container-id-4 div.sk-parallel-item:last-child::after {align-self: flex-start;width: 50%;}#sk-container-id-4 div.sk-parallel-item:only-child::after {width: 0;}#sk-container-id-4 div.sk-dashed-wrapped {border: 1px dashed gray;margin: 0 0.4em 0.5em 0.4em;box-sizing: border-box;padding-bottom: 0.4em;background-color: white;}#sk-container-id-4 div.sk-label label {font-family: monospace;font-weight: bold;display: inline-block;line-height: 1.2em;}#sk-container-id-4 div.sk-label-container {text-align: center;}#sk-container-id-4 div.sk-container {/* jupyter's `normalize.less` sets `[hidden] { display: none; }` but bootstrap.min.css set `[hidden] { display: none !important; }` so we also need the `!important` here to be able to override the default hidden behavior on the sphinx rendered scikit-learn.org. See: https://github.com/scikit-learn/scikit-learn/issues/21755 */display: inline-block !important;position: relative;}#sk-container-id-4 div.sk-text-repr-fallback {display: none;}</style><div id=\"sk-container-id-4\" class=\"sk-top-container\"><div class=\"sk-text-repr-fallback\"><pre>XGBRegressor(base_score=0.5, booster=&#x27;gbtree&#x27;, callbacks=None,\n",
       "             colsample_bylevel=1, colsample_bynode=1, colsample_bytree=1,\n",
       "             early_stopping_rounds=None, enable_categorical=False,\n",
       "             eval_metric=None, gamma=0, gpu_id=-1, grow_policy=&#x27;depthwise&#x27;,\n",
       "             importance_type=None, interaction_constraints=&#x27;&#x27;,\n",
       "             learning_rate=0.300000012, max_bin=256, max_cat_to_onehot=4,\n",
       "             max_delta_step=0, max_depth=6, max_leaves=0, min_child_weight=1,\n",
       "             missing=nan, monotone_constraints=&#x27;()&#x27;, n_estimators=100, n_jobs=0,\n",
       "             num_parallel_tree=1, predictor=&#x27;auto&#x27;, random_state=0, reg_alpha=0,\n",
       "             reg_lambda=1, ...)</pre><b>In a Jupyter environment, please rerun this cell to show the HTML representation or trust the notebook. <br />On GitHub, the HTML representation is unable to render, please try loading this page with nbviewer.org.</b></div><div class=\"sk-container\" hidden><div class=\"sk-item\"><div class=\"sk-estimator sk-toggleable\"><input class=\"sk-toggleable__control sk-hidden--visually\" id=\"sk-estimator-id-4\" type=\"checkbox\" checked><label for=\"sk-estimator-id-4\" class=\"sk-toggleable__label sk-toggleable__label-arrow\">XGBRegressor</label><div class=\"sk-toggleable__content\"><pre>XGBRegressor(base_score=0.5, booster=&#x27;gbtree&#x27;, callbacks=None,\n",
       "             colsample_bylevel=1, colsample_bynode=1, colsample_bytree=1,\n",
       "             early_stopping_rounds=None, enable_categorical=False,\n",
       "             eval_metric=None, gamma=0, gpu_id=-1, grow_policy=&#x27;depthwise&#x27;,\n",
       "             importance_type=None, interaction_constraints=&#x27;&#x27;,\n",
       "             learning_rate=0.300000012, max_bin=256, max_cat_to_onehot=4,\n",
       "             max_delta_step=0, max_depth=6, max_leaves=0, min_child_weight=1,\n",
       "             missing=nan, monotone_constraints=&#x27;()&#x27;, n_estimators=100, n_jobs=0,\n",
       "             num_parallel_tree=1, predictor=&#x27;auto&#x27;, random_state=0, reg_alpha=0,\n",
       "             reg_lambda=1, ...)</pre></div></div></div></div></div>"
      ],
      "text/plain": [
       "XGBRegressor(base_score=0.5, booster='gbtree', callbacks=None,\n",
       "             colsample_bylevel=1, colsample_bynode=1, colsample_bytree=1,\n",
       "             early_stopping_rounds=None, enable_categorical=False,\n",
       "             eval_metric=None, gamma=0, gpu_id=-1, grow_policy='depthwise',\n",
       "             importance_type=None, interaction_constraints='',\n",
       "             learning_rate=0.300000012, max_bin=256, max_cat_to_onehot=4,\n",
       "             max_delta_step=0, max_depth=6, max_leaves=0, min_child_weight=1,\n",
       "             missing=nan, monotone_constraints='()', n_estimators=100, n_jobs=0,\n",
       "             num_parallel_tree=1, predictor='auto', random_state=0, reg_alpha=0,\n",
       "             reg_lambda=1, ...)"
      ]
     },
     "execution_count": 67,
     "metadata": {},
     "output_type": "execute_result"
    }
   ],
   "source": [
    "import xgboost as xgb\n",
    "\n",
    "xgbrModel=xgb.XGBRegressor()\n",
    "xgbrModel.fit(result,linear_svr_y_predict2,sample_weight=weights)"
   ]
  },
  {
   "cell_type": "code",
   "execution_count": 68,
   "id": "eabb77cc",
   "metadata": {},
   "outputs": [
    {
     "data": {
      "text/plain": [
       "array([0.04074613, 0.01133534, 0.01239175, 0.023091  , 0.24878776,\n",
       "       0.06806074, 0.06365434, 0.04401468, 0.12448002, 0.20544131,\n",
       "       0.07195423, 0.08604266, 0.        ], dtype=float32)"
      ]
     },
     "execution_count": 68,
     "metadata": {},
     "output_type": "execute_result"
    }
   ],
   "source": [
    "importances3=xgbrModel.feature_importances_\n",
    "importances3"
   ]
  },
  {
   "cell_type": "code",
   "execution_count": 69,
   "id": "48b917fd",
   "metadata": {},
   "outputs": [],
   "source": [
    "feature_nameintxt3=['CRIM','ZN','INDUS','NOX','RM','AGE','DIS','RAD','TAX','PTRATIO','B','LSTAT','CHAS']\n",
    "featureimportances3=zip(feature_nameintxt3,importances3)\n",
    "featureimportances4=dict(featureimportances3)"
   ]
  },
  {
   "cell_type": "code",
   "execution_count": 70,
   "id": "87b87012",
   "metadata": {},
   "outputs": [
    {
     "name": "stdout",
     "output_type": "stream",
     "text": [
      "['AGE', 'B', 'CHAS', 'CRIM', 'DIS', 'INDUS', 'LSTAT', 'NOX', 'PTRATIO', 'RAD', 'RM', 'TAX', 'ZN']\n"
     ]
    }
   ],
   "source": [
    "print(sorted(featureimportances4.keys()))"
   ]
  },
  {
   "cell_type": "code",
   "execution_count": 71,
   "id": "5225507a",
   "metadata": {},
   "outputs": [
    {
     "data": {
      "text/plain": [
       "[('CHAS', 0.0),\n",
       " ('ZN', 0.01133534),\n",
       " ('INDUS', 0.012391753),\n",
       " ('NOX', 0.023090998),\n",
       " ('CRIM', 0.04074613),\n",
       " ('RAD', 0.044014677),\n",
       " ('DIS', 0.06365434),\n",
       " ('AGE', 0.06806074),\n",
       " ('B', 0.07195423),\n",
       " ('LSTAT', 0.086042665),\n",
       " ('TAX', 0.124480024),\n",
       " ('PTRATIO', 0.20544131),\n",
       " ('RM', 0.24878776)]"
      ]
     },
     "execution_count": 71,
     "metadata": {},
     "output_type": "execute_result"
    }
   ],
   "source": [
    "sorted(featureimportances4.items(),key=lambda kv:(kv[1], kv[0]))"
   ]
  },
  {
   "cell_type": "markdown",
   "id": "81f413c5",
   "metadata": {},
   "source": [
    "# NUM=1000 Lime model"
   ]
  },
  {
   "cell_type": "code",
   "execution_count": 72,
   "id": "560fd3e5",
   "metadata": {},
   "outputs": [],
   "source": [
    "d = {'CRIM' : 109.2714628, 'ZN' : 70.1925701,'INDUS':1.27086035,'NOX':124.3825952,'RM':316.2347799,'DIS':258.2468716,'RAD':154.452477,'TAX':177.6552403,'PTRATIO':176.317928,'B':109.9301136,'LSTAT':208.8952479,'CHAS':190.2284641 }"
   ]
  },
  {
   "cell_type": "code",
   "execution_count": 73,
   "id": "bb263822",
   "metadata": {},
   "outputs": [
    {
     "data": {
      "text/plain": [
       "{'CRIM': 109.2714628,\n",
       " 'ZN': 70.1925701,\n",
       " 'INDUS': 1.27086035,\n",
       " 'NOX': 124.3825952,\n",
       " 'RM': 316.2347799,\n",
       " 'DIS': 258.2468716,\n",
       " 'RAD': 154.452477,\n",
       " 'TAX': 177.6552403,\n",
       " 'PTRATIO': 176.317928,\n",
       " 'B': 109.9301136,\n",
       " 'LSTAT': 208.8952479,\n",
       " 'CHAS': 190.2284641}"
      ]
     },
     "execution_count": 73,
     "metadata": {},
     "output_type": "execute_result"
    }
   ],
   "source": [
    "d"
   ]
  },
  {
   "cell_type": "code",
   "execution_count": 74,
   "id": "80968b76",
   "metadata": {},
   "outputs": [
    {
     "data": {
      "text/plain": [
       "[('INDUS', 1.27086035),\n",
       " ('ZN', 70.1925701),\n",
       " ('CRIM', 109.2714628),\n",
       " ('B', 109.9301136),\n",
       " ('NOX', 124.3825952),\n",
       " ('RAD', 154.452477),\n",
       " ('PTRATIO', 176.317928),\n",
       " ('TAX', 177.6552403),\n",
       " ('CHAS', 190.2284641),\n",
       " ('LSTAT', 208.8952479),\n",
       " ('DIS', 258.2468716),\n",
       " ('RM', 316.2347799)]"
      ]
     },
     "execution_count": 74,
     "metadata": {},
     "output_type": "execute_result"
    }
   ],
   "source": [
    "sorted(d.items(),key=lambda kv:(kv[1], kv[0]))"
   ]
  },
  {
   "cell_type": "markdown",
   "id": "47a79512",
   "metadata": {},
   "source": [
    "# When numpurb=1000 svm model  Choose future=11"
   ]
  },
  {
   "cell_type": "code",
   "execution_count": 75,
   "id": "42f2d539",
   "metadata": {},
   "outputs": [],
   "source": [
    "X5 = df2[['RM','DIS','LSTAT','CHAS','TAX','PTRATIO','RAD','NOX','B','CRIM','ZN']]\n",
    "y5= df2['y']"
   ]
  },
  {
   "cell_type": "code",
   "execution_count": 76,
   "id": "35d9e03e",
   "metadata": {},
   "outputs": [],
   "source": [
    "X5_train, X5_test, y5_train, y5_test = model_selection.train_test_split(X5, y5, test_size = 0.2, random_state = 1234)"
   ]
  },
  {
   "cell_type": "code",
   "execution_count": 77,
   "id": "4a526d5c",
   "metadata": {},
   "outputs": [],
   "source": [
    "linear_svr=SVR(kernel='linear')\n",
    "linear_svr.fit(X5_train,y5_train)\n",
    "linear_svr_y_predict=linear_svr.predict(X5_test)"
   ]
  },
  {
   "cell_type": "code",
   "execution_count": 78,
   "id": "433a0f25",
   "metadata": {},
   "outputs": [
    {
     "name": "stdout",
     "output_type": "stream",
     "text": [
      "0.7706585886598272\n"
     ]
    }
   ],
   "source": [
    "print(linear_svr.score(X5_test,y5_test))"
   ]
  },
  {
   "cell_type": "code",
   "execution_count": 79,
   "id": "f6f0dd68",
   "metadata": {},
   "outputs": [],
   "source": [
    "Adjusted_R2=1 - (1-linear_svr.score(X5_test, y5_test))*(len(y5_test)-1)/(len(y5_test)-X5_test.shape[1]-1)"
   ]
  },
  {
   "cell_type": "code",
   "execution_count": 80,
   "id": "0aee8673",
   "metadata": {},
   "outputs": [
    {
     "data": {
      "text/plain": [
       "0.7426279717182505"
      ]
     },
     "execution_count": 80,
     "metadata": {},
     "output_type": "execute_result"
    }
   ],
   "source": [
    "Adjusted_R2"
   ]
  },
  {
   "cell_type": "markdown",
   "id": "8ee04bd8",
   "metadata": {},
   "source": [
    "# When num=1000 svm model  Choose future=10"
   ]
  },
  {
   "cell_type": "code",
   "execution_count": 81,
   "id": "aa169cd2",
   "metadata": {},
   "outputs": [],
   "source": [
    "X6 = df2[['RM','DIS','LSTAT','CHAS','TAX','PTRATIO','RAD','NOX','B','CRIM']]\n",
    "y6= df2['y']"
   ]
  },
  {
   "cell_type": "code",
   "execution_count": 82,
   "id": "7b222d6e",
   "metadata": {},
   "outputs": [],
   "source": [
    "X6_train, X6_test, y6_train, y6_test = model_selection.train_test_split(X6, y6, test_size = 0.2, random_state = 1234)"
   ]
  },
  {
   "cell_type": "code",
   "execution_count": 83,
   "id": "9360d347",
   "metadata": {},
   "outputs": [],
   "source": [
    "linear_svr=SVR(kernel='linear')\n",
    "linear_svr.fit(X6_train,y6_train)\n",
    "linear_svr_y_predict=linear_svr.predict(X6_test)"
   ]
  },
  {
   "cell_type": "code",
   "execution_count": 84,
   "id": "b3b5befb",
   "metadata": {},
   "outputs": [
    {
     "name": "stdout",
     "output_type": "stream",
     "text": [
      "0.7722886835945162\n"
     ]
    }
   ],
   "source": [
    "print(linear_svr.score(X6_test,y6_test))"
   ]
  },
  {
   "cell_type": "code",
   "execution_count": 85,
   "id": "23a464e3",
   "metadata": {},
   "outputs": [],
   "source": [
    "Adjusted_R2=1 - (1-linear_svr.score(X6_test, y6_test))*(len(y6_test)-1)/(len(y6_test)-X6_test.shape[1]-1)"
   ]
  },
  {
   "cell_type": "code",
   "execution_count": 86,
   "id": "dd7c3d56",
   "metadata": {},
   "outputs": [
    {
     "data": {
      "text/plain": [
       "0.747265462011496"
      ]
     },
     "execution_count": 86,
     "metadata": {},
     "output_type": "execute_result"
    }
   ],
   "source": [
    "Adjusted_R2"
   ]
  },
  {
   "cell_type": "markdown",
   "id": "ae87e63a",
   "metadata": {},
   "source": [
    "# When num=1000 svm model  Choose future=9"
   ]
  },
  {
   "cell_type": "code",
   "execution_count": 87,
   "id": "b093713b",
   "metadata": {},
   "outputs": [],
   "source": [
    "X7 = df2[['RM','DIS','LSTAT','CHAS','TAX','PTRATIO','RAD','NOX','B','CRIM']]\n",
    "y7= df2['y']"
   ]
  },
  {
   "cell_type": "code",
   "execution_count": 88,
   "id": "edf5bf62",
   "metadata": {},
   "outputs": [],
   "source": [
    "X7_train, X7_test, y7_train, y7_test = model_selection.train_test_split(X7, y7, test_size = 0.2, random_state = 1234)"
   ]
  },
  {
   "cell_type": "code",
   "execution_count": 89,
   "id": "ba2aa5e5",
   "metadata": {},
   "outputs": [],
   "source": [
    "linear_svr=SVR(kernel='linear')\n",
    "linear_svr.fit(X7_train,y7_train)\n",
    "linear_svr_y_predict=linear_svr.predict(X7_test)"
   ]
  },
  {
   "cell_type": "code",
   "execution_count": 90,
   "id": "ffce65a4",
   "metadata": {},
   "outputs": [
    {
     "name": "stdout",
     "output_type": "stream",
     "text": [
      "0.7722886835945162\n"
     ]
    }
   ],
   "source": [
    "print(linear_svr.score(X7_test,y7_test))"
   ]
  },
  {
   "cell_type": "code",
   "execution_count": 91,
   "id": "79f5277f",
   "metadata": {},
   "outputs": [],
   "source": [
    "Adjusted_R2=1 - (1-linear_svr.score(X7_test, y7_test))*(len(y7_test)-1)/(len(y7_test)-X7_test.shape[1]-1)"
   ]
  },
  {
   "cell_type": "code",
   "execution_count": 92,
   "id": "690734f6",
   "metadata": {},
   "outputs": [
    {
     "data": {
      "text/plain": [
       "0.747265462011496"
      ]
     },
     "execution_count": 92,
     "metadata": {},
     "output_type": "execute_result"
    }
   ],
   "source": [
    "Adjusted_R2"
   ]
  },
  {
   "cell_type": "markdown",
   "id": "84a7e880",
   "metadata": {},
   "source": [
    "# When num=1000 svm model  Choose future=8"
   ]
  },
  {
   "cell_type": "code",
   "execution_count": 93,
   "id": "ac7a9d1d",
   "metadata": {},
   "outputs": [],
   "source": [
    "X1 = df2[['RM','DIS','LSTAT','CHAS','TAX','PTRATIO','RAD','NOX']]\n",
    "y1= df2['y']"
   ]
  },
  {
   "cell_type": "code",
   "execution_count": 94,
   "id": "5194ef6a",
   "metadata": {},
   "outputs": [],
   "source": [
    "X1_train, X1_test, y1_train, y1_test = model_selection.train_test_split(X1, y1, test_size = 0.2, random_state = 1234)"
   ]
  },
  {
   "cell_type": "code",
   "execution_count": 95,
   "id": "6c0545d6",
   "metadata": {},
   "outputs": [],
   "source": [
    "linear_svr=SVR(kernel='linear')\n",
    "linear_svr.fit(X1_train,y1_train)\n",
    "linear_svr_y_predict=linear_svr.predict(X1_test)"
   ]
  },
  {
   "cell_type": "code",
   "execution_count": 96,
   "id": "80cc1740",
   "metadata": {},
   "outputs": [
    {
     "name": "stdout",
     "output_type": "stream",
     "text": [
      "0.7653467831772638\n"
     ]
    }
   ],
   "source": [
    "print(linear_svr.score(X1_test,y1_test))"
   ]
  },
  {
   "cell_type": "code",
   "execution_count": 97,
   "id": "b2353741",
   "metadata": {},
   "outputs": [],
   "source": [
    "Adjusted_R2=1 - (1-linear_svr.score(X1_test, y1_test))*(len(y1_test)-1)/(len(y1_test)-X1_test.shape[1]-1)"
   ]
  },
  {
   "cell_type": "code",
   "execution_count": 98,
   "id": "8172ab37",
   "metadata": {},
   "outputs": [
    {
     "data": {
      "text/plain": [
       "0.7451615602247703"
      ]
     },
     "execution_count": 98,
     "metadata": {},
     "output_type": "execute_result"
    }
   ],
   "source": [
    "Adjusted_R2"
   ]
  },
  {
   "cell_type": "markdown",
   "id": "bd8200c8",
   "metadata": {},
   "source": [
    "# When num=1000 svm model  Choose future=7"
   ]
  },
  {
   "cell_type": "code",
   "execution_count": 99,
   "id": "4eb2a3bc",
   "metadata": {},
   "outputs": [],
   "source": [
    "X2 = df2[['RM','DIS','LSTAT','CHAS','TAX','PTRATIO','RAD']]\n",
    "y2= df2['y']"
   ]
  },
  {
   "cell_type": "code",
   "execution_count": 100,
   "id": "3a78f501",
   "metadata": {},
   "outputs": [],
   "source": [
    "X2_train, X2_test, y2_train, y2_test = model_selection.train_test_split(X2, y2, test_size = 0.2, random_state = 1234)"
   ]
  },
  {
   "cell_type": "code",
   "execution_count": 101,
   "id": "fa7f7bf4",
   "metadata": {},
   "outputs": [],
   "source": [
    "linear_svr=SVR(kernel='linear')\n",
    "linear_svr.fit(X2_train,y2_train)\n",
    "linear_svr_y_predict=linear_svr.predict(X2_test)"
   ]
  },
  {
   "cell_type": "code",
   "execution_count": 102,
   "id": "bbea4119",
   "metadata": {},
   "outputs": [
    {
     "name": "stdout",
     "output_type": "stream",
     "text": [
      "0.7764906308541983\n"
     ]
    }
   ],
   "source": [
    "print(linear_svr.score(X2_test,y2_test))"
   ]
  },
  {
   "cell_type": "code",
   "execution_count": 103,
   "id": "755f9f28",
   "metadata": {},
   "outputs": [],
   "source": [
    "Adjusted_R2=1 - (1-linear_svr.score(X2_test, y2_test))*(len(y2_test)-1)/(len(y2_test)-X2_test.shape[1]-1)"
   ]
  },
  {
   "cell_type": "code",
   "execution_count": 104,
   "id": "c1cc7882",
   "metadata": {},
   "outputs": [
    {
     "data": {
      "text/plain": [
       "0.7598463161305749"
      ]
     },
     "execution_count": 104,
     "metadata": {},
     "output_type": "execute_result"
    }
   ],
   "source": [
    "Adjusted_R2"
   ]
  },
  {
   "cell_type": "markdown",
   "id": "8e169698",
   "metadata": {},
   "source": [
    "# When num=1000 svm model  Choose future=6"
   ]
  },
  {
   "cell_type": "code",
   "execution_count": 105,
   "id": "3345afd7",
   "metadata": {},
   "outputs": [],
   "source": [
    "X3 = df2[['RM','DIS','LSTAT','CHAS','TAX','PTRATIO']]\n",
    "y3= df2['y']"
   ]
  },
  {
   "cell_type": "code",
   "execution_count": 106,
   "id": "54f34a61",
   "metadata": {},
   "outputs": [],
   "source": [
    "X3_train, X3_test, y3_train, y3_test = model_selection.train_test_split(X3, y3, test_size = 0.2, random_state = 1234)"
   ]
  },
  {
   "cell_type": "code",
   "execution_count": 107,
   "id": "e608181a",
   "metadata": {},
   "outputs": [],
   "source": [
    "linear_svr=SVR(kernel='linear')\n",
    "linear_svr.fit(X3_train,y3_train)\n",
    "linear_svr_y_predict=linear_svr.predict(X3_test)"
   ]
  },
  {
   "cell_type": "code",
   "execution_count": 108,
   "id": "cf9eb126",
   "metadata": {},
   "outputs": [
    {
     "name": "stdout",
     "output_type": "stream",
     "text": [
      "0.7762662874400335\n"
     ]
    }
   ],
   "source": [
    "print(linear_svr.score(X3_test,y3_test))"
   ]
  },
  {
   "cell_type": "code",
   "execution_count": 109,
   "id": "dae37c1f",
   "metadata": {},
   "outputs": [],
   "source": [
    "Adjusted_R2=1 - (1-linear_svr.score(X3_test, y3_test))*(len(y3_test)-1)/(len(y3_test)-X3_test.shape[1]-1)"
   ]
  },
  {
   "cell_type": "code",
   "execution_count": 110,
   "id": "4165a6e3",
   "metadata": {},
   "outputs": [
    {
     "data": {
      "text/plain": [
       "0.7621357371730881"
      ]
     },
     "execution_count": 110,
     "metadata": {},
     "output_type": "execute_result"
    }
   ],
   "source": [
    "Adjusted_R2"
   ]
  },
  {
   "cell_type": "markdown",
   "id": "fbb73526",
   "metadata": {},
   "source": [
    "# When num=1000 svm model  Choose future=5"
   ]
  },
  {
   "cell_type": "code",
   "execution_count": 111,
   "id": "0fc0edad",
   "metadata": {},
   "outputs": [],
   "source": [
    "X4 = df2[['RM','DIS','LSTAT','CHAS','TAX']]\n",
    "y4= df2['y']"
   ]
  },
  {
   "cell_type": "code",
   "execution_count": 112,
   "id": "346e8605",
   "metadata": {},
   "outputs": [],
   "source": [
    "X4_train, X4_test, y4_train, y4_test = model_selection.train_test_split(X4, y4, test_size = 0.2, random_state = 1234)"
   ]
  },
  {
   "cell_type": "code",
   "execution_count": 113,
   "id": "4947bbe6",
   "metadata": {},
   "outputs": [],
   "source": [
    "linear_svr=SVR(kernel='linear')\n",
    "linear_svr.fit(X4_train,y4_train)\n",
    "linear_svr_y_predict=linear_svr.predict(X4_test)"
   ]
  },
  {
   "cell_type": "code",
   "execution_count": 114,
   "id": "45b09473",
   "metadata": {},
   "outputs": [
    {
     "name": "stdout",
     "output_type": "stream",
     "text": [
      "0.7588526601956682\n"
     ]
    }
   ],
   "source": [
    "print(linear_svr.score(X4_test,y4_test))"
   ]
  },
  {
   "cell_type": "code",
   "execution_count": 115,
   "id": "16c5ca26",
   "metadata": {},
   "outputs": [],
   "source": [
    "Adjusted_R2=1 - (1-linear_svr.score(X4_test, y4_test))*(len(y4_test)-1)/(len(y4_test)-X4_test.shape[1]-1)"
   ]
  },
  {
   "cell_type": "code",
   "execution_count": 116,
   "id": "43706376",
   "metadata": {},
   "outputs": [
    {
     "data": {
      "text/plain": [
       "0.7462929029141926"
      ]
     },
     "execution_count": 116,
     "metadata": {},
     "output_type": "execute_result"
    }
   ],
   "source": [
    "Adjusted_R2"
   ]
  },
  {
   "cell_type": "markdown",
   "id": "f0847dd2",
   "metadata": {},
   "source": [
    "# When num=1000 svm model  Choose future=4"
   ]
  },
  {
   "cell_type": "code",
   "execution_count": 117,
   "id": "f64c6e17",
   "metadata": {},
   "outputs": [],
   "source": [
    "X8 = df2[['RM','DIS','LSTAT','CHAS']]\n",
    "y8= df2['y']"
   ]
  },
  {
   "cell_type": "code",
   "execution_count": 118,
   "id": "904bf274",
   "metadata": {},
   "outputs": [],
   "source": [
    "X8_train, X8_test, y8_train, y8_test = model_selection.train_test_split(X8, y8, test_size = 0.2, random_state = 1234)"
   ]
  },
  {
   "cell_type": "code",
   "execution_count": 119,
   "id": "8d159a79",
   "metadata": {},
   "outputs": [],
   "source": [
    "linear_svr=SVR(kernel='linear')\n",
    "linear_svr.fit(X8_train,y8_train)\n",
    "linear_svr_y_predict=linear_svr.predict(X8_test)"
   ]
  },
  {
   "cell_type": "code",
   "execution_count": 120,
   "id": "e8119930",
   "metadata": {},
   "outputs": [
    {
     "name": "stdout",
     "output_type": "stream",
     "text": [
      "0.7361431520341368\n"
     ]
    }
   ],
   "source": [
    "print(linear_svr.score(X8_test,y8_test))"
   ]
  },
  {
   "cell_type": "code",
   "execution_count": 121,
   "id": "6a575484",
   "metadata": {},
   "outputs": [],
   "source": [
    "Adjusted_R2=1 - (1-linear_svr.score(X8_test, y8_test))*(len(y8_test)-1)/(len(y8_test)-X8_test.shape[1]-1)"
   ]
  },
  {
   "cell_type": "code",
   "execution_count": 122,
   "id": "2d1e59a3",
   "metadata": {},
   "outputs": [
    {
     "data": {
      "text/plain": [
       "0.7252624572726579"
      ]
     },
     "execution_count": 122,
     "metadata": {},
     "output_type": "execute_result"
    }
   ],
   "source": [
    "Adjusted_R2"
   ]
  },
  {
   "cell_type": "markdown",
   "id": "d45dbe38",
   "metadata": {},
   "source": [
    "# When num=1000 svm model  Choose future=3"
   ]
  },
  {
   "cell_type": "code",
   "execution_count": 123,
   "id": "21fa95aa",
   "metadata": {},
   "outputs": [],
   "source": [
    "X9= df2[['RM','DIS','LSTAT']]\n",
    "y9= df2['y']"
   ]
  },
  {
   "cell_type": "code",
   "execution_count": 124,
   "id": "9e4d50c0",
   "metadata": {},
   "outputs": [],
   "source": [
    "X9_train, X9_test, y9_train, y9_test = model_selection.train_test_split(X9, y9, test_size = 0.2, random_state = 1234)"
   ]
  },
  {
   "cell_type": "code",
   "execution_count": 125,
   "id": "0849f694",
   "metadata": {},
   "outputs": [],
   "source": [
    "linear_svr=SVR(kernel='linear')\n",
    "linear_svr.fit(X9_train,y9_train)\n",
    "linear_svr_y_predict=linear_svr.predict(X9_test)"
   ]
  },
  {
   "cell_type": "code",
   "execution_count": 126,
   "id": "8e962704",
   "metadata": {},
   "outputs": [
    {
     "name": "stdout",
     "output_type": "stream",
     "text": [
      "0.7424694364585938\n"
     ]
    }
   ],
   "source": [
    "print(linear_svr.score(X9_test,y9_test))"
   ]
  },
  {
   "cell_type": "code",
   "execution_count": 127,
   "id": "4c539fba",
   "metadata": {},
   "outputs": [],
   "source": [
    "Adjusted_R2=1 - (1-linear_svr.score(X9_test, y9_test))*(len(y9_test)-1)/(len(y9_test)-X9_test.shape[1]-1)"
   ]
  },
  {
   "cell_type": "code",
   "execution_count": 128,
   "id": "e6886871",
   "metadata": {},
   "outputs": [
    {
     "data": {
      "text/plain": [
       "0.7345858477787548"
      ]
     },
     "execution_count": 128,
     "metadata": {},
     "output_type": "execute_result"
    }
   ],
   "source": [
    "Adjusted_R2"
   ]
  },
  {
   "cell_type": "markdown",
   "id": "82aaac6b",
   "metadata": {},
   "source": [
    "# When num=1000 svm model  Choose future=2"
   ]
  },
  {
   "cell_type": "code",
   "execution_count": 129,
   "id": "399a533c",
   "metadata": {},
   "outputs": [],
   "source": [
    "X10= df2[['RM','DIS']]\n",
    "y10= df2['y']"
   ]
  },
  {
   "cell_type": "code",
   "execution_count": 130,
   "id": "a143aca3",
   "metadata": {},
   "outputs": [],
   "source": [
    "X10_train, X10_test, y10_train, y10_test = model_selection.train_test_split(X10, y10, test_size = 0.2, random_state = 1234)"
   ]
  },
  {
   "cell_type": "code",
   "execution_count": 131,
   "id": "d4b1c021",
   "metadata": {},
   "outputs": [],
   "source": [
    "linear_svr=SVR(kernel='linear')\n",
    "linear_svr.fit(X10_train,y10_train)\n",
    "linear_svr_y_predict=linear_svr.predict(X10_test)"
   ]
  },
  {
   "cell_type": "code",
   "execution_count": 132,
   "id": "0fd24646",
   "metadata": {},
   "outputs": [
    {
     "name": "stdout",
     "output_type": "stream",
     "text": [
      "0.6829795722831487\n"
     ]
    }
   ],
   "source": [
    "print(linear_svr.score(X10_test,y10_test))"
   ]
  },
  {
   "cell_type": "code",
   "execution_count": 133,
   "id": "4491cc0c",
   "metadata": {},
   "outputs": [],
   "source": [
    "Adjusted_R2=1 - (1-linear_svr.score(X10_test, y10_test))*(len(y10_test)-1)/(len(y10_test)-X10_test.shape[1]-1)"
   ]
  },
  {
   "cell_type": "code",
   "execution_count": 134,
   "id": "5ddfeaaf",
   "metadata": {},
   "outputs": [
    {
     "data": {
      "text/plain": [
       "0.6765751191979598"
      ]
     },
     "execution_count": 134,
     "metadata": {},
     "output_type": "execute_result"
    }
   ],
   "source": [
    "Adjusted_R2"
   ]
  },
  {
   "cell_type": "markdown",
   "id": "f83e2a34",
   "metadata": {},
   "source": [
    "# NUM=1000 Lime tree model"
   ]
  },
  {
   "cell_type": "code",
   "execution_count": 135,
   "id": "71911a0d",
   "metadata": {},
   "outputs": [],
   "source": [
    "p = {'CRIM' : 3.068858592, 'ZN' : 1.595615433,'INDUS':0.750804129,'NOX':3.112740861,'RM':35.54483943,'DIS':21.11541346,'RAD':4.873859735,'TAX':7.124461371,'PTRATIO':6.765772904,'B':2.871624168,'LSTAT':12.69977917,'CHAS':0.146721347 }"
   ]
  },
  {
   "cell_type": "code",
   "execution_count": 136,
   "id": "42861a21",
   "metadata": {},
   "outputs": [
    {
     "data": {
      "text/plain": [
       "{'CRIM': 3.068858592,\n",
       " 'ZN': 1.595615433,\n",
       " 'INDUS': 0.750804129,\n",
       " 'NOX': 3.112740861,\n",
       " 'RM': 35.54483943,\n",
       " 'DIS': 21.11541346,\n",
       " 'RAD': 4.873859735,\n",
       " 'TAX': 7.124461371,\n",
       " 'PTRATIO': 6.765772904,\n",
       " 'B': 2.871624168,\n",
       " 'LSTAT': 12.69977917,\n",
       " 'CHAS': 0.146721347}"
      ]
     },
     "execution_count": 136,
     "metadata": {},
     "output_type": "execute_result"
    }
   ],
   "source": [
    "p"
   ]
  },
  {
   "cell_type": "code",
   "execution_count": 183,
   "id": "eeda796b",
   "metadata": {},
   "outputs": [
    {
     "data": {
      "text/plain": [
       "{'CRIM': 109.2714628,\n",
       " 'ZN': 70.1925701,\n",
       " 'INDUS': 1.27086035,\n",
       " 'NOX': 124.3825952,\n",
       " 'RM': 316.2347799,\n",
       " 'DIS': 258.2468716,\n",
       " 'RAD': 154.452477,\n",
       " 'TAX': 177.6552403,\n",
       " 'PTRATIO': 176.317928,\n",
       " 'B': 109.9301136,\n",
       " 'LSTAT': 208.8952479,\n",
       " 'CHAS': 190.2284641}"
      ]
     },
     "execution_count": 183,
     "metadata": {},
     "output_type": "execute_result"
    }
   ],
   "source": [
    "d"
   ]
  },
  {
   "cell_type": "code",
   "execution_count": 137,
   "id": "e2936b8f",
   "metadata": {},
   "outputs": [
    {
     "data": {
      "text/plain": [
       "[('INDUS', 1.27086035),\n",
       " ('ZN', 70.1925701),\n",
       " ('CRIM', 109.2714628),\n",
       " ('B', 109.9301136),\n",
       " ('NOX', 124.3825952),\n",
       " ('RAD', 154.452477),\n",
       " ('PTRATIO', 176.317928),\n",
       " ('TAX', 177.6552403),\n",
       " ('CHAS', 190.2284641),\n",
       " ('LSTAT', 208.8952479),\n",
       " ('DIS', 258.2468716),\n",
       " ('RM', 316.2347799)]"
      ]
     },
     "execution_count": 137,
     "metadata": {},
     "output_type": "execute_result"
    }
   ],
   "source": [
    "sorted(d.items(),key=lambda kv:(kv[1], kv[0]))"
   ]
  },
  {
   "cell_type": "markdown",
   "id": "dd324a5a",
   "metadata": {},
   "source": [
    "# When num=1000 svm model  Choose future=11"
   ]
  },
  {
   "cell_type": "code",
   "execution_count": 138,
   "id": "39b4ba3f",
   "metadata": {},
   "outputs": [],
   "source": [
    "X11=df2[['RM','DIS','LSTAT','CHAS','TAX','PTRATIO','RAD','NOX','B','CRIM','ZN']]\n",
    "y11=df2['y']"
   ]
  },
  {
   "cell_type": "code",
   "execution_count": 189,
   "id": "e6816b1b",
   "metadata": {},
   "outputs": [],
   "source": [
    "X11_train, X11_test, y11_train, y11_test = model_selection.train_test_split(X11, y11, test_size = 0.2, random_state = 800)"
   ]
  },
  {
   "cell_type": "code",
   "execution_count": 190,
   "id": "1dfa65d7",
   "metadata": {},
   "outputs": [],
   "source": [
    "linear_svr=SVR(kernel='linear')\n",
    "linear_svr.fit(X11_train,y11_train)\n",
    "linear_svr_y_predict=linear_svr.predict(X11_test)"
   ]
  },
  {
   "cell_type": "code",
   "execution_count": 191,
   "id": "2eb07b8a",
   "metadata": {},
   "outputs": [
    {
     "name": "stdout",
     "output_type": "stream",
     "text": [
      "0.8102100068607868\n"
     ]
    }
   ],
   "source": [
    "print(linear_svr.score(X11_test,y11_test))"
   ]
  },
  {
   "cell_type": "code",
   "execution_count": 192,
   "id": "665d5759",
   "metadata": {},
   "outputs": [],
   "source": [
    "Adjusted_R2=1 - (1-linear_svr.score(X11_test, y11_test))*(len(y11_test)-1)/(len(y11_test)-X11_test.shape[1]-1)"
   ]
  },
  {
   "cell_type": "code",
   "execution_count": 193,
   "id": "3b5c8993",
   "metadata": {},
   "outputs": [
    {
     "data": {
      "text/plain": [
       "0.7893539636586755"
      ]
     },
     "execution_count": 193,
     "metadata": {},
     "output_type": "execute_result"
    }
   ],
   "source": [
    "Adjusted_R2"
   ]
  },
  {
   "cell_type": "markdown",
   "id": "a210224f",
   "metadata": {},
   "source": [
    "# When num=1000 svm model  Choose future=10"
   ]
  },
  {
   "cell_type": "code",
   "execution_count": 194,
   "id": "4d09fe00",
   "metadata": {},
   "outputs": [],
   "source": [
    "X12=df2[['RM','DIS','LSTAT','CHAS','TAX','PTRATIO','RAD','NOX','B','CRIM']]\n",
    "y12=df2['y']"
   ]
  },
  {
   "cell_type": "code",
   "execution_count": 200,
   "id": "48380dd9",
   "metadata": {},
   "outputs": [],
   "source": [
    "X12_train, X12_test, y12_train, y12_test = model_selection.train_test_split(X12, y12, test_size = 0.2, random_state = 800)"
   ]
  },
  {
   "cell_type": "code",
   "execution_count": 201,
   "id": "0d63690a",
   "metadata": {},
   "outputs": [],
   "source": [
    "linear_svr=SVR(kernel='linear')\n",
    "linear_svr.fit(X12_train,y12_train)\n",
    "linear_svr_y_predict=linear_svr.predict(X12_test)"
   ]
  },
  {
   "cell_type": "code",
   "execution_count": 202,
   "id": "284233a8",
   "metadata": {},
   "outputs": [
    {
     "name": "stdout",
     "output_type": "stream",
     "text": [
      "0.8102100068607868\n"
     ]
    }
   ],
   "source": [
    "print(linear_svr.score(X12_test,y12_test))"
   ]
  },
  {
   "cell_type": "code",
   "execution_count": 203,
   "id": "3556389e",
   "metadata": {},
   "outputs": [],
   "source": [
    "Adjusted_R2=1 - (1-linear_svr.score(X12_test, y12_test))*(len(y12_test)-1)/(len(y12_test)-X12_test.shape[1]-1)"
   ]
  },
  {
   "cell_type": "code",
   "execution_count": 204,
   "id": "24eba763",
   "metadata": {},
   "outputs": [
    {
     "data": {
      "text/plain": [
       "0.7893539636586755"
      ]
     },
     "execution_count": 204,
     "metadata": {},
     "output_type": "execute_result"
    }
   ],
   "source": [
    "Adjusted_R2"
   ]
  },
  {
   "cell_type": "markdown",
   "id": "b754eca7",
   "metadata": {},
   "source": [
    "# When num=1000 svm model  Choose future=9"
   ]
  },
  {
   "cell_type": "code",
   "execution_count": 245,
   "id": "519d4865",
   "metadata": {},
   "outputs": [],
   "source": [
    "X13=df2[['RM','DIS']]\n",
    "y13=df2['y']"
   ]
  },
  {
   "cell_type": "code",
   "execution_count": 246,
   "id": "2c58eb20",
   "metadata": {},
   "outputs": [],
   "source": [
    "X13_train, X13_test, y13_train, y13_test = model_selection.train_test_split(X13, y13, test_size = 0.2, random_state = 800)"
   ]
  },
  {
   "cell_type": "code",
   "execution_count": 247,
   "id": "55c6a90a",
   "metadata": {},
   "outputs": [],
   "source": [
    "linear_svr=SVR(kernel='linear')\n",
    "linear_svr.fit(X13_train,y13_train)\n",
    "linear_svr_y_predict=linear_svr.predict(X13_test)"
   ]
  },
  {
   "cell_type": "code",
   "execution_count": 248,
   "id": "536fa510",
   "metadata": {},
   "outputs": [],
   "source": [
    "Adjusted_R2=1 - (1-linear_svr.score(X13_test, y13_test))*(len(y13_test)-1)/(len(y13_test)-X13_test.shape[1]-1)"
   ]
  },
  {
   "cell_type": "code",
   "execution_count": 249,
   "id": "1946016e",
   "metadata": {},
   "outputs": [
    {
     "data": {
      "text/plain": [
       "0.6838795027135375"
      ]
     },
     "execution_count": 249,
     "metadata": {},
     "output_type": "execute_result"
    }
   ],
   "source": [
    "Adjusted_R2"
   ]
  },
  {
   "cell_type": "code",
   "execution_count": null,
   "id": "ee400a5a",
   "metadata": {},
   "outputs": [],
   "source": []
  }
 ],
 "metadata": {
  "kernelspec": {
   "display_name": "Python 3 (ipykernel)",
   "language": "python",
   "name": "python3"
  },
  "language_info": {
   "codemirror_mode": {
    "name": "ipython",
    "version": 3
   },
   "file_extension": ".py",
   "mimetype": "text/x-python",
   "name": "python",
   "nbconvert_exporter": "python",
   "pygments_lexer": "ipython3",
   "version": "3.9.12"
  }
 },
 "nbformat": 4,
 "nbformat_minor": 5
}
